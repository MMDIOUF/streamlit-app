{
 "cells": [
  {
   "cell_type": "markdown",
   "id": "519900f5-0d02-4931-84d5-36d4128962c2",
   "metadata": {},
   "source": [
    "## Préparation du notebook"
   ]
  },
  {
   "cell_type": "markdown",
   "id": "ec8440b0-59df-4178-81ae-4c2f0e2af4fb",
   "metadata": {},
   "source": [
    "## chargement librairies"
   ]
  },
  {
   "cell_type": "code",
   "execution_count": 2,
   "id": "1a1d5d5d",
   "metadata": {},
   "outputs": [],
   "source": [
    "import pandas as pd\n"
   ]
  },
  {
   "cell_type": "code",
   "execution_count": 3,
   "id": "ea5502d0-59ca-4fc1-8999-e8131b6f4984",
   "metadata": {},
   "outputs": [],
   "source": [
    "# import librairies\n",
    "import numpy as np\n",
    "import pandas as pd\n",
    "import seaborn as sns\n",
    "import matplotlib.pyplot as plt\n",
    "from sklearn.linear_model import LinearRegression\n",
    "from sklearn.model_selection import train_test_split\n",
    "from sklearn.preprocessing import StandardScaler\n",
    "from sklearn.cluster import KMeans\n",
    "from sklearn.metrics import silhouette_score, silhouette_samples, davies_bouldin_score\n",
    "\n",
    "from scipy import stats\n",
    "import warnings\n"
   ]
  },
  {
   "cell_type": "code",
   "execution_count": 4,
   "id": "4172127f",
   "metadata": {},
   "outputs": [],
   "source": [
    "from yellowbrick.cluster import KElbowVisualizer, SilhouetteVisualizer"
   ]
  },
  {
   "cell_type": "code",
   "execution_count": 5,
   "id": "ee230e02-2bda-4863-ab18-f26f03ac53bd",
   "metadata": {},
   "outputs": [],
   "source": [
    "warnings.filterwarnings(\"ignore\")"
   ]
  },
  {
   "cell_type": "markdown",
   "id": "40b64228-b3db-437d-a5d5-ea4e28e975eb",
   "metadata": {},
   "source": [
    "## chargement jeu de données"
   ]
  },
  {
   "cell_type": "code",
   "execution_count": 6,
   "id": "a26f3e75-7e39-4208-b8ba-f364cdfb0dcd",
   "metadata": {},
   "outputs": [],
   "source": [
    "# Chargement des données avec pandas\n",
    "data = pd.read_csv('billets.csv', sep=';')"
   ]
  },
  {
   "cell_type": "code",
   "execution_count": 7,
   "id": "c0f64d8b-3807-4ac4-920f-dfeeafb4f30b",
   "metadata": {},
   "outputs": [
    {
     "name": "stdout",
     "output_type": "stream",
     "text": [
      "(1500, 7)\n"
     ]
    }
   ],
   "source": [
    "print(data.shape)"
   ]
  },
  {
   "cell_type": "code",
   "execution_count": 8,
   "id": "b032dac4-cb25-4a26-bcc3-258aa6b4c388",
   "metadata": {},
   "outputs": [
    {
     "name": "stdout",
     "output_type": "stream",
     "text": [
      "<class 'pandas.core.frame.DataFrame'>\n",
      "RangeIndex: 1500 entries, 0 to 1499\n",
      "Data columns (total 7 columns):\n",
      " #   Column        Non-Null Count  Dtype  \n",
      "---  ------        --------------  -----  \n",
      " 0   is_genuine    1500 non-null   bool   \n",
      " 1   diagonal      1500 non-null   float64\n",
      " 2   height_left   1500 non-null   float64\n",
      " 3   height_right  1500 non-null   float64\n",
      " 4   margin_low    1463 non-null   float64\n",
      " 5   margin_up     1500 non-null   float64\n",
      " 6   length        1500 non-null   float64\n",
      "dtypes: bool(1), float64(6)\n",
      "memory usage: 71.9 KB\n"
     ]
    }
   ],
   "source": [
    "data.info()"
   ]
  },
  {
   "cell_type": "code",
   "execution_count": 9,
   "id": "3b1ec213-d938-466d-b14e-fadf907ca9b0",
   "metadata": {},
   "outputs": [
    {
     "data": {
      "text/html": [
       "<div>\n",
       "<style scoped>\n",
       "    .dataframe tbody tr th:only-of-type {\n",
       "        vertical-align: middle;\n",
       "    }\n",
       "\n",
       "    .dataframe tbody tr th {\n",
       "        vertical-align: top;\n",
       "    }\n",
       "\n",
       "    .dataframe thead th {\n",
       "        text-align: right;\n",
       "    }\n",
       "</style>\n",
       "<table border=\"1\" class=\"dataframe\">\n",
       "  <thead>\n",
       "    <tr style=\"text-align: right;\">\n",
       "      <th></th>\n",
       "      <th>is_genuine</th>\n",
       "      <th>diagonal</th>\n",
       "      <th>height_left</th>\n",
       "      <th>height_right</th>\n",
       "      <th>margin_low</th>\n",
       "      <th>margin_up</th>\n",
       "      <th>length</th>\n",
       "    </tr>\n",
       "  </thead>\n",
       "  <tbody>\n",
       "    <tr>\n",
       "      <th>0</th>\n",
       "      <td>True</td>\n",
       "      <td>171.81</td>\n",
       "      <td>104.86</td>\n",
       "      <td>104.95</td>\n",
       "      <td>4.52</td>\n",
       "      <td>2.89</td>\n",
       "      <td>112.83</td>\n",
       "    </tr>\n",
       "    <tr>\n",
       "      <th>1</th>\n",
       "      <td>True</td>\n",
       "      <td>171.46</td>\n",
       "      <td>103.36</td>\n",
       "      <td>103.66</td>\n",
       "      <td>3.77</td>\n",
       "      <td>2.99</td>\n",
       "      <td>113.09</td>\n",
       "    </tr>\n",
       "  </tbody>\n",
       "</table>\n",
       "</div>"
      ],
      "text/plain": [
       "   is_genuine  diagonal  height_left  height_right  margin_low  margin_up  \\\n",
       "0        True    171.81       104.86        104.95        4.52       2.89   \n",
       "1        True    171.46       103.36        103.66        3.77       2.99   \n",
       "\n",
       "   length  \n",
       "0  112.83  \n",
       "1  113.09  "
      ]
     },
     "execution_count": 9,
     "metadata": {},
     "output_type": "execute_result"
    }
   ],
   "source": [
    "data.head(2)"
   ]
  },
  {
   "cell_type": "code",
   "execution_count": 10,
   "id": "807fbf91-7d8d-405a-99fd-267ecc7bef74",
   "metadata": {},
   "outputs": [
    {
     "data": {
      "image/png": "[encoded data removed]",
      "text/plain": [
       "<Figure size 800x550 with 1 Axes>"
      ]
     },
     "metadata": {},
     "output_type": "display_data"
    }
   ],
   "source": [
    "# On affiche le taux de vrais et faux billets du df avec la variable \"is_genuine\"\n",
    "data[['is_genuine']].value_counts().plot.pie(autopct='%.2f')\n",
    "plt.title('Taux de vrais et faux billets')\n",
    "plt.show()"
   ]
  },
  {
   "cell_type": "markdown",
   "id": "dff048fd-516e-4112-9483-18de2f912918",
   "metadata": {},
   "source": [
    "# Préparation des données"
   ]
  },
  {
   "cell_type": "markdown",
   "id": "23d89c65-7494-4ac3-81a1-5522ae39cf1e",
   "metadata": {},
   "source": [
    "## Data cleaning (manquantes, aberrantes, extrêmes)"
   ]
  },
  {
   "cell_type": "code",
   "execution_count": 11,
   "id": "784a0321-e242-46d8-a174-dedf858662bf",
   "metadata": {},
   "outputs": [
    {
     "data": {
      "text/html": [
       "<div>\n",
       "<style scoped>\n",
       "    .dataframe tbody tr th:only-of-type {\n",
       "        vertical-align: middle;\n",
       "    }\n",
       "\n",
       "    .dataframe tbody tr th {\n",
       "        vertical-align: top;\n",
       "    }\n",
       "\n",
       "    .dataframe thead th {\n",
       "        text-align: right;\n",
       "    }\n",
       "</style>\n",
       "<table border=\"1\" class=\"dataframe\">\n",
       "  <thead>\n",
       "    <tr style=\"text-align: right;\">\n",
       "      <th></th>\n",
       "      <th>count</th>\n",
       "      <th>mean</th>\n",
       "      <th>std</th>\n",
       "      <th>min</th>\n",
       "      <th>25%</th>\n",
       "      <th>50%</th>\n",
       "      <th>75%</th>\n",
       "      <th>max</th>\n",
       "    </tr>\n",
       "  </thead>\n",
       "  <tbody>\n",
       "    <tr>\n",
       "      <th>diagonal</th>\n",
       "      <td>1500.0</td>\n",
       "      <td>171.958440</td>\n",
       "      <td>0.305195</td>\n",
       "      <td>171.04</td>\n",
       "      <td>171.750</td>\n",
       "      <td>171.96</td>\n",
       "      <td>172.17</td>\n",
       "      <td>173.01</td>\n",
       "    </tr>\n",
       "    <tr>\n",
       "      <th>height_left</th>\n",
       "      <td>1500.0</td>\n",
       "      <td>104.029533</td>\n",
       "      <td>0.299462</td>\n",
       "      <td>103.14</td>\n",
       "      <td>103.820</td>\n",
       "      <td>104.04</td>\n",
       "      <td>104.23</td>\n",
       "      <td>104.88</td>\n",
       "    </tr>\n",
       "    <tr>\n",
       "      <th>height_right</th>\n",
       "      <td>1500.0</td>\n",
       "      <td>103.920307</td>\n",
       "      <td>0.325627</td>\n",
       "      <td>102.82</td>\n",
       "      <td>103.710</td>\n",
       "      <td>103.92</td>\n",
       "      <td>104.15</td>\n",
       "      <td>104.95</td>\n",
       "    </tr>\n",
       "    <tr>\n",
       "      <th>margin_low</th>\n",
       "      <td>1463.0</td>\n",
       "      <td>4.485967</td>\n",
       "      <td>0.663813</td>\n",
       "      <td>2.98</td>\n",
       "      <td>4.015</td>\n",
       "      <td>4.31</td>\n",
       "      <td>4.87</td>\n",
       "      <td>6.90</td>\n",
       "    </tr>\n",
       "    <tr>\n",
       "      <th>margin_up</th>\n",
       "      <td>1500.0</td>\n",
       "      <td>3.151473</td>\n",
       "      <td>0.231813</td>\n",
       "      <td>2.27</td>\n",
       "      <td>2.990</td>\n",
       "      <td>3.14</td>\n",
       "      <td>3.31</td>\n",
       "      <td>3.91</td>\n",
       "    </tr>\n",
       "    <tr>\n",
       "      <th>length</th>\n",
       "      <td>1500.0</td>\n",
       "      <td>112.678500</td>\n",
       "      <td>0.872730</td>\n",
       "      <td>109.49</td>\n",
       "      <td>112.030</td>\n",
       "      <td>112.96</td>\n",
       "      <td>113.34</td>\n",
       "      <td>114.44</td>\n",
       "    </tr>\n",
       "  </tbody>\n",
       "</table>\n",
       "</div>"
      ],
      "text/plain": [
       "               count        mean       std     min      25%     50%     75%  \\\n",
       "diagonal      1500.0  171.958440  0.305195  171.04  171.750  171.96  172.17   \n",
       "height_left   1500.0  104.029533  0.299462  103.14  103.820  104.04  104.23   \n",
       "height_right  1500.0  103.920307  0.325627  102.82  103.710  103.92  104.15   \n",
       "margin_low    1463.0    4.485967  0.663813    2.98    4.015    4.31    4.87   \n",
       "margin_up     1500.0    3.151473  0.231813    2.27    2.990    3.14    3.31   \n",
       "length        1500.0  112.678500  0.872730  109.49  112.030  112.96  113.34   \n",
       "\n",
       "                 max  \n",
       "diagonal      173.01  \n",
       "height_left   104.88  \n",
       "height_right  104.95  \n",
       "margin_low      6.90  \n",
       "margin_up       3.91  \n",
       "length        114.44  "
      ]
     },
     "execution_count": 11,
     "metadata": {},
     "output_type": "execute_result"
    }
   ],
   "source": [
    "data.describe().transpose()"
   ]
  },
  {
   "cell_type": "markdown",
   "id": "b77410ef-7672-416f-a3e7-c67859e0fd0f",
   "metadata": {},
   "source": [
    "### Manquantes"
   ]
  },
  {
   "cell_type": "code",
   "execution_count": 12,
   "id": "4670ebf3-859e-44c9-9855-342fdba84b12",
   "metadata": {},
   "outputs": [
    {
     "data": {
      "text/plain": [
       "is_genuine       0\n",
       "diagonal         0\n",
       "height_left      0\n",
       "height_right     0\n",
       "margin_low      37\n",
       "margin_up        0\n",
       "length           0\n",
       "dtype: int64"
      ]
     },
     "execution_count": 12,
     "metadata": {},
     "output_type": "execute_result"
    }
   ],
   "source": [
    "pd.isnull(data).sum()"
   ]
  },
  {
   "cell_type": "code",
   "execution_count": 13,
   "id": "071c7814-b4be-4cb7-a6f5-a6ecf15fb831",
   "metadata": {},
   "outputs": [
    {
     "data": {
      "image/png": "[encoded data removed]",
      "text/plain": [
       "<Figure size 800x550 with 1 Axes>"
      ]
     },
     "metadata": {},
     "output_type": "display_data"
    }
   ],
   "source": [
    "import seaborn as sns\n",
    "\n",
    "import matplotlib.pyplot as plt\n",
    "\n",
    "# nous definissons la couleur \n",
    "color = 'viridis' \n",
    "\n",
    "# visualisons à travers un heatmap\n",
    "sns.heatmap(data.isnull(), cmap = color, cbar = False)\n",
    "\n",
    "plt.show()"
   ]
  },
  {
   "cell_type": "code",
   "execution_count": 14,
   "id": "f298c5f3-8cbd-4cda-b0a8-a50d4dd43cac",
   "metadata": {},
   "outputs": [
    {
     "data": {
      "text/html": [
       "<div>\n",
       "<style scoped>\n",
       "    .dataframe tbody tr th:only-of-type {\n",
       "        vertical-align: middle;\n",
       "    }\n",
       "\n",
       "    .dataframe tbody tr th {\n",
       "        vertical-align: top;\n",
       "    }\n",
       "\n",
       "    .dataframe thead th {\n",
       "        text-align: right;\n",
       "    }\n",
       "</style>\n",
       "<table border=\"1\" class=\"dataframe\">\n",
       "  <thead>\n",
       "    <tr style=\"text-align: right;\">\n",
       "      <th></th>\n",
       "      <th>is_genuine</th>\n",
       "      <th>diagonal</th>\n",
       "      <th>height_left</th>\n",
       "      <th>height_right</th>\n",
       "      <th>margin_low</th>\n",
       "      <th>margin_up</th>\n",
       "      <th>length</th>\n",
       "    </tr>\n",
       "  </thead>\n",
       "  <tbody>\n",
       "    <tr>\n",
       "      <th>is_genuine</th>\n",
       "      <td>1.000000</td>\n",
       "      <td>0.132756</td>\n",
       "      <td>-0.379833</td>\n",
       "      <td>-0.485092</td>\n",
       "      <td>-0.783032</td>\n",
       "      <td>-0.606262</td>\n",
       "      <td>0.849285</td>\n",
       "    </tr>\n",
       "    <tr>\n",
       "      <th>diagonal</th>\n",
       "      <td>0.132756</td>\n",
       "      <td>1.000000</td>\n",
       "      <td>0.019472</td>\n",
       "      <td>-0.024492</td>\n",
       "      <td>-0.111534</td>\n",
       "      <td>-0.055649</td>\n",
       "      <td>0.097587</td>\n",
       "    </tr>\n",
       "    <tr>\n",
       "      <th>height_left</th>\n",
       "      <td>-0.379833</td>\n",
       "      <td>0.019472</td>\n",
       "      <td>1.000000</td>\n",
       "      <td>0.242279</td>\n",
       "      <td>0.302643</td>\n",
       "      <td>0.246522</td>\n",
       "      <td>-0.320863</td>\n",
       "    </tr>\n",
       "    <tr>\n",
       "      <th>height_right</th>\n",
       "      <td>-0.485092</td>\n",
       "      <td>-0.024492</td>\n",
       "      <td>0.242279</td>\n",
       "      <td>1.000000</td>\n",
       "      <td>0.391085</td>\n",
       "      <td>0.307005</td>\n",
       "      <td>-0.401751</td>\n",
       "    </tr>\n",
       "    <tr>\n",
       "      <th>margin_low</th>\n",
       "      <td>-0.783032</td>\n",
       "      <td>-0.111534</td>\n",
       "      <td>0.302643</td>\n",
       "      <td>0.391085</td>\n",
       "      <td>1.000000</td>\n",
       "      <td>0.431606</td>\n",
       "      <td>-0.666753</td>\n",
       "    </tr>\n",
       "    <tr>\n",
       "      <th>margin_up</th>\n",
       "      <td>-0.606262</td>\n",
       "      <td>-0.055649</td>\n",
       "      <td>0.246522</td>\n",
       "      <td>0.307005</td>\n",
       "      <td>0.431606</td>\n",
       "      <td>1.000000</td>\n",
       "      <td>-0.520575</td>\n",
       "    </tr>\n",
       "    <tr>\n",
       "      <th>length</th>\n",
       "      <td>0.849285</td>\n",
       "      <td>0.097587</td>\n",
       "      <td>-0.320863</td>\n",
       "      <td>-0.401751</td>\n",
       "      <td>-0.666753</td>\n",
       "      <td>-0.520575</td>\n",
       "      <td>1.000000</td>\n",
       "    </tr>\n",
       "  </tbody>\n",
       "</table>\n",
       "</div>"
      ],
      "text/plain": [
       "              is_genuine  diagonal  height_left  height_right  margin_low  \\\n",
       "is_genuine      1.000000  0.132756    -0.379833     -0.485092   -0.783032   \n",
       "diagonal        0.132756  1.000000     0.019472     -0.024492   -0.111534   \n",
       "height_left    -0.379833  0.019472     1.000000      0.242279    0.302643   \n",
       "height_right   -0.485092 -0.024492     0.242279      1.000000    0.391085   \n",
       "margin_low     -0.783032 -0.111534     0.302643      0.391085    1.000000   \n",
       "margin_up      -0.606262 -0.055649     0.246522      0.307005    0.431606   \n",
       "length          0.849285  0.097587    -0.320863     -0.401751   -0.666753   \n",
       "\n",
       "              margin_up    length  \n",
       "is_genuine    -0.606262  0.849285  \n",
       "diagonal      -0.055649  0.097587  \n",
       "height_left    0.246522 -0.320863  \n",
       "height_right   0.307005 -0.401751  \n",
       "margin_low     0.431606 -0.666753  \n",
       "margin_up      1.000000 -0.520575  \n",
       "length        -0.520575  1.000000  "
      ]
     },
     "execution_count": 14,
     "metadata": {},
     "output_type": "execute_result"
    }
   ],
   "source": [
    "data.corr()"
   ]
  },
  {
   "cell_type": "code",
   "execution_count": 15,
   "id": "ef8db13a-d63d-47fa-8fe9-95587b5b97ac",
   "metadata": {},
   "outputs": [
    {
     "data": {
      "text/plain": [
       "<Axes: >"
      ]
     },
     "execution_count": 15,
     "metadata": {},
     "output_type": "execute_result"
    },
    {
     "data": {
      "image/png": "[encoded data removed]",
      "text/plain": [
       "<Figure size 800x550 with 2 Axes>"
      ]
     },
     "metadata": {},
     "output_type": "display_data"
    }
   ],
   "source": [
    "# Matrice de corrélation\n",
    "correlation_matrix = data[[\"diagonal\",\"height_left\",\"height_right\",\"margin_low\",\"margin_up\",\"length\"]].corr().round(2)\n",
    "\n",
    "sns.heatmap(correlation_matrix,annot=True, cmap='Spectral', vmin=-1, vmax=1)"
   ]
  },
  {
   "cell_type": "markdown",
   "id": "66d56365-1640-46e0-b59c-805fce5db79b",
   "metadata": {},
   "source": [
    "**Remarques :**\n",
    "> \n",
    "> Les plus fortes corrélations sont :\n",
    "> * positive entre la longueur et l'authenticité du billet\n",
    "> * négative entre la marge du bas et l'authenticité du billet"
   ]
  },
  {
   "cell_type": "markdown",
   "id": "05eabd12-791a-4c82-9742-4a0819e6e2cb",
   "metadata": {},
   "source": [
    "## Régression linéaire pour valeurs manquantes"
   ]
  },
  {
   "cell_type": "markdown",
   "id": "7dee3f08-b39b-493e-9b6f-4a5cd4fb19ef",
   "metadata": {},
   "source": [
    "Les valeurs manquantes appartiennent toutes à une variable dépendante continue : on peut calculer les valeurs avec une régression linéaire."
   ]
  },
  {
   "cell_type": "code",
   "execution_count": 16,
   "id": "914c4811-d9ad-4213-a5b9-02cec849739f",
   "metadata": {},
   "outputs": [
    {
     "data": {
      "text/html": [
       "<div>\n",
       "<style scoped>\n",
       "    .dataframe tbody tr th:only-of-type {\n",
       "        vertical-align: middle;\n",
       "    }\n",
       "\n",
       "    .dataframe tbody tr th {\n",
       "        vertical-align: top;\n",
       "    }\n",
       "\n",
       "    .dataframe thead th {\n",
       "        text-align: right;\n",
       "    }\n",
       "</style>\n",
       "<table border=\"1\" class=\"dataframe\">\n",
       "  <thead>\n",
       "    <tr style=\"text-align: right;\">\n",
       "      <th></th>\n",
       "      <th>is_genuine</th>\n",
       "      <th>diagonal</th>\n",
       "      <th>height_left</th>\n",
       "      <th>height_right</th>\n",
       "      <th>margin_low</th>\n",
       "      <th>margin_up</th>\n",
       "      <th>length</th>\n",
       "    </tr>\n",
       "  </thead>\n",
       "  <tbody>\n",
       "    <tr>\n",
       "      <th>165</th>\n",
       "      <td>True</td>\n",
       "      <td>171.81</td>\n",
       "      <td>103.53</td>\n",
       "      <td>103.76</td>\n",
       "      <td>3.91</td>\n",
       "      <td>2.87</td>\n",
       "      <td>113.52</td>\n",
       "    </tr>\n",
       "    <tr>\n",
       "      <th>171</th>\n",
       "      <td>True</td>\n",
       "      <td>172.40</td>\n",
       "      <td>103.51</td>\n",
       "      <td>103.52</td>\n",
       "      <td>3.68</td>\n",
       "      <td>3.16</td>\n",
       "      <td>113.35</td>\n",
       "    </tr>\n",
       "    <tr>\n",
       "      <th>1258</th>\n",
       "      <td>False</td>\n",
       "      <td>172.42</td>\n",
       "      <td>103.69</td>\n",
       "      <td>104.29</td>\n",
       "      <td>5.25</td>\n",
       "      <td>3.33</td>\n",
       "      <td>110.70</td>\n",
       "    </tr>\n",
       "    <tr>\n",
       "      <th>125</th>\n",
       "      <td>True</td>\n",
       "      <td>171.50</td>\n",
       "      <td>104.03</td>\n",
       "      <td>103.97</td>\n",
       "      <td>3.26</td>\n",
       "      <td>3.54</td>\n",
       "      <td>113.24</td>\n",
       "    </tr>\n",
       "    <tr>\n",
       "      <th>280</th>\n",
       "      <td>True</td>\n",
       "      <td>171.85</td>\n",
       "      <td>103.64</td>\n",
       "      <td>103.63</td>\n",
       "      <td>3.73</td>\n",
       "      <td>3.29</td>\n",
       "      <td>112.95</td>\n",
       "    </tr>\n",
       "  </tbody>\n",
       "</table>\n",
       "</div>"
      ],
      "text/plain": [
       "      is_genuine  diagonal  height_left  height_right  margin_low  margin_up  \\\n",
       "165         True    171.81       103.53        103.76        3.91       2.87   \n",
       "171         True    172.40       103.51        103.52        3.68       3.16   \n",
       "1258       False    172.42       103.69        104.29        5.25       3.33   \n",
       "125         True    171.50       104.03        103.97        3.26       3.54   \n",
       "280         True    171.85       103.64        103.63        3.73       3.29   \n",
       "\n",
       "      length  \n",
       "165   113.52  \n",
       "171   113.35  \n",
       "1258  110.70  \n",
       "125   113.24  \n",
       "280   112.95  "
      ]
     },
     "execution_count": 16,
     "metadata": {},
     "output_type": "execute_result"
    }
   ],
   "source": [
    "data.sample(5)"
   ]
  },
  {
   "cell_type": "code",
   "execution_count": 17,
   "id": "5e741562-3043-498e-9538-84979b22a90b",
   "metadata": {},
   "outputs": [],
   "source": [
    "# On prépare les données\n",
    "df = data.copy()\n",
    "\n",
    "# On convertit les bool en int\n",
    "df[\"is_genuine\"] = df[\"is_genuine\"].astype(int)"
   ]
  },
  {
   "cell_type": "code",
   "execution_count": 18,
   "id": "ef5784fe-26b0-42bb-8f60-f659a30075be",
   "metadata": {},
   "outputs": [],
   "source": [
    "# on recupere lignes nan sur 'df_na'\n",
    "df_na = df[df[\"margin_low\"].isnull()]\n",
    "\n",
    "# suppression des nan de 'df'\n",
    "df.dropna(inplace=True)"
   ]
  },
  {
   "cell_type": "code",
   "execution_count": 19,
   "id": "98966db3-65df-4945-90a1-7edb768ff743",
   "metadata": {},
   "outputs": [
    {
     "data": {
      "text/plain": [
       "is_genuine      0\n",
       "diagonal        0\n",
       "height_left     0\n",
       "height_right    0\n",
       "margin_low      0\n",
       "margin_up       0\n",
       "length          0\n",
       "dtype: int64"
      ]
     },
     "execution_count": 19,
     "metadata": {},
     "output_type": "execute_result"
    }
   ],
   "source": [
    "pd.isnull(df).sum()"
   ]
  },
  {
   "cell_type": "code",
   "execution_count": 20,
   "id": "ed5a6c2d-19b1-454d-95dd-be6d9e402989",
   "metadata": {},
   "outputs": [
    {
     "name": "stdout",
     "output_type": "stream",
     "text": [
      "<class 'pandas.core.frame.DataFrame'>\n",
      "Index: 1463 entries, 0 to 1499\n",
      "Data columns (total 7 columns):\n",
      " #   Column        Non-Null Count  Dtype  \n",
      "---  ------        --------------  -----  \n",
      " 0   is_genuine    1463 non-null   int64  \n",
      " 1   diagonal      1463 non-null   float64\n",
      " 2   height_left   1463 non-null   float64\n",
      " 3   height_right  1463 non-null   float64\n",
      " 4   margin_low    1463 non-null   float64\n",
      " 5   margin_up     1463 non-null   float64\n",
      " 6   length        1463 non-null   float64\n",
      "dtypes: float64(6), int64(1)\n",
      "memory usage: 91.4 KB\n"
     ]
    }
   ],
   "source": [
    "df.info()"
   ]
  },
  {
   "cell_type": "markdown",
   "id": "681a3021-e44c-45f0-8075-853dd0df033b",
   "metadata": {},
   "source": [
    "### Recherche modèle avec le meilleur r2"
   ]
  },
  {
   "cell_type": "code",
   "execution_count": 21,
   "id": "b53f1d89-232b-4421-8f72-de45718f46f0",
   "metadata": {},
   "outputs": [],
   "source": [
    "# Choix du model de régression\n",
    "y = df[\"margin_low\"]\n",
    "\n",
    "X = df[[\"margin_up\", \"is_genuine\"]]\n",
    "\n",
    "# Splitting the data into train and test split\n",
    "X_train, X_test, y_train, y_test = train_test_split(X, y, test_size=0.2, random_state=42)"
   ]
  },
  {
   "cell_type": "code",
   "execution_count": 22,
   "id": "7405cd24-9a0f-46fd-8f21-db2be442d0b2",
   "metadata": {},
   "outputs": [],
   "source": [
    "from sklearn.linear_model import LogisticRegression, LinearRegression, Ridge, Lasso, SGDRegressor\n",
    "from time import time\n",
    "from sklearn import metrics\n",
    "regressors = [LinearRegression(), Lasso()]"
   ]
  },
  {
   "cell_type": "code",
   "execution_count": 23,
   "id": "55b67161-14af-4bc6-968d-426a4ea75f59",
   "metadata": {},
   "outputs": [
    {
     "name": "stdout",
     "output_type": "stream",
     "text": [
      "LinearRegression()\n",
      "\tTraining time: 0.042s\n",
      "\tPrediction time: 0.016s\n",
      "\tExplained variance: 0.6743376377018512\n",
      "\tMean absolute error: 0.2897307135185014\n",
      "\tR2 score: 0.6736214684077528\n",
      "\n",
      "Lasso()\n",
      "\tTraining time: 0.000s\n",
      "\tPrediction time: 0.000s\n",
      "\tExplained variance: 0.0\n",
      "\tMean absolute error: 0.5212680493567866\n",
      "\tR2 score: -8.248054288073625e-05\n",
      "\n"
     ]
    }
   ],
   "source": [
    "head = 10\n",
    "for model in regressors[:head]:\n",
    "    start = time()\n",
    "    model.fit(X_train, y_train)\n",
    "    train_time = time() - start\n",
    "    start = time()\n",
    "    y_pred = model.predict(X_test)\n",
    "    predict_time = time()-start    \n",
    "    print(model)\n",
    "    print(\"\\tTraining time: %0.3fs\" % train_time)\n",
    "    print(\"\\tPrediction time: %0.3fs\" % predict_time)\n",
    "    print(\"\\tExplained variance:\", metrics.explained_variance_score(y_test, y_pred))\n",
    "    print(\"\\tMean absolute error:\", metrics.mean_absolute_error(y_test, y_pred))\n",
    "    print(\"\\tR2 score:\", metrics.r2_score(y_test, y_pred))\n",
    "    print()"
   ]
  },
  {
   "cell_type": "markdown",
   "id": "5acb0560-cf4e-49a9-99ff-22fa9f36a4e1",
   "metadata": {},
   "source": [
    "### Optimisation linear regression"
   ]
  },
  {
   "cell_type": "code",
   "execution_count": 24,
   "id": "4bf740b9-349a-4bb7-9d7e-e45b9c9adf3d",
   "metadata": {},
   "outputs": [
    {
     "data": {
      "text/html": [
       "<style>#sk-container-id-1 {\n",
       "  /* Definition of color scheme common for light and dark mode */\n",
       "  --sklearn-color-text: black;\n",
       "  --sklearn-color-line: gray;\n",
       "  /* Definition of color scheme for unfitted estimators */\n",
       "  --sklearn-color-unfitted-level-0: #fff5e6;\n",
       "  --sklearn-color-unfitted-level-1: #f6e4d2;\n",
       "  --sklearn-color-unfitted-level-2: #ffe0b3;\n",
       "  --sklearn-color-unfitted-level-3: chocolate;\n",
       "  /* Definition of color scheme for fitted estimators */\n",
       "  --sklearn-color-fitted-level-0: #f0f8ff;\n",
       "  --sklearn-color-fitted-level-1: #d4ebff;\n",
       "  --sklearn-color-fitted-level-2: #b3dbfd;\n",
       "  --sklearn-color-fitted-level-3: cornflowerblue;\n",
       "\n",
       "  /* Specific color for light theme */\n",
       "  --sklearn-color-text-on-default-background: var(--sg-text-color, var(--theme-code-foreground, var(--jp-content-font-color1, black)));\n",
       "  --sklearn-color-background: var(--sg-background-color, var(--theme-background, var(--jp-layout-color0, white)));\n",
       "  --sklearn-color-border-box: var(--sg-text-color, var(--theme-code-foreground, var(--jp-content-font-color1, black)));\n",
       "  --sklearn-color-icon: #696969;\n",
       "\n",
       "  @media (prefers-color-scheme: dark) {\n",
       "    /* Redefinition of color scheme for dark theme */\n",
       "    --sklearn-color-text-on-default-background: var(--sg-text-color, var(--theme-code-foreground, var(--jp-content-font-color1, white)));\n",
       "    --sklearn-color-background: var(--sg-background-color, var(--theme-background, var(--jp-layout-color0, #111)));\n",
       "    --sklearn-color-border-box: var(--sg-text-color, var(--theme-code-foreground, var(--jp-content-font-color1, white)));\n",
       "    --sklearn-color-icon: #878787;\n",
       "  }\n",
       "}\n",
       "\n",
       "#sk-container-id-1 {\n",
       "  color: var(--sklearn-color-text);\n",
       "}\n",
       "\n",
       "#sk-container-id-1 pre {\n",
       "  padding: 0;\n",
       "}\n",
       "\n",
       "#sk-container-id-1 input.sk-hidden--visually {\n",
       "  border: 0;\n",
       "  clip: rect(1px 1px 1px 1px);\n",
       "  clip: rect(1px, 1px, 1px, 1px);\n",
       "  height: 1px;\n",
       "  margin: -1px;\n",
       "  overflow: hidden;\n",
       "  padding: 0;\n",
       "  position: absolute;\n",
       "  width: 1px;\n",
       "}\n",
       "\n",
       "#sk-container-id-1 div.sk-dashed-wrapped {\n",
       "  border: 1px dashed var(--sklearn-color-line);\n",
       "  margin: 0 0.4em 0.5em 0.4em;\n",
       "  box-sizing: border-box;\n",
       "  padding-bottom: 0.4em;\n",
       "  background-color: var(--sklearn-color-background);\n",
       "}\n",
       "\n",
       "#sk-container-id-1 div.sk-container {\n",
       "  /* jupyter's `normalize.less` sets `[hidden] { display: none; }`\n",
       "     but bootstrap.min.css set `[hidden] { display: none !important; }`\n",
       "     so we also need the `!important` here to be able to override the\n",
       "     default hidden behavior on the sphinx rendered scikit-learn.org.\n",
       "     See: https://github.com/scikit-learn/scikit-learn/issues/21755 */\n",
       "  display: inline-block !important;\n",
       "  position: relative;\n",
       "}\n",
       "\n",
       "#sk-container-id-1 div.sk-text-repr-fallback {\n",
       "  display: none;\n",
       "}\n",
       "\n",
       "div.sk-parallel-item,\n",
       "div.sk-serial,\n",
       "div.sk-item {\n",
       "  /* draw centered vertical line to link estimators */\n",
       "  background-image: linear-gradient(var(--sklearn-color-text-on-default-background), var(--sklearn-color-text-on-default-background));\n",
       "  background-size: 2px 100%;\n",
       "  background-repeat: no-repeat;\n",
       "  background-position: center center;\n",
       "}\n",
       "\n",
       "/* Parallel-specific style estimator block */\n",
       "\n",
       "#sk-container-id-1 div.sk-parallel-item::after {\n",
       "  content: \"\";\n",
       "  width: 100%;\n",
       "  border-bottom: 2px solid var(--sklearn-color-text-on-default-background);\n",
       "  flex-grow: 1;\n",
       "}\n",
       "\n",
       "#sk-container-id-1 div.sk-parallel {\n",
       "  display: flex;\n",
       "  align-items: stretch;\n",
       "  justify-content: center;\n",
       "  background-color: var(--sklearn-color-background);\n",
       "  position: relative;\n",
       "}\n",
       "\n",
       "#sk-container-id-1 div.sk-parallel-item {\n",
       "  display: flex;\n",
       "  flex-direction: column;\n",
       "}\n",
       "\n",
       "#sk-container-id-1 div.sk-parallel-item:first-child::after {\n",
       "  align-self: flex-end;\n",
       "  width: 50%;\n",
       "}\n",
       "\n",
       "#sk-container-id-1 div.sk-parallel-item:last-child::after {\n",
       "  align-self: flex-start;\n",
       "  width: 50%;\n",
       "}\n",
       "\n",
       "#sk-container-id-1 div.sk-parallel-item:only-child::after {\n",
       "  width: 0;\n",
       "}\n",
       "\n",
       "/* Serial-specific style estimator block */\n",
       "\n",
       "#sk-container-id-1 div.sk-serial {\n",
       "  display: flex;\n",
       "  flex-direction: column;\n",
       "  align-items: center;\n",
       "  background-color: var(--sklearn-color-background);\n",
       "  padding-right: 1em;\n",
       "  padding-left: 1em;\n",
       "}\n",
       "\n",
       "\n",
       "/* Toggleable style: style used for estimator/Pipeline/ColumnTransformer box that is\n",
       "clickable and can be expanded/collapsed.\n",
       "- Pipeline and ColumnTransformer use this feature and define the default style\n",
       "- Estimators will overwrite some part of the style using the `sk-estimator` class\n",
       "*/\n",
       "\n",
       "/* Pipeline and ColumnTransformer style (default) */\n",
       "\n",
       "#sk-container-id-1 div.sk-toggleable {\n",
       "  /* Default theme specific background. It is overwritten whether we have a\n",
       "  specific estimator or a Pipeline/ColumnTransformer */\n",
       "  background-color: var(--sklearn-color-background);\n",
       "}\n",
       "\n",
       "/* Toggleable label */\n",
       "#sk-container-id-1 label.sk-toggleable__label {\n",
       "  cursor: pointer;\n",
       "  display: block;\n",
       "  width: 100%;\n",
       "  margin-bottom: 0;\n",
       "  padding: 0.5em;\n",
       "  box-sizing: border-box;\n",
       "  text-align: center;\n",
       "}\n",
       "\n",
       "#sk-container-id-1 label.sk-toggleable__label-arrow:before {\n",
       "  /* Arrow on the left of the label */\n",
       "  content: \"▸\";\n",
       "  float: left;\n",
       "  margin-right: 0.25em;\n",
       "  color: var(--sklearn-color-icon);\n",
       "}\n",
       "\n",
       "#sk-container-id-1 label.sk-toggleable__label-arrow:hover:before {\n",
       "  color: var(--sklearn-color-text);\n",
       "}\n",
       "\n",
       "/* Toggleable content - dropdown */\n",
       "\n",
       "#sk-container-id-1 div.sk-toggleable__content {\n",
       "  max-height: 0;\n",
       "  max-width: 0;\n",
       "  overflow: hidden;\n",
       "  text-align: left;\n",
       "  /* unfitted */\n",
       "  background-color: var(--sklearn-color-unfitted-level-0);\n",
       "}\n",
       "\n",
       "#sk-container-id-1 div.sk-toggleable__content.fitted {\n",
       "  /* fitted */\n",
       "  background-color: var(--sklearn-color-fitted-level-0);\n",
       "}\n",
       "\n",
       "#sk-container-id-1 div.sk-toggleable__content pre {\n",
       "  margin: 0.2em;\n",
       "  border-radius: 0.25em;\n",
       "  color: var(--sklearn-color-text);\n",
       "  /* unfitted */\n",
       "  background-color: var(--sklearn-color-unfitted-level-0);\n",
       "}\n",
       "\n",
       "#sk-container-id-1 div.sk-toggleable__content.fitted pre {\n",
       "  /* unfitted */\n",
       "  background-color: var(--sklearn-color-fitted-level-0);\n",
       "}\n",
       "\n",
       "#sk-container-id-1 input.sk-toggleable__control:checked~div.sk-toggleable__content {\n",
       "  /* Expand drop-down */\n",
       "  max-height: 200px;\n",
       "  max-width: 100%;\n",
       "  overflow: auto;\n",
       "}\n",
       "\n",
       "#sk-container-id-1 input.sk-toggleable__control:checked~label.sk-toggleable__label-arrow:before {\n",
       "  content: \"▾\";\n",
       "}\n",
       "\n",
       "/* Pipeline/ColumnTransformer-specific style */\n",
       "\n",
       "#sk-container-id-1 div.sk-label input.sk-toggleable__control:checked~label.sk-toggleable__label {\n",
       "  color: var(--sklearn-color-text);\n",
       "  background-color: var(--sklearn-color-unfitted-level-2);\n",
       "}\n",
       "\n",
       "#sk-container-id-1 div.sk-label.fitted input.sk-toggleable__control:checked~label.sk-toggleable__label {\n",
       "  background-color: var(--sklearn-color-fitted-level-2);\n",
       "}\n",
       "\n",
       "/* Estimator-specific style */\n",
       "\n",
       "/* Colorize estimator box */\n",
       "#sk-container-id-1 div.sk-estimator input.sk-toggleable__control:checked~label.sk-toggleable__label {\n",
       "  /* unfitted */\n",
       "  background-color: var(--sklearn-color-unfitted-level-2);\n",
       "}\n",
       "\n",
       "#sk-container-id-1 div.sk-estimator.fitted input.sk-toggleable__control:checked~label.sk-toggleable__label {\n",
       "  /* fitted */\n",
       "  background-color: var(--sklearn-color-fitted-level-2);\n",
       "}\n",
       "\n",
       "#sk-container-id-1 div.sk-label label.sk-toggleable__label,\n",
       "#sk-container-id-1 div.sk-label label {\n",
       "  /* The background is the default theme color */\n",
       "  color: var(--sklearn-color-text-on-default-background);\n",
       "}\n",
       "\n",
       "/* On hover, darken the color of the background */\n",
       "#sk-container-id-1 div.sk-label:hover label.sk-toggleable__label {\n",
       "  color: var(--sklearn-color-text);\n",
       "  background-color: var(--sklearn-color-unfitted-level-2);\n",
       "}\n",
       "\n",
       "/* Label box, darken color on hover, fitted */\n",
       "#sk-container-id-1 div.sk-label.fitted:hover label.sk-toggleable__label.fitted {\n",
       "  color: var(--sklearn-color-text);\n",
       "  background-color: var(--sklearn-color-fitted-level-2);\n",
       "}\n",
       "\n",
       "/* Estimator label */\n",
       "\n",
       "#sk-container-id-1 div.sk-label label {\n",
       "  font-family: monospace;\n",
       "  font-weight: bold;\n",
       "  display: inline-block;\n",
       "  line-height: 1.2em;\n",
       "}\n",
       "\n",
       "#sk-container-id-1 div.sk-label-container {\n",
       "  text-align: center;\n",
       "}\n",
       "\n",
       "/* Estimator-specific */\n",
       "#sk-container-id-1 div.sk-estimator {\n",
       "  font-family: monospace;\n",
       "  border: 1px dotted var(--sklearn-color-border-box);\n",
       "  border-radius: 0.25em;\n",
       "  box-sizing: border-box;\n",
       "  margin-bottom: 0.5em;\n",
       "  /* unfitted */\n",
       "  background-color: var(--sklearn-color-unfitted-level-0);\n",
       "}\n",
       "\n",
       "#sk-container-id-1 div.sk-estimator.fitted {\n",
       "  /* fitted */\n",
       "  background-color: var(--sklearn-color-fitted-level-0);\n",
       "}\n",
       "\n",
       "/* on hover */\n",
       "#sk-container-id-1 div.sk-estimator:hover {\n",
       "  /* unfitted */\n",
       "  background-color: var(--sklearn-color-unfitted-level-2);\n",
       "}\n",
       "\n",
       "#sk-container-id-1 div.sk-estimator.fitted:hover {\n",
       "  /* fitted */\n",
       "  background-color: var(--sklearn-color-fitted-level-2);\n",
       "}\n",
       "\n",
       "/* Specification for estimator info (e.g. \"i\" and \"?\") */\n",
       "\n",
       "/* Common style for \"i\" and \"?\" */\n",
       "\n",
       ".sk-estimator-doc-link,\n",
       "a:link.sk-estimator-doc-link,\n",
       "a:visited.sk-estimator-doc-link {\n",
       "  float: right;\n",
       "  font-size: smaller;\n",
       "  line-height: 1em;\n",
       "  font-family: monospace;\n",
       "  background-color: var(--sklearn-color-background);\n",
       "  border-radius: 1em;\n",
       "  height: 1em;\n",
       "  width: 1em;\n",
       "  text-decoration: none !important;\n",
       "  margin-left: 1ex;\n",
       "  /* unfitted */\n",
       "  border: var(--sklearn-color-unfitted-level-1) 1pt solid;\n",
       "  color: var(--sklearn-color-unfitted-level-1);\n",
       "}\n",
       "\n",
       ".sk-estimator-doc-link.fitted,\n",
       "a:link.sk-estimator-doc-link.fitted,\n",
       "a:visited.sk-estimator-doc-link.fitted {\n",
       "  /* fitted */\n",
       "  border: var(--sklearn-color-fitted-level-1) 1pt solid;\n",
       "  color: var(--sklearn-color-fitted-level-1);\n",
       "}\n",
       "\n",
       "/* On hover */\n",
       "div.sk-estimator:hover .sk-estimator-doc-link:hover,\n",
       ".sk-estimator-doc-link:hover,\n",
       "div.sk-label-container:hover .sk-estimator-doc-link:hover,\n",
       ".sk-estimator-doc-link:hover {\n",
       "  /* unfitted */\n",
       "  background-color: var(--sklearn-color-unfitted-level-3);\n",
       "  color: var(--sklearn-color-background);\n",
       "  text-decoration: none;\n",
       "}\n",
       "\n",
       "div.sk-estimator.fitted:hover .sk-estimator-doc-link.fitted:hover,\n",
       ".sk-estimator-doc-link.fitted:hover,\n",
       "div.sk-label-container:hover .sk-estimator-doc-link.fitted:hover,\n",
       ".sk-estimator-doc-link.fitted:hover {\n",
       "  /* fitted */\n",
       "  background-color: var(--sklearn-color-fitted-level-3);\n",
       "  color: var(--sklearn-color-background);\n",
       "  text-decoration: none;\n",
       "}\n",
       "\n",
       "/* Span, style for the box shown on hovering the info icon */\n",
       ".sk-estimator-doc-link span {\n",
       "  display: none;\n",
       "  z-index: 9999;\n",
       "  position: relative;\n",
       "  font-weight: normal;\n",
       "  right: .2ex;\n",
       "  padding: .5ex;\n",
       "  margin: .5ex;\n",
       "  width: min-content;\n",
       "  min-width: 20ex;\n",
       "  max-width: 50ex;\n",
       "  color: var(--sklearn-color-text);\n",
       "  box-shadow: 2pt 2pt 4pt #999;\n",
       "  /* unfitted */\n",
       "  background: var(--sklearn-color-unfitted-level-0);\n",
       "  border: .5pt solid var(--sklearn-color-unfitted-level-3);\n",
       "}\n",
       "\n",
       ".sk-estimator-doc-link.fitted span {\n",
       "  /* fitted */\n",
       "  background: var(--sklearn-color-fitted-level-0);\n",
       "  border: var(--sklearn-color-fitted-level-3);\n",
       "}\n",
       "\n",
       ".sk-estimator-doc-link:hover span {\n",
       "  display: block;\n",
       "}\n",
       "\n",
       "/* \"?\"-specific style due to the `<a>` HTML tag */\n",
       "\n",
       "#sk-container-id-1 a.estimator_doc_link {\n",
       "  float: right;\n",
       "  font-size: 1rem;\n",
       "  line-height: 1em;\n",
       "  font-family: monospace;\n",
       "  background-color: var(--sklearn-color-background);\n",
       "  border-radius: 1rem;\n",
       "  height: 1rem;\n",
       "  width: 1rem;\n",
       "  text-decoration: none;\n",
       "  /* unfitted */\n",
       "  color: var(--sklearn-color-unfitted-level-1);\n",
       "  border: var(--sklearn-color-unfitted-level-1) 1pt solid;\n",
       "}\n",
       "\n",
       "#sk-container-id-1 a.estimator_doc_link.fitted {\n",
       "  /* fitted */\n",
       "  border: var(--sklearn-color-fitted-level-1) 1pt solid;\n",
       "  color: var(--sklearn-color-fitted-level-1);\n",
       "}\n",
       "\n",
       "/* On hover */\n",
       "#sk-container-id-1 a.estimator_doc_link:hover {\n",
       "  /* unfitted */\n",
       "  background-color: var(--sklearn-color-unfitted-level-3);\n",
       "  color: var(--sklearn-color-background);\n",
       "  text-decoration: none;\n",
       "}\n",
       "\n",
       "#sk-container-id-1 a.estimator_doc_link.fitted:hover {\n",
       "  /* fitted */\n",
       "  background-color: var(--sklearn-color-fitted-level-3);\n",
       "}\n",
       "</style><div id=\"sk-container-id-1\" class=\"sk-top-container\"><div class=\"sk-text-repr-fallback\"><pre>GridSearchCV(cv=5,\n",
       "             estimator=Pipeline(steps=[(&#x27;scaler&#x27;, StandardScaler()),\n",
       "                                       (&#x27;estimator&#x27;, LinearRegression())]),\n",
       "             param_grid={})</pre><b>In a Jupyter environment, please rerun this cell to show the HTML representation or trust the notebook. <br />On GitHub, the HTML representation is unable to render, please try loading this page with nbviewer.org.</b></div><div class=\"sk-container\" hidden><div class=\"sk-item sk-dashed-wrapped\"><div class=\"sk-label-container\"><div class=\"sk-label fitted sk-toggleable\"><input class=\"sk-toggleable__control sk-hidden--visually\" id=\"sk-estimator-id-1\" type=\"checkbox\" ><label for=\"sk-estimator-id-1\" class=\"sk-toggleable__label fitted sk-toggleable__label-arrow fitted\">&nbsp;&nbsp;GridSearchCV<a class=\"sk-estimator-doc-link fitted\" rel=\"noreferrer\" target=\"_blank\" href=\"https://scikit-learn.org/1.5/modules/generated/sklearn.model_selection.GridSearchCV.html\">?<span>Documentation for GridSearchCV</span></a><span class=\"sk-estimator-doc-link fitted\">i<span>Fitted</span></span></label><div class=\"sk-toggleable__content fitted\"><pre>GridSearchCV(cv=5,\n",
       "             estimator=Pipeline(steps=[(&#x27;scaler&#x27;, StandardScaler()),\n",
       "                                       (&#x27;estimator&#x27;, LinearRegression())]),\n",
       "             param_grid={})</pre></div> </div></div><div class=\"sk-parallel\"><div class=\"sk-parallel-item\"><div class=\"sk-item\"><div class=\"sk-label-container\"><div class=\"sk-label fitted sk-toggleable\"><input class=\"sk-toggleable__control sk-hidden--visually\" id=\"sk-estimator-id-2\" type=\"checkbox\" ><label for=\"sk-estimator-id-2\" class=\"sk-toggleable__label fitted sk-toggleable__label-arrow fitted\">best_estimator_: Pipeline</label><div class=\"sk-toggleable__content fitted\"><pre>Pipeline(steps=[(&#x27;scaler&#x27;, StandardScaler()),\n",
       "                (&#x27;estimator&#x27;, LinearRegression())])</pre></div> </div></div><div class=\"sk-serial\"><div class=\"sk-item\"><div class=\"sk-serial\"><div class=\"sk-item\"><div class=\"sk-estimator fitted sk-toggleable\"><input class=\"sk-toggleable__control sk-hidden--visually\" id=\"sk-estimator-id-3\" type=\"checkbox\" ><label for=\"sk-estimator-id-3\" class=\"sk-toggleable__label fitted sk-toggleable__label-arrow fitted\">&nbsp;StandardScaler<a class=\"sk-estimator-doc-link fitted\" rel=\"noreferrer\" target=\"_blank\" href=\"https://scikit-learn.org/1.5/modules/generated/sklearn.preprocessing.StandardScaler.html\">?<span>Documentation for StandardScaler</span></a></label><div class=\"sk-toggleable__content fitted\"><pre>StandardScaler()</pre></div> </div></div><div class=\"sk-item\"><div class=\"sk-estimator fitted sk-toggleable\"><input class=\"sk-toggleable__control sk-hidden--visually\" id=\"sk-estimator-id-4\" type=\"checkbox\" ><label for=\"sk-estimator-id-4\" class=\"sk-toggleable__label fitted sk-toggleable__label-arrow fitted\">&nbsp;LinearRegression<a class=\"sk-estimator-doc-link fitted\" rel=\"noreferrer\" target=\"_blank\" href=\"https://scikit-learn.org/1.5/modules/generated/sklearn.linear_model.LinearRegression.html\">?<span>Documentation for LinearRegression</span></a></label><div class=\"sk-toggleable__content fitted\"><pre>LinearRegression()</pre></div> </div></div></div></div></div></div></div></div></div></div></div>"
      ],
      "text/plain": [
       "GridSearchCV(cv=5,\n",
       "             estimator=Pipeline(steps=[('scaler', StandardScaler()),\n",
       "                                       ('estimator', LinearRegression())]),\n",
       "             param_grid={})"
      ]
     },
     "execution_count": 24,
     "metadata": {},
     "output_type": "execute_result"
    }
   ],
   "source": [
    "from sklearn.pipeline import Pipeline\n",
    "from sklearn.preprocessing import StandardScaler\n",
    "from sklearn.linear_model import LinearRegression\n",
    "from sklearn.model_selection import GridSearchCV\n",
    "\n",
    "# Define the pipeline\n",
    "pipeline = Pipeline([('scaler', StandardScaler()), (\"estimator\", LinearRegression())])\n",
    "\n",
    "# Define the parameters to search\n",
    "params = {}  # No regularization parameters for Linear Regression\n",
    "\n",
    "# Define the grid search\n",
    "model_linear = GridSearchCV(pipeline, param_grid=params, cv=5)\n",
    "model_linear.fit(X_train, y_train)"
   ]
  },
  {
   "cell_type": "code",
   "execution_count": 25,
   "id": "9db0258c-76c6-4e75-9dee-6b65fb2b3165",
   "metadata": {},
   "outputs": [
    {
     "data": {
      "text/plain": [
       "0.6736214684077528"
      ]
     },
     "execution_count": 25,
     "metadata": {},
     "output_type": "execute_result"
    }
   ],
   "source": [
    "model_linear_opti = model_linear.best_estimator_\n",
    "\n",
    "model_linear_opti.score(X_test, y_test)"
   ]
  },
  {
   "cell_type": "code",
   "execution_count": 26,
   "id": "d69da4f7-81d9-4199-9f08-aaa755ef54f5",
   "metadata": {},
   "outputs": [],
   "source": [
    "# prediction des nan avec la linear regression\n",
    "predict_na = model_linear_opti.predict(df_na[[\"margin_up\", \"is_genuine\"]])"
   ]
  },
  {
   "cell_type": "markdown",
   "id": "2f147313-283f-4615-94cc-a1d0c33100af",
   "metadata": {},
   "source": [
    "### Validation de la régression linéaire"
   ]
  },
  {
   "cell_type": "markdown",
   "id": "fa7fbc83-d166-4628-a95b-9f7b3f626d0b",
   "metadata": {},
   "source": [
    "* Test de Variance Inflation Factor (VIF) pour détecter la collinéarité"
   ]
  },
  {
   "cell_type": "code",
   "execution_count": 27,
   "id": "282de65f-8b9b-45c4-8f37-b1b3e54d28dd",
   "metadata": {},
   "outputs": [
    {
     "name": "stdout",
     "output_type": "stream",
     "text": [
      "  Feature         VIF\n",
      "0   const  338.926386\n",
      "1      X0    1.640983\n",
      "2      X1    1.640983\n"
     ]
    }
   ],
   "source": [
    "import statsmodels.api as sm\n",
    "from statsmodels.stats.outliers_influence import variance_inflation_factor\n",
    "\n",
    "# Ajouter une constante de statsmodels\n",
    "X_train_const = sm.add_constant(X_train)\n",
    "\n",
    "# Calcul du VIF pour chaque variable\n",
    "vif_data = pd.DataFrame()\n",
    "vif_data[\"Feature\"] = [\"const\"] + [f\"X{i}\" for i in range(X_train.shape[1])]\n",
    "vif_data[\"VIF\"] = [variance_inflation_factor(X_train_const, i) for i in range(X_train_const.shape[1])]\n",
    "\n",
    "print(vif_data)\n"
   ]
  },
  {
   "cell_type": "markdown",
   "id": "75cfb186-ccb3-45a1-ad45-dc8cb0016b8c",
   "metadata": {},
   "source": [
    ">**Remarque :**\n",
    ">\n",
    ">Le VIF de 1.64 pour X0 et X1 est faible (inférieurs à 5) c'est-à-dire que les variables explicatives ne sont pas fortement corrélées entre elles et donc il n'y a pas de problème de multicollinéarité dans le modèle. "
   ]
  },
  {
   "cell_type": "markdown",
   "id": "f3ae7791-b290-487a-bb22-ef0bee5483d9",
   "metadata": {},
   "source": [
    "* Test de normalité des résidus"
   ]
  },
  {
   "cell_type": "code",
   "execution_count": 28,
   "id": "2e512a38-ae4b-4afe-90f3-91c9fd18844f",
   "metadata": {},
   "outputs": [
    {
     "name": "stdout",
     "output_type": "stream",
     "text": [
      "Statistique de Shapiro-Wilk: 0.9468961546990912, p-value: 8.544017469861416e-09\n"
     ]
    },
    {
     "data": {
      "image/png": "[encoded data removed]",
      "text/plain": [
       "<Figure size 800x550 with 1 Axes>"
      ]
     },
     "metadata": {},
     "output_type": "display_data"
    }
   ],
   "source": [
    "# Calcul des résidus\n",
    "residuals = y_test - y_pred\n",
    "\n",
    "# Test de normalité de Shapiro-Wilk\n",
    "shapiro_test = stats.shapiro(residuals)\n",
    "print(f\"Statistique de Shapiro-Wilk: {shapiro_test[0]}, p-value: {shapiro_test[1]}\")\n",
    "\n",
    "# Q-Q plot des résidus\n",
    "sm.qqplot(residuals, line ='45')\n",
    "plt.title(\"Q-Q plot des résidus\")\n",
    "plt.show()"
   ]
  },
  {
   "cell_type": "markdown",
   "id": "aca3dee5-134e-49ee-a047-cb1a157262c1",
   "metadata": {},
   "source": [
    "La p-value est bien inférieure à 0.05, ce qui signifie qu'on peut rejeter l'hypothèse nulle selon laquelle les résidus suivent une distribution normale.\n",
    "\n",
    "Cela indique donc que les résidus ne sont pas normalement distribués"
   ]
  },
  {
   "cell_type": "markdown",
   "id": "9ad5a2e2-42be-4cb4-8e92-5968b5106e51",
   "metadata": {},
   "source": [
    "* Test de l'homoscédasticité"
   ]
  },
  {
   "cell_type": "code",
   "execution_count": 29,
   "id": "83b9dba6-c453-4669-b3b9-db0b88dc2f3c",
   "metadata": {},
   "outputs": [
    {
     "data": {
      "image/png": "[encoded data removed]",
      "text/plain": [
       "<Figure size 800x550 with 1 Axes>"
      ]
     },
     "metadata": {},
     "output_type": "display_data"
    }
   ],
   "source": [
    "# Graphique des résidus vs valeurs prédites\n",
    "plt.scatter(y_pred, residuals)\n",
    "plt.axhline(y=0, color='r', linestyle='--')\n",
    "plt.title(\"Résidus vs Valeurs prédites\")\n",
    "plt.xlabel(\"Valeurs prédites\")\n",
    "plt.ylabel(\"Résidus\")\n",
    "plt.show()"
   ]
  },
  {
   "cell_type": "markdown",
   "id": "0d3c0312-c49c-40ec-bf45-6b83b4679d24",
   "metadata": {},
   "source": [
    "Le graphique montre que les valeurs prédites sont presque toutes concentrées autour de 4.5, ce qui indique un manque de variabilité dans les prédictions du modèle.\n",
    "\n",
    "Cela suggère que le modèle sous-apprend et ne capture pas bien les relations entre les variables.\n",
    "\n",
    "Il pourrait être nécessaire d'utiliser un modèle plus complexe ou d'ajouter des variables explicatives pour améliorer la performance du modèle.\n"
   ]
  },
  {
   "cell_type": "markdown",
   "id": "43c36fb6-87a3-4094-b1a8-8c8bc1e82d04",
   "metadata": {},
   "source": [
    "### Imputation des NaN avec la linear regression"
   ]
  },
  {
   "cell_type": "code",
   "execution_count": 30,
   "id": "e69d8363-63a3-45dc-a028-e6e28146ef77",
   "metadata": {},
   "outputs": [
    {
     "name": "stdout",
     "output_type": "stream",
     "text": [
      "<class 'pandas.core.frame.DataFrame'>\n",
      "RangeIndex: 1500 entries, 0 to 1499\n",
      "Data columns (total 7 columns):\n",
      " #   Column        Non-Null Count  Dtype  \n",
      "---  ------        --------------  -----  \n",
      " 0   is_genuine    1500 non-null   bool   \n",
      " 1   diagonal      1500 non-null   float64\n",
      " 2   height_left   1500 non-null   float64\n",
      " 3   height_right  1500 non-null   float64\n",
      " 4   margin_low    1463 non-null   float64\n",
      " 5   margin_up     1500 non-null   float64\n",
      " 6   length        1500 non-null   float64\n",
      "dtypes: bool(1), float64(6)\n",
      "memory usage: 71.9 KB\n"
     ]
    }
   ],
   "source": [
    "data.info()"
   ]
  },
  {
   "cell_type": "code",
   "execution_count": 31,
   "id": "6acdc36f-7d52-441f-a970-e65a3b422be1",
   "metadata": {},
   "outputs": [],
   "source": [
    "data[\"margin_low\"][data[\"margin_low\"].isnull()] = predict_na"
   ]
  },
  {
   "cell_type": "code",
   "execution_count": 32,
   "id": "d2be7520-3d3b-45b3-9b07-64fa9a7e6f5f",
   "metadata": {},
   "outputs": [
    {
     "name": "stdout",
     "output_type": "stream",
     "text": [
      "<class 'pandas.core.frame.DataFrame'>\n",
      "RangeIndex: 1500 entries, 0 to 1499\n",
      "Data columns (total 7 columns):\n",
      " #   Column        Non-Null Count  Dtype  \n",
      "---  ------        --------------  -----  \n",
      " 0   is_genuine    1500 non-null   bool   \n",
      " 1   diagonal      1500 non-null   float64\n",
      " 2   height_left   1500 non-null   float64\n",
      " 3   height_right  1500 non-null   float64\n",
      " 4   margin_low    1500 non-null   float64\n",
      " 5   margin_up     1500 non-null   float64\n",
      " 6   length        1500 non-null   float64\n",
      "dtypes: bool(1), float64(6)\n",
      "memory usage: 71.9 KB\n"
     ]
    }
   ],
   "source": [
    "data.info()"
   ]
  },
  {
   "cell_type": "markdown",
   "id": "b644212c-c636-4d4c-bcf3-f5baeb562d69",
   "metadata": {},
   "source": [
    "# Analyse Univariée du jeu de données"
   ]
  },
  {
   "cell_type": "code",
   "execution_count": 33,
   "id": "9dc4d4e9-22d6-434a-bb7d-268bff8dddc6",
   "metadata": {},
   "outputs": [],
   "source": [
    "features = data[['diagonal', 'height_left', 'height_right', 'margin_low','margin_up', 'length']]\n",
    "\n",
    "target = data[['is_genuine']]"
   ]
  },
  {
   "cell_type": "markdown",
   "id": "7f9a45d9-af7f-40f2-910b-d0313f18b415",
   "metadata": {},
   "source": [
    "## analyse des features"
   ]
  },
  {
   "cell_type": "code",
   "execution_count": 34,
   "id": "6fe31938-f4fc-4e2b-b95c-5b85eae0a502",
   "metadata": {},
   "outputs": [
    {
     "name": "stdout",
     "output_type": "stream",
     "text": [
      "Variable \u001b[1m diagonal \u001b[0m \n",
      "\n"
     ]
    },
    {
     "data": {
      "image/png": "[encoded data removed]",
      "text/plain": [
       "<Figure size 1500x500 with 2 Axes>"
      ]
     },
     "metadata": {},
     "output_type": "display_data"
    },
    {
     "name": "stdout",
     "output_type": "stream",
     "text": [
      "\u001b[1m Moyenne : \u001b[0m 171.96\n",
      "\u001b[1m Médiane : \u001b[0m 171.96\n",
      "\u001b[1m Kurtosis : \u001b[0m -0.13\n",
      "\u001b[1m Écart-type : \u001b[0m 0.31\n",
      "\n",
      " ************************************************** \n",
      "\n",
      "Variable \u001b[1m height_left \u001b[0m \n",
      "\n"
     ]
    },
    {
     "data": {
      "image/png": "[encoded data removed]",
      "text/plain": [
       "<Figure size 1500x500 with 2 Axes>"
      ]
     },
     "metadata": {},
     "output_type": "display_data"
    },
    {
     "name": "stdout",
     "output_type": "stream",
     "text": [
      "\u001b[1m Moyenne : \u001b[0m 104.03\n",
      "\u001b[1m Médiane : \u001b[0m 104.04\n",
      "\u001b[1m Kurtosis : \u001b[0m -0.2\n",
      "\u001b[1m Écart-type : \u001b[0m 0.3\n",
      "\n",
      " ************************************************** \n",
      "\n",
      "Variable \u001b[1m height_right \u001b[0m \n",
      "\n"
     ]
    },
    {
     "data": {
      "image/png": "[encoded data removed]",
      "text/plain": [
       "<Figure size 1500x500 with 2 Axes>"
      ]
     },
     "metadata": {},
     "output_type": "display_data"
    },
    {
     "name": "stdout",
     "output_type": "stream",
     "text": [
      "\u001b[1m Moyenne : \u001b[0m 103.92\n",
      "\u001b[1m Médiane : \u001b[0m 103.92\n",
      "\u001b[1m Kurtosis : \u001b[0m -0.03\n",
      "\u001b[1m Écart-type : \u001b[0m 0.33\n",
      "\n",
      " ************************************************** \n",
      "\n",
      "Variable \u001b[1m margin_low \u001b[0m \n",
      "\n"
     ]
    },
    {
     "data": {
      "image/png": "[encoded data removed]",
      "text/plain": [
       "<Figure size 1500x500 with 2 Axes>"
      ]
     },
     "metadata": {},
     "output_type": "display_data"
    },
    {
     "name": "stdout",
     "output_type": "stream",
     "text": [
      "\u001b[1m Moyenne : \u001b[0m 4.48\n",
      "\u001b[1m Médiane : \u001b[0m 4.31\n",
      "\u001b[1m Kurtosis : \u001b[0m 0.25\n",
      "\u001b[1m Écart-type : \u001b[0m 0.66\n",
      "\n",
      " ************************************************** \n",
      "\n",
      "Variable \u001b[1m margin_up \u001b[0m \n",
      "\n"
     ]
    },
    {
     "data": {
      "image/png": "[encoded data removed]",
      "text/plain": [
       "<Figure size 1500x500 with 2 Axes>"
      ]
     },
     "metadata": {},
     "output_type": "display_data"
    },
    {
     "name": "stdout",
     "output_type": "stream",
     "text": [
      "\u001b[1m Moyenne : \u001b[0m 3.15\n",
      "\u001b[1m Médiane : \u001b[0m 3.14\n",
      "\u001b[1m Kurtosis : \u001b[0m -0.25\n",
      "\u001b[1m Écart-type : \u001b[0m 0.23\n",
      "\n",
      " ************************************************** \n",
      "\n",
      "Variable \u001b[1m length \u001b[0m \n",
      "\n"
     ]
    },
    {
     "data": {
      "image/png": "[encoded data removed]",
      "text/plain": [
       "<Figure size 1500x500 with 2 Axes>"
      ]
     },
     "metadata": {},
     "output_type": "display_data"
    },
    {
     "name": "stdout",
     "output_type": "stream",
     "text": [
      "\u001b[1m Moyenne : \u001b[0m 112.68\n",
      "\u001b[1m Médiane : \u001b[0m 112.96\n",
      "\u001b[1m Kurtosis : \u001b[0m -0.28\n",
      "\u001b[1m Écart-type : \u001b[0m 0.87\n",
      "\n",
      " ************************************************** \n",
      "\n"
     ]
    }
   ],
   "source": [
    "import seaborn as sns\n",
    "import matplotlib.pyplot as plt\n",
    "\n",
    "# Define feature and target names\n",
    "features_names = ['diagonal', 'height_left', 'height_right', 'margin_low', 'margin_up', 'length']\n",
    "target_name = 'is_genuine'\n",
    "\n",
    "# Iterate over each feature\n",
    "for var in features_names:\n",
    "    print(\"Variable\", '\\033[1m', var, '\\033[0m', \"\\n\")\n",
    "    \n",
    "    plt.figure(figsize=(15, 5))\n",
    "    \n",
    "    # Plot histogram with KDE\n",
    "    plt.subplot(121)\n",
    "    sns.histplot(data=data, x=var, hue=target_name, legend=False)\n",
    "    plt.axvline(data[var].mean(), color='g', linewidth=2, label='Mean')\n",
    "    plt.axvline(data[var].median(), color='r', linewidth=2, label='Median')\n",
    "    plt.legend()\n",
    "    \n",
    "    # Plot boxplot\n",
    "    plt.subplot(122)\n",
    "    sns.boxplot(data=data, x=var, y=target_name, hue=target_name, orient='h', showmeans=True, showfliers=True)\n",
    "    \n",
    "    plt.show()\n",
    "    \n",
    "    # Print statistics\n",
    "    print('\\033[1m', \"Moyenne :\", '\\033[0m', round(data[var].mean(), 2))\n",
    "    print('\\033[1m', \"Médiane :\", '\\033[0m', round(data[var].median(), 2))\n",
    "    print('\\033[1m', \"Kurtosis :\", '\\033[0m', round(data[var].kurtosis(), 2))\n",
    "    print('\\033[1m', \"Écart-type :\", '\\033[0m', round(data[var].std(), 2))\n",
    "    print(\"\\n\", \"*\"*50, \"\\n\")"
   ]
  },
  {
   "cell_type": "code",
   "execution_count": null,
   "id": "7f9761d3-59bd-45ae-8889-a10b1d5a4735",
   "metadata": {},
   "outputs": [],
   "source": []
  },
  {
   "cell_type": "markdown",
   "id": "e7957202-d967-4ade-a17f-70c6fa8168df",
   "metadata": {},
   "source": [
    "## analyse de la target"
   ]
  },
  {
   "cell_type": "code",
   "execution_count": 35,
   "id": "fc0b4c5c-0577-478c-9e9c-785a38f0184b",
   "metadata": {},
   "outputs": [
    {
     "data": {
      "image/png": "[encoded data removed]",
      "text/plain": [
       "<Figure size 1500x500 with 1 Axes>"
      ]
     },
     "metadata": {},
     "output_type": "display_data"
    }
   ],
   "source": [
    "import seaborn as sns\n",
    "import matplotlib.pyplot as plt\n",
    "\n",
    "palette = [\"steelblue\", \"lightblue\"]\n",
    "\n",
    "plt.figure(figsize=(15, 5))\n",
    "plt.subplot(121)\n",
    "sns.countplot(x=\"is_genuine\", data=data, palette=palette, hue=\"is_genuine\", legend=False)\n",
    "\n",
    "plt.show()"
   ]
  },
  {
   "cell_type": "markdown",
   "id": "5ba86a36-956b-432a-b69a-a648a3c6cdde",
   "metadata": {},
   "source": [
    "# Machine Learning non supervisé : Clusterisation"
   ]
  },
  {
   "cell_type": "markdown",
   "id": "85d11c9c-1765-4dfd-a9f4-166c7ef9a3a5",
   "metadata": {},
   "source": [
    "### standardisation"
   ]
  },
  {
   "cell_type": "code",
   "execution_count": 36,
   "id": "f285e86c-28cb-4ce1-85f4-01e021e5c4e3",
   "metadata": {},
   "outputs": [
    {
     "data": {
      "text/plain": [
       "Index(['is_genuine', 'diagonal', 'height_left', 'height_right', 'margin_low',\n",
       "       'margin_up', 'length'],\n",
       "      dtype='object')"
      ]
     },
     "execution_count": 36,
     "metadata": {},
     "output_type": "execute_result"
    }
   ],
   "source": [
    "data.columns"
   ]
  },
  {
   "cell_type": "code",
   "execution_count": 37,
   "id": "0965c005-eae4-4e59-ad9d-375896128f69",
   "metadata": {},
   "outputs": [],
   "source": [
    "data_features = data[['diagonal', 'height_left', 'height_right', 'margin_low',\n",
    "       'margin_up', 'length']]"
   ]
  },
  {
   "cell_type": "code",
   "execution_count": 38,
   "id": "952b7792-465f-4784-a906-019f91bf6251",
   "metadata": {},
   "outputs": [
    {
     "data": {
      "text/html": [
       "<div>\n",
       "<style scoped>\n",
       "    .dataframe tbody tr th:only-of-type {\n",
       "        vertical-align: middle;\n",
       "    }\n",
       "\n",
       "    .dataframe tbody tr th {\n",
       "        vertical-align: top;\n",
       "    }\n",
       "\n",
       "    .dataframe thead th {\n",
       "        text-align: right;\n",
       "    }\n",
       "</style>\n",
       "<table border=\"1\" class=\"dataframe\">\n",
       "  <thead>\n",
       "    <tr style=\"text-align: right;\">\n",
       "      <th></th>\n",
       "      <th>diagonal</th>\n",
       "      <th>height_left</th>\n",
       "      <th>height_right</th>\n",
       "      <th>margin_low</th>\n",
       "      <th>margin_up</th>\n",
       "      <th>length</th>\n",
       "    </tr>\n",
       "  </thead>\n",
       "  <tbody>\n",
       "    <tr>\n",
       "      <th>count</th>\n",
       "      <td>1500.00</td>\n",
       "      <td>1500.00</td>\n",
       "      <td>1500.00</td>\n",
       "      <td>1500.00</td>\n",
       "      <td>1500.00</td>\n",
       "      <td>1500.00</td>\n",
       "    </tr>\n",
       "    <tr>\n",
       "      <th>mean</th>\n",
       "      <td>-0.00</td>\n",
       "      <td>0.00</td>\n",
       "      <td>-0.00</td>\n",
       "      <td>0.00</td>\n",
       "      <td>-0.00</td>\n",
       "      <td>0.00</td>\n",
       "    </tr>\n",
       "    <tr>\n",
       "      <th>std</th>\n",
       "      <td>1.00</td>\n",
       "      <td>1.00</td>\n",
       "      <td>1.00</td>\n",
       "      <td>1.00</td>\n",
       "      <td>1.00</td>\n",
       "      <td>1.00</td>\n",
       "    </tr>\n",
       "    <tr>\n",
       "      <th>min</th>\n",
       "      <td>-3.01</td>\n",
       "      <td>-2.97</td>\n",
       "      <td>-3.38</td>\n",
       "      <td>-2.28</td>\n",
       "      <td>-3.80</td>\n",
       "      <td>-3.65</td>\n",
       "    </tr>\n",
       "    <tr>\n",
       "      <th>25%</th>\n",
       "      <td>-0.68</td>\n",
       "      <td>-0.70</td>\n",
       "      <td>-0.65</td>\n",
       "      <td>-0.69</td>\n",
       "      <td>-0.70</td>\n",
       "      <td>-0.74</td>\n",
       "    </tr>\n",
       "    <tr>\n",
       "      <th>50%</th>\n",
       "      <td>0.01</td>\n",
       "      <td>0.03</td>\n",
       "      <td>-0.00</td>\n",
       "      <td>-0.26</td>\n",
       "      <td>-0.05</td>\n",
       "      <td>0.32</td>\n",
       "    </tr>\n",
       "    <tr>\n",
       "      <th>75%</th>\n",
       "      <td>0.69</td>\n",
       "      <td>0.67</td>\n",
       "      <td>0.71</td>\n",
       "      <td>0.59</td>\n",
       "      <td>0.68</td>\n",
       "      <td>0.76</td>\n",
       "    </tr>\n",
       "    <tr>\n",
       "      <th>max</th>\n",
       "      <td>3.45</td>\n",
       "      <td>2.84</td>\n",
       "      <td>3.16</td>\n",
       "      <td>3.66</td>\n",
       "      <td>3.27</td>\n",
       "      <td>2.02</td>\n",
       "    </tr>\n",
       "  </tbody>\n",
       "</table>\n",
       "</div>"
      ],
      "text/plain": [
       "       diagonal  height_left  height_right  margin_low  margin_up   length\n",
       "count   1500.00      1500.00       1500.00     1500.00    1500.00  1500.00\n",
       "mean      -0.00         0.00         -0.00        0.00      -0.00     0.00\n",
       "std        1.00         1.00          1.00        1.00       1.00     1.00\n",
       "min       -3.01        -2.97         -3.38       -2.28      -3.80    -3.65\n",
       "25%       -0.68        -0.70         -0.65       -0.69      -0.70    -0.74\n",
       "50%        0.01         0.03         -0.00       -0.26      -0.05     0.32\n",
       "75%        0.69         0.67          0.71        0.59       0.68     0.76\n",
       "max        3.45         2.84          3.16        3.66       3.27     2.02"
      ]
     },
     "execution_count": 38,
     "metadata": {},
     "output_type": "execute_result"
    }
   ],
   "source": [
    "X = data_features\n",
    "\n",
    "# Réduction et centrage de données\n",
    "scaler = StandardScaler()\n",
    "X_scaled = scaler.fit_transform(X)\n",
    "pd.DataFrame(X_scaled, columns=X.columns).describe().round(2)"
   ]
  },
  {
   "cell_type": "markdown",
   "id": "4cf7cf74-7109-4016-b102-f290c53243a8",
   "metadata": {},
   "source": [
    "> **Remarques :** \n",
    "> * La moyenne est ramennée à 0\n",
    "> * La déviation standard est 1"
   ]
  },
  {
   "cell_type": "markdown",
   "id": "c8749760-1cd0-4f55-a906-73b97b41b3df",
   "metadata": {},
   "source": [
    "### Réduction de dimensionnalités par ACP"
   ]
  },
  {
   "cell_type": "code",
   "execution_count": 39,
   "id": "8bc93648-c236-4974-87aa-4873889955a7",
   "metadata": {},
   "outputs": [],
   "source": [
    "# Import de la fonction PCA depuis Scikit Learn\n",
    "from sklearn.decomposition import PCA\n",
    "\n",
    "# Create the PCA model\n",
    "model_pca = PCA(n_components = 6)\n",
    "\n",
    "# Fit the model with the standardised data\n",
    "X_reduced = model_pca.fit_transform(X_scaled)"
   ]
  },
  {
   "cell_type": "code",
   "execution_count": 40,
   "id": "9930b76e-b2bf-4126-9548-628a7bcbfef5",
   "metadata": {},
   "outputs": [],
   "source": [
    "def display_scree_plot(pca):\n",
    "    '''Visualisons du scree plot pour PCA'''\n",
    "\n",
    "    scree = pca.explained_variance_ratio_*100\n",
    "    plt.bar(np.arange(len(scree))+1, scree)\n",
    "    plt.plot(np.arange(len(scree))+1, scree.cumsum(),c=\"red\",marker='o')\n",
    "    plt.xlabel(\"Nombre de composantes principales\")\n",
    "    plt.ylabel(\"Variance expliquée en pourcentage\")\n",
    "    plt.title(\"Scree plot : Eboulis des valeurs propres\")\n",
    "    plt.show(block=False)"
   ]
  },
  {
   "cell_type": "code",
   "execution_count": 41,
   "id": "f19a922b-3487-463c-a614-be23dc6e8c89",
   "metadata": {},
   "outputs": [
    {
     "data": {
      "image/png": "[encoded data removed]",
      "text/plain": [
       "<Figure size 800x550 with 1 Axes>"
      ]
     },
     "metadata": {},
     "output_type": "display_data"
    },
    {
     "name": "stdout",
     "output_type": "stream",
     "text": [
      "\u001b[1mVariance expliquée cumulée :\u001b[0m [0.43 0.6  0.73 0.85 0.95 1.  ]\n"
     ]
    }
   ],
   "source": [
    "# Scree plot\n",
    "display_scree_plot(model_pca)\n",
    "\n",
    "# Explained variance ratio cumsum\n",
    "print('\\033[1m' +\"Variance expliquée cumulée :\"+'\\033[0m', model_pca.explained_variance_ratio_.cumsum().round(2))\n",
    "\n",
    "# Nombre de composantes à étudier\n",
    "num_components = 6\n",
    "pcs = model_pca.components_ \n",
    "pc1 = model_pca.components_[0]\n",
    "pc2 = model_pca.components_[1]\n",
    "pc3 = model_pca.components_[2]\n",
    "pc4 = model_pca.components_[3]\n",
    "pc5 = model_pca.components_[4]\n",
    "pc6 = model_pca.components_[5]\n",
    "\n",
    "\n",
    "classed_data = data.copy()\n",
    "rank_band = [classed_data.loc[note_id, \"is_genuine\"] for note_id in classed_data.index]\n",
    "X_projected = model_pca.transform(X_scaled)"
   ]
  },
  {
   "cell_type": "markdown",
   "id": "d7af8ae5-2d7f-46f9-abcb-17f55089cf0c",
   "metadata": {},
   "source": [
    "## K-Means"
   ]
  },
  {
   "cell_type": "markdown",
   "id": "112e7e1d-ebb4-4950-959a-a849a6b4f742",
   "metadata": {},
   "source": [
    "### Méthode du coude"
   ]
  },
  {
   "cell_type": "code",
   "execution_count": 42,
   "id": "64026c03-5c2c-45c5-9143-268fbde0c5d3",
   "metadata": {},
   "outputs": [
    {
     "name": "stderr",
     "output_type": "stream",
     "text": [
      "  File \"c:\\Users\\diouf\\OneDrive\\Bureau\\ds2\\.venv\\Lib\\site-packages\\joblib\\externals\\loky\\backend\\context.py\", line 282, in _count_physical_cores\n",
      "    raise ValueError(f\"found {cpu_count_physical} physical cores < 1\")\n"
     ]
    },
    {
     "data": {
      "image/png": "[encoded data removed]",
      "text/plain": [
       "<Figure size 800x550 with 1 Axes>"
      ]
     },
     "metadata": {},
     "output_type": "display_data"
    },
    {
     "data": {
      "text/plain": [
       "<Axes: title={'center': 'Distortion Score Elbow for KMeans Clustering'}, xlabel='k', ylabel='distortion score'>"
      ]
     },
     "execution_count": 42,
     "metadata": {},
     "output_type": "execute_result"
    }
   ],
   "source": [
    "from yellowbrick.cluster import KElbowVisualizer\n",
    "from sklearn.cluster import KMeans\n",
    "\n",
    "# Instantiate the clustering model and visualizer\n",
    "model = KMeans(n_init=10)\n",
    "visualizer = KElbowVisualizer(model, k=(1, 6), timings=False)\n",
    "\n",
    "# Fit the data to the visualizer\n",
    "visualizer.fit(X_scaled)\n",
    "\n",
    "# Display the visualizer\n",
    "visualizer.show()"
   ]
  },
  {
   "cell_type": "markdown",
   "id": "e65b579f-bbe4-4d9d-8705-f70caa1e3f7a",
   "metadata": {},
   "source": [
    "### Score Silhouette"
   ]
  },
  {
   "cell_type": "code",
   "execution_count": 43,
   "id": "2bc4dbe8-8259-44b8-bbd8-b9bcbbcb7f33",
   "metadata": {},
   "outputs": [
    {
     "name": "stdout",
     "output_type": "stream",
     "text": [
      "For n_clusters = 2, silhouette score is 0.3434544605493908)\n",
      "For n_clusters = 3, silhouette score is 0.2106729256626625)\n",
      "For n_clusters = 4, silhouette score is 0.19628214266380908)\n",
      "For n_clusters = 5, silhouette score is 0.15616819011714797)\n",
      "For n_clusters = 6, silhouette score is 0.15118814638476105)\n",
      "For n_clusters = 7, silhouette score is 0.1431107442254272)\n",
      "For n_clusters = 8, silhouette score is 0.14270788931281767)\n",
      "For n_clusters = 9, silhouette score is 0.1406233060412094)\n"
     ]
    }
   ],
   "source": [
    "from sklearn.cluster import KMeans\n",
    "from sklearn.metrics import silhouette_score\n",
    "\n",
    "range_n_clusters = list(range(2, 10))\n",
    "for n_clusters in range_n_clusters:\n",
    "    clusterer = KMeans(n_clusters=n_clusters, n_init=10) \n",
    "    preds = clusterer.fit_predict(X_scaled)\n",
    "    score = silhouette_score(X_scaled, preds)\n",
    "    print(\"For n_clusters = {}, silhouette score is {})\".format(n_clusters, score))"
   ]
  },
  {
   "cell_type": "markdown",
   "id": "f8ba1c96-92f0-42b8-b7b3-3426e167896d",
   "metadata": {},
   "source": [
    "### Algorythme K-means"
   ]
  },
  {
   "cell_type": "code",
   "execution_count": 44,
   "id": "b9447f94-0d40-42e4-8b6f-f31e167080ad",
   "metadata": {},
   "outputs": [
    {
     "data": {
      "text/plain": [
       "array([1, 0, 0, ..., 1, 1, 1], dtype=int32)"
      ]
     },
     "execution_count": 44,
     "metadata": {},
     "output_type": "execute_result"
    }
   ],
   "source": [
    "model_kmeans = KMeans(n_clusters=2,random_state = 0, n_init=10)\n",
    "\n",
    "model_kmeans.fit_predict(X_scaled)"
   ]
  },
  {
   "cell_type": "code",
   "execution_count": 45,
   "id": "cbc569e8-5fc9-447b-a1fc-96cac6605d5e",
   "metadata": {},
   "outputs": [],
   "source": [
    "clusters =  model_kmeans.labels_\n",
    "\n",
    "# Add the cluster number to the original scaled data\n",
    "X_clustered = pd.DataFrame(X_scaled, index=X.index, columns=X.columns)\n",
    "\n",
    "X_clustered[\"cluster\"] = clusters"
   ]
  },
  {
   "cell_type": "code",
   "execution_count": 46,
   "id": "36738538-8af8-46f7-82d8-4f1942db5d55",
   "metadata": {},
   "outputs": [
    {
     "data": {
      "text/html": [
       "<div>\n",
       "<style scoped>\n",
       "    .dataframe tbody tr th:only-of-type {\n",
       "        vertical-align: middle;\n",
       "    }\n",
       "\n",
       "    .dataframe tbody tr th {\n",
       "        vertical-align: top;\n",
       "    }\n",
       "\n",
       "    .dataframe thead th {\n",
       "        text-align: right;\n",
       "    }\n",
       "</style>\n",
       "<table border=\"1\" class=\"dataframe\">\n",
       "  <thead>\n",
       "    <tr style=\"text-align: right;\">\n",
       "      <th></th>\n",
       "      <th>diagonal</th>\n",
       "      <th>height_left</th>\n",
       "      <th>height_right</th>\n",
       "      <th>margin_low</th>\n",
       "      <th>margin_up</th>\n",
       "      <th>length</th>\n",
       "      <th>cluster</th>\n",
       "    </tr>\n",
       "  </thead>\n",
       "  <tbody>\n",
       "    <tr>\n",
       "      <th>0</th>\n",
       "      <td>-0.486540</td>\n",
       "      <td>2.774123</td>\n",
       "      <td>3.163240</td>\n",
       "      <td>0.056419</td>\n",
       "      <td>-1.128325</td>\n",
       "      <td>0.173651</td>\n",
       "      <td>1</td>\n",
       "    </tr>\n",
       "    <tr>\n",
       "      <th>1</th>\n",
       "      <td>-1.633729</td>\n",
       "      <td>-2.236535</td>\n",
       "      <td>-0.799668</td>\n",
       "      <td>-1.080642</td>\n",
       "      <td>-0.696799</td>\n",
       "      <td>0.471666</td>\n",
       "      <td>0</td>\n",
       "    </tr>\n",
       "    <tr>\n",
       "      <th>2</th>\n",
       "      <td>2.397823</td>\n",
       "      <td>1.504756</td>\n",
       "      <td>-1.291191</td>\n",
       "      <td>-0.125511</td>\n",
       "      <td>-0.912562</td>\n",
       "      <td>0.551901</td>\n",
       "      <td>0</td>\n",
       "    </tr>\n",
       "    <tr>\n",
       "      <th>3</th>\n",
       "      <td>-1.961498</td>\n",
       "      <td>-0.399294</td>\n",
       "      <td>0.060498</td>\n",
       "      <td>-1.308054</td>\n",
       "      <td>-0.610494</td>\n",
       "      <td>0.953075</td>\n",
       "      <td>0</td>\n",
       "    </tr>\n",
       "    <tr>\n",
       "      <th>4</th>\n",
       "      <td>-0.748754</td>\n",
       "      <td>0.836669</td>\n",
       "      <td>-1.414072</td>\n",
       "      <td>-0.671300</td>\n",
       "      <td>1.417677</td>\n",
       "      <td>-0.158750</td>\n",
       "      <td>0</td>\n",
       "    </tr>\n",
       "  </tbody>\n",
       "</table>\n",
       "</div>"
      ],
      "text/plain": [
       "   diagonal  height_left  height_right  margin_low  margin_up    length  \\\n",
       "0 -0.486540     2.774123      3.163240    0.056419  -1.128325  0.173651   \n",
       "1 -1.633729    -2.236535     -0.799668   -1.080642  -0.696799  0.471666   \n",
       "2  2.397823     1.504756     -1.291191   -0.125511  -0.912562  0.551901   \n",
       "3 -1.961498    -0.399294      0.060498   -1.308054  -0.610494  0.953075   \n",
       "4 -0.748754     0.836669     -1.414072   -0.671300   1.417677 -0.158750   \n",
       "\n",
       "   cluster  \n",
       "0        1  \n",
       "1        0  \n",
       "2        0  \n",
       "3        0  \n",
       "4        0  "
      ]
     },
     "execution_count": 46,
     "metadata": {},
     "output_type": "execute_result"
    }
   ],
   "source": [
    "X_clustered.head()"
   ]
  },
  {
   "cell_type": "code",
   "execution_count": 47,
   "id": "38a127fd-3b4d-44b1-be33-242c259a4c4e",
   "metadata": {},
   "outputs": [
    {
     "data": {
      "text/plain": [
       "['model_kmeans.joblib']"
      ]
     },
     "execution_count": 47,
     "metadata": {},
     "output_type": "execute_result"
    }
   ],
   "source": [
    "import joblib\n",
    "\n",
    "# Enregistrer le modèle KMeans\n",
    "joblib.dump(model_kmeans, 'model_kmeans.joblib')"
   ]
  },
  {
   "cell_type": "code",
   "execution_count": 48,
   "id": "71055527-3634-457d-b975-d4f5824cc46c",
   "metadata": {},
   "outputs": [],
   "source": [
    "from sklearn.preprocessing import StandardScaler, LabelEncoder"
   ]
  },
  {
   "cell_type": "code",
   "execution_count": 49,
   "id": "303bc8b5-1e3b-4c21-b215-4b444ac47140",
   "metadata": {},
   "outputs": [],
   "source": [
    "encoder = LabelEncoder()\n",
    "\n",
    "def converter(cluster):\n",
    "    if cluster==True:\n",
    "        return 1\n",
    "    else:\n",
    "        return 0\n",
    "    \n",
    "data_kmeans = data.copy()   \n",
    "data_kmeans['cluster_origin'] = encoder.fit_transform(np.invert(data_kmeans[\"is_genuine\"]))\n",
    "data_kmeans['cluster_kmeans'] = model_kmeans.labels_\n"
   ]
  },
  {
   "cell_type": "code",
   "execution_count": 50,
   "id": "f276853c-c2e6-484a-b04a-c40d53a00721",
   "metadata": {},
   "outputs": [
    {
     "data": {
      "text/html": [
       "<div>\n",
       "<style scoped>\n",
       "    .dataframe tbody tr th:only-of-type {\n",
       "        vertical-align: middle;\n",
       "    }\n",
       "\n",
       "    .dataframe tbody tr th {\n",
       "        vertical-align: top;\n",
       "    }\n",
       "\n",
       "    .dataframe thead th {\n",
       "        text-align: right;\n",
       "    }\n",
       "</style>\n",
       "<table border=\"1\" class=\"dataframe\">\n",
       "  <thead>\n",
       "    <tr style=\"text-align: right;\">\n",
       "      <th></th>\n",
       "      <th>is_genuine</th>\n",
       "      <th>diagonal</th>\n",
       "      <th>height_left</th>\n",
       "      <th>height_right</th>\n",
       "      <th>margin_low</th>\n",
       "      <th>margin_up</th>\n",
       "      <th>length</th>\n",
       "      <th>cluster_origin</th>\n",
       "      <th>cluster_kmeans</th>\n",
       "    </tr>\n",
       "  </thead>\n",
       "  <tbody>\n",
       "    <tr>\n",
       "      <th>674</th>\n",
       "      <td>True</td>\n",
       "      <td>172.04</td>\n",
       "      <td>103.94</td>\n",
       "      <td>103.76</td>\n",
       "      <td>3.81</td>\n",
       "      <td>3.24</td>\n",
       "      <td>113.41</td>\n",
       "      <td>0</td>\n",
       "      <td>0</td>\n",
       "    </tr>\n",
       "    <tr>\n",
       "      <th>805</th>\n",
       "      <td>True</td>\n",
       "      <td>171.38</td>\n",
       "      <td>103.75</td>\n",
       "      <td>103.16</td>\n",
       "      <td>4.32</td>\n",
       "      <td>3.02</td>\n",
       "      <td>113.25</td>\n",
       "      <td>0</td>\n",
       "      <td>0</td>\n",
       "    </tr>\n",
       "    <tr>\n",
       "      <th>540</th>\n",
       "      <td>True</td>\n",
       "      <td>171.96</td>\n",
       "      <td>103.68</td>\n",
       "      <td>103.84</td>\n",
       "      <td>4.46</td>\n",
       "      <td>3.07</td>\n",
       "      <td>112.74</td>\n",
       "      <td>0</td>\n",
       "      <td>0</td>\n",
       "    </tr>\n",
       "    <tr>\n",
       "      <th>622</th>\n",
       "      <td>True</td>\n",
       "      <td>171.56</td>\n",
       "      <td>104.32</td>\n",
       "      <td>104.33</td>\n",
       "      <td>3.92</td>\n",
       "      <td>2.97</td>\n",
       "      <td>113.04</td>\n",
       "      <td>0</td>\n",
       "      <td>0</td>\n",
       "    </tr>\n",
       "    <tr>\n",
       "      <th>1081</th>\n",
       "      <td>False</td>\n",
       "      <td>171.82</td>\n",
       "      <td>103.90</td>\n",
       "      <td>103.67</td>\n",
       "      <td>4.79</td>\n",
       "      <td>3.36</td>\n",
       "      <td>112.43</td>\n",
       "      <td>1</td>\n",
       "      <td>0</td>\n",
       "    </tr>\n",
       "  </tbody>\n",
       "</table>\n",
       "</div>"
      ],
      "text/plain": [
       "      is_genuine  diagonal  height_left  height_right  margin_low  margin_up  \\\n",
       "674         True    172.04       103.94        103.76        3.81       3.24   \n",
       "805         True    171.38       103.75        103.16        4.32       3.02   \n",
       "540         True    171.96       103.68        103.84        4.46       3.07   \n",
       "622         True    171.56       104.32        104.33        3.92       2.97   \n",
       "1081       False    171.82       103.90        103.67        4.79       3.36   \n",
       "\n",
       "      length  cluster_origin  cluster_kmeans  \n",
       "674   113.41               0               0  \n",
       "805   113.25               0               0  \n",
       "540   112.74               0               0  \n",
       "622   113.04               0               0  \n",
       "1081  112.43               1               0  "
      ]
     },
     "execution_count": 50,
     "metadata": {},
     "output_type": "execute_result"
    }
   ],
   "source": [
    "data_kmeans.sample(5)"
   ]
  },
  {
   "cell_type": "code",
   "execution_count": 51,
   "id": "4f187e3c-5f8a-4a42-ad36-02d694a19044",
   "metadata": {},
   "outputs": [
    {
     "data": {
      "image/png": "[encoded data removed]",
      "text/plain": [
       "<Figure size 700x500 with 2 Axes>"
      ]
     },
     "metadata": {},
     "output_type": "display_data"
    }
   ],
   "source": [
    "import pandas as pd\n",
    "import seaborn as sns\n",
    "import matplotlib.pyplot as plt\n",
    "\n",
    "# Create confusion matrix\n",
    "conf_matrix = pd.crosstab(data_kmeans['cluster_origin'], model_kmeans.labels_)\n",
    "\n",
    "# Plot heatmap with customized colors\n",
    "plt.figure(figsize=(7, 5))\n",
    "sns.heatmap(conf_matrix, annot=True, fmt=\".3g\", linewidths=0.3, cmap=\"YlGnBu\")  \n",
    "plt.xlabel(\"Cluster\")\n",
    "plt.title(\"Matrice de confusion Kmeans\\n\")\n",
    "plt.show()"
   ]
  },
  {
   "cell_type": "code",
   "execution_count": 52,
   "id": "e1a10747-264b-446f-9809-eec3a2d94f02",
   "metadata": {},
   "outputs": [
    {
     "name": "stdout",
     "output_type": "stream",
     "text": [
      "              precision    recall  f1-score   support\n",
      "\n",
      "           0       0.99      0.99      0.99      1000\n",
      "           1       0.98      0.97      0.98       500\n",
      "\n",
      "    accuracy                           0.98      1500\n",
      "   macro avg       0.98      0.98      0.98      1500\n",
      "weighted avg       0.98      0.98      0.98      1500\n",
      "\n"
     ]
    }
   ],
   "source": [
    "print(metrics.classification_report(data_kmeans['cluster_origin'],data_kmeans['cluster_kmeans']))"
   ]
  },
  {
   "cell_type": "markdown",
   "id": "b009f0df-2237-4371-941d-b46739175aa0",
   "metadata": {},
   "source": [
    "### Caractéristiques des centroïdes "
   ]
  },
  {
   "cell_type": "code",
   "execution_count": 53,
   "id": "2425fbbb-27d5-425b-9097-4735abaa38c1",
   "metadata": {},
   "outputs": [
    {
     "data": {
      "text/html": [
       "<div>\n",
       "<style scoped>\n",
       "    .dataframe tbody tr th:only-of-type {\n",
       "        vertical-align: middle;\n",
       "    }\n",
       "\n",
       "    .dataframe tbody tr th {\n",
       "        vertical-align: top;\n",
       "    }\n",
       "\n",
       "    .dataframe thead th {\n",
       "        text-align: right;\n",
       "    }\n",
       "</style>\n",
       "<table border=\"1\" class=\"dataframe\">\n",
       "  <thead>\n",
       "    <tr style=\"text-align: right;\">\n",
       "      <th></th>\n",
       "      <th>cluster</th>\n",
       "      <th>diagonal</th>\n",
       "      <th>height_left</th>\n",
       "      <th>height_right</th>\n",
       "      <th>margin_low</th>\n",
       "      <th>margin_up</th>\n",
       "      <th>length</th>\n",
       "    </tr>\n",
       "  </thead>\n",
       "  <tbody>\n",
       "    <tr>\n",
       "      <th>0</th>\n",
       "      <td>0</td>\n",
       "      <td>0.10</td>\n",
       "      <td>-0.28</td>\n",
       "      <td>-0.35</td>\n",
       "      <td>-0.55</td>\n",
       "      <td>-0.43</td>\n",
       "      <td>0.59</td>\n",
       "    </tr>\n",
       "    <tr>\n",
       "      <th>1</th>\n",
       "      <td>1</td>\n",
       "      <td>-0.19</td>\n",
       "      <td>0.57</td>\n",
       "      <td>0.71</td>\n",
       "      <td>1.12</td>\n",
       "      <td>0.86</td>\n",
       "      <td>-1.20</td>\n",
       "    </tr>\n",
       "  </tbody>\n",
       "</table>\n",
       "</div>"
      ],
      "text/plain": [
       "   cluster  diagonal  height_left  height_right  margin_low  margin_up  length\n",
       "0        0      0.10        -0.28         -0.35       -0.55      -0.43    0.59\n",
       "1        1     -0.19         0.57          0.71        1.12       0.86   -1.20"
      ]
     },
     "execution_count": 53,
     "metadata": {},
     "output_type": "execute_result"
    }
   ],
   "source": [
    "# grouper par cluster avec la moyenne\n",
    "df_kmeans_clusters = X_clustered.groupby(\"cluster\").mean().round(2).reset_index()\n",
    "df_kmeans_clusters"
   ]
  },
  {
   "cell_type": "code",
   "execution_count": 54,
   "id": "0e757141-5a29-47a1-94cd-6fe3678e42f8",
   "metadata": {},
   "outputs": [],
   "source": [
    "# Fonction de traçage de coordonnées parallèles\n",
    "def display_parallel_coordinates_centroids(df, num_clusters):\n",
    "    '''Affiche un graphique de coordonnées parallèles pour les centroïdes dans df'''\n",
    "\n",
    "    # Créer le graphique\n",
    "    fig = plt.figure(figsize=(12, 5))\n",
    "    title = fig.suptitle(\"Graphique de coordonnées parallèles pour les Centroïdes\", fontsize=18)\n",
    "    fig.subplots_adjust(top=0.9, wspace=0)\n",
    "\n",
    "    # Dessiner le graphique\n",
    "    parallel_coordinates(df, 'cluster', color=palette)\n",
    "\n",
    "    # Espacer les axes\n",
    "    ax = plt.gca()\n",
    "    for tick in ax.xaxis.get_major_ticks()[1::2]:\n",
    "        tick.set_pad(20)"
   ]
  },
  {
   "cell_type": "code",
   "execution_count": 55,
   "id": "c6838814-f844-44ea-aa07-28a85d307dfd",
   "metadata": {},
   "outputs": [
    {
     "data": {
      "image/png": "[encoded data removed]",
      "text/plain": [
       "<Figure size 1200x500 with 1 Axes>"
      ]
     },
     "metadata": {},
     "output_type": "display_data"
    }
   ],
   "source": [
    "from pandas.plotting import parallel_coordinates\n",
    "kmeans_ =  X_clustered.groupby(by=\"cluster\").mean()\n",
    "display_parallel_coordinates_centroids(kmeans_.reset_index(), 5)"
   ]
  },
  {
   "cell_type": "markdown",
   "id": "512dbe00-fdef-4f52-ae5f-570bb798b557",
   "metadata": {},
   "source": [
    "# Machine learning supervisé "
   ]
  },
  {
   "cell_type": "markdown",
   "id": "ea458a4e-570b-48aa-96ff-b52fd2556757",
   "metadata": {},
   "source": [
    "## Régression logistique "
   ]
  },
  {
   "cell_type": "code",
   "execution_count": 56,
   "id": "0136a3e4-e656-454f-a9e7-47047dae5e3f",
   "metadata": {},
   "outputs": [
    {
     "data": {
      "text/html": [
       "<div>\n",
       "<style scoped>\n",
       "    .dataframe tbody tr th:only-of-type {\n",
       "        vertical-align: middle;\n",
       "    }\n",
       "\n",
       "    .dataframe tbody tr th {\n",
       "        vertical-align: top;\n",
       "    }\n",
       "\n",
       "    .dataframe thead th {\n",
       "        text-align: right;\n",
       "    }\n",
       "</style>\n",
       "<table border=\"1\" class=\"dataframe\">\n",
       "  <thead>\n",
       "    <tr style=\"text-align: right;\">\n",
       "      <th></th>\n",
       "      <th>is_genuine</th>\n",
       "      <th>diagonal</th>\n",
       "      <th>height_left</th>\n",
       "      <th>height_right</th>\n",
       "      <th>margin_low</th>\n",
       "      <th>margin_up</th>\n",
       "      <th>length</th>\n",
       "    </tr>\n",
       "  </thead>\n",
       "  <tbody>\n",
       "    <tr>\n",
       "      <th>0</th>\n",
       "      <td>True</td>\n",
       "      <td>171.81</td>\n",
       "      <td>104.86</td>\n",
       "      <td>104.95</td>\n",
       "      <td>4.52</td>\n",
       "      <td>2.89</td>\n",
       "      <td>112.83</td>\n",
       "    </tr>\n",
       "    <tr>\n",
       "      <th>1</th>\n",
       "      <td>True</td>\n",
       "      <td>171.46</td>\n",
       "      <td>103.36</td>\n",
       "      <td>103.66</td>\n",
       "      <td>3.77</td>\n",
       "      <td>2.99</td>\n",
       "      <td>113.09</td>\n",
       "    </tr>\n",
       "    <tr>\n",
       "      <th>2</th>\n",
       "      <td>True</td>\n",
       "      <td>172.69</td>\n",
       "      <td>104.48</td>\n",
       "      <td>103.50</td>\n",
       "      <td>4.40</td>\n",
       "      <td>2.94</td>\n",
       "      <td>113.16</td>\n",
       "    </tr>\n",
       "  </tbody>\n",
       "</table>\n",
       "</div>"
      ],
      "text/plain": [
       "   is_genuine  diagonal  height_left  height_right  margin_low  margin_up  \\\n",
       "0        True    171.81       104.86        104.95        4.52       2.89   \n",
       "1        True    171.46       103.36        103.66        3.77       2.99   \n",
       "2        True    172.69       104.48        103.50        4.40       2.94   \n",
       "\n",
       "   length  \n",
       "0  112.83  \n",
       "1  113.09  \n",
       "2  113.16  "
      ]
     },
     "execution_count": 56,
     "metadata": {},
     "output_type": "execute_result"
    }
   ],
   "source": [
    "# Faire une copie\n",
    "df = data.copy()\n",
    "# Afficher les données\n",
    "df.head(3)"
   ]
  },
  {
   "cell_type": "code",
   "execution_count": 57,
   "id": "10c200c4-5667-4f2e-afa6-debe24996b1b",
   "metadata": {},
   "outputs": [
    {
     "data": {
      "text/html": [
       "<div>\n",
       "<style scoped>\n",
       "    .dataframe tbody tr th:only-of-type {\n",
       "        vertical-align: middle;\n",
       "    }\n",
       "\n",
       "    .dataframe tbody tr th {\n",
       "        vertical-align: top;\n",
       "    }\n",
       "\n",
       "    .dataframe thead th {\n",
       "        text-align: right;\n",
       "    }\n",
       "</style>\n",
       "<table border=\"1\" class=\"dataframe\">\n",
       "  <thead>\n",
       "    <tr style=\"text-align: right;\">\n",
       "      <th></th>\n",
       "      <th>is_genuine</th>\n",
       "      <th>diagonal</th>\n",
       "      <th>height_left</th>\n",
       "      <th>height_right</th>\n",
       "      <th>margin_low</th>\n",
       "      <th>margin_up</th>\n",
       "      <th>length</th>\n",
       "    </tr>\n",
       "  </thead>\n",
       "  <tbody>\n",
       "    <tr>\n",
       "      <th>1386</th>\n",
       "      <td>0</td>\n",
       "      <td>172.05</td>\n",
       "      <td>104.22</td>\n",
       "      <td>104.05</td>\n",
       "      <td>5.87</td>\n",
       "      <td>3.18</td>\n",
       "      <td>111.13</td>\n",
       "    </tr>\n",
       "    <tr>\n",
       "      <th>442</th>\n",
       "      <td>1</td>\n",
       "      <td>172.03</td>\n",
       "      <td>103.73</td>\n",
       "      <td>104.19</td>\n",
       "      <td>3.75</td>\n",
       "      <td>2.87</td>\n",
       "      <td>112.49</td>\n",
       "    </tr>\n",
       "    <tr>\n",
       "      <th>594</th>\n",
       "      <td>1</td>\n",
       "      <td>171.65</td>\n",
       "      <td>103.43</td>\n",
       "      <td>103.83</td>\n",
       "      <td>4.36</td>\n",
       "      <td>3.10</td>\n",
       "      <td>113.53</td>\n",
       "    </tr>\n",
       "    <tr>\n",
       "      <th>729</th>\n",
       "      <td>1</td>\n",
       "      <td>171.04</td>\n",
       "      <td>103.84</td>\n",
       "      <td>103.64</td>\n",
       "      <td>4.22</td>\n",
       "      <td>3.36</td>\n",
       "      <td>112.70</td>\n",
       "    </tr>\n",
       "    <tr>\n",
       "      <th>649</th>\n",
       "      <td>1</td>\n",
       "      <td>171.59</td>\n",
       "      <td>104.06</td>\n",
       "      <td>103.99</td>\n",
       "      <td>3.93</td>\n",
       "      <td>3.24</td>\n",
       "      <td>112.80</td>\n",
       "    </tr>\n",
       "  </tbody>\n",
       "</table>\n",
       "</div>"
      ],
      "text/plain": [
       "      is_genuine  diagonal  height_left  height_right  margin_low  margin_up  \\\n",
       "1386           0    172.05       104.22        104.05        5.87       3.18   \n",
       "442            1    172.03       103.73        104.19        3.75       2.87   \n",
       "594            1    171.65       103.43        103.83        4.36       3.10   \n",
       "729            1    171.04       103.84        103.64        4.22       3.36   \n",
       "649            1    171.59       104.06        103.99        3.93       3.24   \n",
       "\n",
       "      length  \n",
       "1386  111.13  \n",
       "442   112.49  \n",
       "594   113.53  \n",
       "729   112.70  \n",
       "649   112.80  "
      ]
     },
     "execution_count": 57,
     "metadata": {},
     "output_type": "execute_result"
    }
   ],
   "source": [
    "# Remplacer les données de la colonne \"is_genuine\"\n",
    "df[\"is_genuine\"] = df[\"is_genuine\"].astype(int)\n",
    "# Affichage après remplacement des données\n",
    "df.sample(5)"
   ]
  },
  {
   "cell_type": "code",
   "execution_count": 58,
   "id": "fdab7bff-b16c-468e-92c2-683e4b7d987b",
   "metadata": {},
   "outputs": [
    {
     "name": "stdout",
     "output_type": "stream",
     "text": [
      "(1500, 6)\n",
      "(1500,)\n"
     ]
    }
   ],
   "source": [
    "# features\n",
    "X = df.drop(columns = [\"is_genuine\"], axis = 1)\n",
    "\n",
    "# variable cible            \n",
    "y = df[\"is_genuine\"]   \n",
    "\n",
    "print(X.shape)\n",
    "print(y.shape)"
   ]
  },
  {
   "cell_type": "code",
   "execution_count": 59,
   "id": "1320a86b-5ffe-4a10-8571-74428514cd3f",
   "metadata": {},
   "outputs": [
    {
     "name": "stdout",
     "output_type": "stream",
     "text": [
      "X_train shape: (1125, 6)\n",
      "X_test shape: (375, 6)\n",
      "y_train shape: (1125,)\n",
      "y_test shape: (375,)\n"
     ]
    }
   ],
   "source": [
    "# Données d'entrainement et de test\n",
    "seed = 42\n",
    "X_train, X_test, y_train, y_test = train_test_split(X, y, test_size = 0.25, random_state = seed)\n",
    "print(\"X_train shape:\", X_train.shape)\n",
    "print(\"X_test shape:\", X_test.shape)\n",
    "print(\"y_train shape:\", y_train.shape)\n",
    "print(\"y_test shape:\", y_test.shape)"
   ]
  },
  {
   "cell_type": "code",
   "execution_count": 60,
   "id": "77c8dd1e-ee14-4636-bc18-cf45f5aa7ae9",
   "metadata": {},
   "outputs": [],
   "source": [
    "# Standardisation\n",
    "scaler = StandardScaler()\n",
    "scaler.fit(X_train)\n",
    "X_train = pd.DataFrame(scaler.transform(X_train), columns = X.columns)\n",
    "X_test = pd.DataFrame(scaler.transform(X_test), columns = X.columns)"
   ]
  },
  {
   "cell_type": "code",
   "execution_count": 61,
   "id": "b6c9cbf0-8c19-4c79-92b8-50f9c4c15a08",
   "metadata": {},
   "outputs": [
    {
     "data": {
      "text/html": [
       "<style>#sk-container-id-2 {\n",
       "  /* Definition of color scheme common for light and dark mode */\n",
       "  --sklearn-color-text: black;\n",
       "  --sklearn-color-line: gray;\n",
       "  /* Definition of color scheme for unfitted estimators */\n",
       "  --sklearn-color-unfitted-level-0: #fff5e6;\n",
       "  --sklearn-color-unfitted-level-1: #f6e4d2;\n",
       "  --sklearn-color-unfitted-level-2: #ffe0b3;\n",
       "  --sklearn-color-unfitted-level-3: chocolate;\n",
       "  /* Definition of color scheme for fitted estimators */\n",
       "  --sklearn-color-fitted-level-0: #f0f8ff;\n",
       "  --sklearn-color-fitted-level-1: #d4ebff;\n",
       "  --sklearn-color-fitted-level-2: #b3dbfd;\n",
       "  --sklearn-color-fitted-level-3: cornflowerblue;\n",
       "\n",
       "  /* Specific color for light theme */\n",
       "  --sklearn-color-text-on-default-background: var(--sg-text-color, var(--theme-code-foreground, var(--jp-content-font-color1, black)));\n",
       "  --sklearn-color-background: var(--sg-background-color, var(--theme-background, var(--jp-layout-color0, white)));\n",
       "  --sklearn-color-border-box: var(--sg-text-color, var(--theme-code-foreground, var(--jp-content-font-color1, black)));\n",
       "  --sklearn-color-icon: #696969;\n",
       "\n",
       "  @media (prefers-color-scheme: dark) {\n",
       "    /* Redefinition of color scheme for dark theme */\n",
       "    --sklearn-color-text-on-default-background: var(--sg-text-color, var(--theme-code-foreground, var(--jp-content-font-color1, white)));\n",
       "    --sklearn-color-background: var(--sg-background-color, var(--theme-background, var(--jp-layout-color0, #111)));\n",
       "    --sklearn-color-border-box: var(--sg-text-color, var(--theme-code-foreground, var(--jp-content-font-color1, white)));\n",
       "    --sklearn-color-icon: #878787;\n",
       "  }\n",
       "}\n",
       "\n",
       "#sk-container-id-2 {\n",
       "  color: var(--sklearn-color-text);\n",
       "}\n",
       "\n",
       "#sk-container-id-2 pre {\n",
       "  padding: 0;\n",
       "}\n",
       "\n",
       "#sk-container-id-2 input.sk-hidden--visually {\n",
       "  border: 0;\n",
       "  clip: rect(1px 1px 1px 1px);\n",
       "  clip: rect(1px, 1px, 1px, 1px);\n",
       "  height: 1px;\n",
       "  margin: -1px;\n",
       "  overflow: hidden;\n",
       "  padding: 0;\n",
       "  position: absolute;\n",
       "  width: 1px;\n",
       "}\n",
       "\n",
       "#sk-container-id-2 div.sk-dashed-wrapped {\n",
       "  border: 1px dashed var(--sklearn-color-line);\n",
       "  margin: 0 0.4em 0.5em 0.4em;\n",
       "  box-sizing: border-box;\n",
       "  padding-bottom: 0.4em;\n",
       "  background-color: var(--sklearn-color-background);\n",
       "}\n",
       "\n",
       "#sk-container-id-2 div.sk-container {\n",
       "  /* jupyter's `normalize.less` sets `[hidden] { display: none; }`\n",
       "     but bootstrap.min.css set `[hidden] { display: none !important; }`\n",
       "     so we also need the `!important` here to be able to override the\n",
       "     default hidden behavior on the sphinx rendered scikit-learn.org.\n",
       "     See: https://github.com/scikit-learn/scikit-learn/issues/21755 */\n",
       "  display: inline-block !important;\n",
       "  position: relative;\n",
       "}\n",
       "\n",
       "#sk-container-id-2 div.sk-text-repr-fallback {\n",
       "  display: none;\n",
       "}\n",
       "\n",
       "div.sk-parallel-item,\n",
       "div.sk-serial,\n",
       "div.sk-item {\n",
       "  /* draw centered vertical line to link estimators */\n",
       "  background-image: linear-gradient(var(--sklearn-color-text-on-default-background), var(--sklearn-color-text-on-default-background));\n",
       "  background-size: 2px 100%;\n",
       "  background-repeat: no-repeat;\n",
       "  background-position: center center;\n",
       "}\n",
       "\n",
       "/* Parallel-specific style estimator block */\n",
       "\n",
       "#sk-container-id-2 div.sk-parallel-item::after {\n",
       "  content: \"\";\n",
       "  width: 100%;\n",
       "  border-bottom: 2px solid var(--sklearn-color-text-on-default-background);\n",
       "  flex-grow: 1;\n",
       "}\n",
       "\n",
       "#sk-container-id-2 div.sk-parallel {\n",
       "  display: flex;\n",
       "  align-items: stretch;\n",
       "  justify-content: center;\n",
       "  background-color: var(--sklearn-color-background);\n",
       "  position: relative;\n",
       "}\n",
       "\n",
       "#sk-container-id-2 div.sk-parallel-item {\n",
       "  display: flex;\n",
       "  flex-direction: column;\n",
       "}\n",
       "\n",
       "#sk-container-id-2 div.sk-parallel-item:first-child::after {\n",
       "  align-self: flex-end;\n",
       "  width: 50%;\n",
       "}\n",
       "\n",
       "#sk-container-id-2 div.sk-parallel-item:last-child::after {\n",
       "  align-self: flex-start;\n",
       "  width: 50%;\n",
       "}\n",
       "\n",
       "#sk-container-id-2 div.sk-parallel-item:only-child::after {\n",
       "  width: 0;\n",
       "}\n",
       "\n",
       "/* Serial-specific style estimator block */\n",
       "\n",
       "#sk-container-id-2 div.sk-serial {\n",
       "  display: flex;\n",
       "  flex-direction: column;\n",
       "  align-items: center;\n",
       "  background-color: var(--sklearn-color-background);\n",
       "  padding-right: 1em;\n",
       "  padding-left: 1em;\n",
       "}\n",
       "\n",
       "\n",
       "/* Toggleable style: style used for estimator/Pipeline/ColumnTransformer box that is\n",
       "clickable and can be expanded/collapsed.\n",
       "- Pipeline and ColumnTransformer use this feature and define the default style\n",
       "- Estimators will overwrite some part of the style using the `sk-estimator` class\n",
       "*/\n",
       "\n",
       "/* Pipeline and ColumnTransformer style (default) */\n",
       "\n",
       "#sk-container-id-2 div.sk-toggleable {\n",
       "  /* Default theme specific background. It is overwritten whether we have a\n",
       "  specific estimator or a Pipeline/ColumnTransformer */\n",
       "  background-color: var(--sklearn-color-background);\n",
       "}\n",
       "\n",
       "/* Toggleable label */\n",
       "#sk-container-id-2 label.sk-toggleable__label {\n",
       "  cursor: pointer;\n",
       "  display: block;\n",
       "  width: 100%;\n",
       "  margin-bottom: 0;\n",
       "  padding: 0.5em;\n",
       "  box-sizing: border-box;\n",
       "  text-align: center;\n",
       "}\n",
       "\n",
       "#sk-container-id-2 label.sk-toggleable__label-arrow:before {\n",
       "  /* Arrow on the left of the label */\n",
       "  content: \"▸\";\n",
       "  float: left;\n",
       "  margin-right: 0.25em;\n",
       "  color: var(--sklearn-color-icon);\n",
       "}\n",
       "\n",
       "#sk-container-id-2 label.sk-toggleable__label-arrow:hover:before {\n",
       "  color: var(--sklearn-color-text);\n",
       "}\n",
       "\n",
       "/* Toggleable content - dropdown */\n",
       "\n",
       "#sk-container-id-2 div.sk-toggleable__content {\n",
       "  max-height: 0;\n",
       "  max-width: 0;\n",
       "  overflow: hidden;\n",
       "  text-align: left;\n",
       "  /* unfitted */\n",
       "  background-color: var(--sklearn-color-unfitted-level-0);\n",
       "}\n",
       "\n",
       "#sk-container-id-2 div.sk-toggleable__content.fitted {\n",
       "  /* fitted */\n",
       "  background-color: var(--sklearn-color-fitted-level-0);\n",
       "}\n",
       "\n",
       "#sk-container-id-2 div.sk-toggleable__content pre {\n",
       "  margin: 0.2em;\n",
       "  border-radius: 0.25em;\n",
       "  color: var(--sklearn-color-text);\n",
       "  /* unfitted */\n",
       "  background-color: var(--sklearn-color-unfitted-level-0);\n",
       "}\n",
       "\n",
       "#sk-container-id-2 div.sk-toggleable__content.fitted pre {\n",
       "  /* unfitted */\n",
       "  background-color: var(--sklearn-color-fitted-level-0);\n",
       "}\n",
       "\n",
       "#sk-container-id-2 input.sk-toggleable__control:checked~div.sk-toggleable__content {\n",
       "  /* Expand drop-down */\n",
       "  max-height: 200px;\n",
       "  max-width: 100%;\n",
       "  overflow: auto;\n",
       "}\n",
       "\n",
       "#sk-container-id-2 input.sk-toggleable__control:checked~label.sk-toggleable__label-arrow:before {\n",
       "  content: \"▾\";\n",
       "}\n",
       "\n",
       "/* Pipeline/ColumnTransformer-specific style */\n",
       "\n",
       "#sk-container-id-2 div.sk-label input.sk-toggleable__control:checked~label.sk-toggleable__label {\n",
       "  color: var(--sklearn-color-text);\n",
       "  background-color: var(--sklearn-color-unfitted-level-2);\n",
       "}\n",
       "\n",
       "#sk-container-id-2 div.sk-label.fitted input.sk-toggleable__control:checked~label.sk-toggleable__label {\n",
       "  background-color: var(--sklearn-color-fitted-level-2);\n",
       "}\n",
       "\n",
       "/* Estimator-specific style */\n",
       "\n",
       "/* Colorize estimator box */\n",
       "#sk-container-id-2 div.sk-estimator input.sk-toggleable__control:checked~label.sk-toggleable__label {\n",
       "  /* unfitted */\n",
       "  background-color: var(--sklearn-color-unfitted-level-2);\n",
       "}\n",
       "\n",
       "#sk-container-id-2 div.sk-estimator.fitted input.sk-toggleable__control:checked~label.sk-toggleable__label {\n",
       "  /* fitted */\n",
       "  background-color: var(--sklearn-color-fitted-level-2);\n",
       "}\n",
       "\n",
       "#sk-container-id-2 div.sk-label label.sk-toggleable__label,\n",
       "#sk-container-id-2 div.sk-label label {\n",
       "  /* The background is the default theme color */\n",
       "  color: var(--sklearn-color-text-on-default-background);\n",
       "}\n",
       "\n",
       "/* On hover, darken the color of the background */\n",
       "#sk-container-id-2 div.sk-label:hover label.sk-toggleable__label {\n",
       "  color: var(--sklearn-color-text);\n",
       "  background-color: var(--sklearn-color-unfitted-level-2);\n",
       "}\n",
       "\n",
       "/* Label box, darken color on hover, fitted */\n",
       "#sk-container-id-2 div.sk-label.fitted:hover label.sk-toggleable__label.fitted {\n",
       "  color: var(--sklearn-color-text);\n",
       "  background-color: var(--sklearn-color-fitted-level-2);\n",
       "}\n",
       "\n",
       "/* Estimator label */\n",
       "\n",
       "#sk-container-id-2 div.sk-label label {\n",
       "  font-family: monospace;\n",
       "  font-weight: bold;\n",
       "  display: inline-block;\n",
       "  line-height: 1.2em;\n",
       "}\n",
       "\n",
       "#sk-container-id-2 div.sk-label-container {\n",
       "  text-align: center;\n",
       "}\n",
       "\n",
       "/* Estimator-specific */\n",
       "#sk-container-id-2 div.sk-estimator {\n",
       "  font-family: monospace;\n",
       "  border: 1px dotted var(--sklearn-color-border-box);\n",
       "  border-radius: 0.25em;\n",
       "  box-sizing: border-box;\n",
       "  margin-bottom: 0.5em;\n",
       "  /* unfitted */\n",
       "  background-color: var(--sklearn-color-unfitted-level-0);\n",
       "}\n",
       "\n",
       "#sk-container-id-2 div.sk-estimator.fitted {\n",
       "  /* fitted */\n",
       "  background-color: var(--sklearn-color-fitted-level-0);\n",
       "}\n",
       "\n",
       "/* on hover */\n",
       "#sk-container-id-2 div.sk-estimator:hover {\n",
       "  /* unfitted */\n",
       "  background-color: var(--sklearn-color-unfitted-level-2);\n",
       "}\n",
       "\n",
       "#sk-container-id-2 div.sk-estimator.fitted:hover {\n",
       "  /* fitted */\n",
       "  background-color: var(--sklearn-color-fitted-level-2);\n",
       "}\n",
       "\n",
       "/* Specification for estimator info (e.g. \"i\" and \"?\") */\n",
       "\n",
       "/* Common style for \"i\" and \"?\" */\n",
       "\n",
       ".sk-estimator-doc-link,\n",
       "a:link.sk-estimator-doc-link,\n",
       "a:visited.sk-estimator-doc-link {\n",
       "  float: right;\n",
       "  font-size: smaller;\n",
       "  line-height: 1em;\n",
       "  font-family: monospace;\n",
       "  background-color: var(--sklearn-color-background);\n",
       "  border-radius: 1em;\n",
       "  height: 1em;\n",
       "  width: 1em;\n",
       "  text-decoration: none !important;\n",
       "  margin-left: 1ex;\n",
       "  /* unfitted */\n",
       "  border: var(--sklearn-color-unfitted-level-1) 1pt solid;\n",
       "  color: var(--sklearn-color-unfitted-level-1);\n",
       "}\n",
       "\n",
       ".sk-estimator-doc-link.fitted,\n",
       "a:link.sk-estimator-doc-link.fitted,\n",
       "a:visited.sk-estimator-doc-link.fitted {\n",
       "  /* fitted */\n",
       "  border: var(--sklearn-color-fitted-level-1) 1pt solid;\n",
       "  color: var(--sklearn-color-fitted-level-1);\n",
       "}\n",
       "\n",
       "/* On hover */\n",
       "div.sk-estimator:hover .sk-estimator-doc-link:hover,\n",
       ".sk-estimator-doc-link:hover,\n",
       "div.sk-label-container:hover .sk-estimator-doc-link:hover,\n",
       ".sk-estimator-doc-link:hover {\n",
       "  /* unfitted */\n",
       "  background-color: var(--sklearn-color-unfitted-level-3);\n",
       "  color: var(--sklearn-color-background);\n",
       "  text-decoration: none;\n",
       "}\n",
       "\n",
       "div.sk-estimator.fitted:hover .sk-estimator-doc-link.fitted:hover,\n",
       ".sk-estimator-doc-link.fitted:hover,\n",
       "div.sk-label-container:hover .sk-estimator-doc-link.fitted:hover,\n",
       ".sk-estimator-doc-link.fitted:hover {\n",
       "  /* fitted */\n",
       "  background-color: var(--sklearn-color-fitted-level-3);\n",
       "  color: var(--sklearn-color-background);\n",
       "  text-decoration: none;\n",
       "}\n",
       "\n",
       "/* Span, style for the box shown on hovering the info icon */\n",
       ".sk-estimator-doc-link span {\n",
       "  display: none;\n",
       "  z-index: 9999;\n",
       "  position: relative;\n",
       "  font-weight: normal;\n",
       "  right: .2ex;\n",
       "  padding: .5ex;\n",
       "  margin: .5ex;\n",
       "  width: min-content;\n",
       "  min-width: 20ex;\n",
       "  max-width: 50ex;\n",
       "  color: var(--sklearn-color-text);\n",
       "  box-shadow: 2pt 2pt 4pt #999;\n",
       "  /* unfitted */\n",
       "  background: var(--sklearn-color-unfitted-level-0);\n",
       "  border: .5pt solid var(--sklearn-color-unfitted-level-3);\n",
       "}\n",
       "\n",
       ".sk-estimator-doc-link.fitted span {\n",
       "  /* fitted */\n",
       "  background: var(--sklearn-color-fitted-level-0);\n",
       "  border: var(--sklearn-color-fitted-level-3);\n",
       "}\n",
       "\n",
       ".sk-estimator-doc-link:hover span {\n",
       "  display: block;\n",
       "}\n",
       "\n",
       "/* \"?\"-specific style due to the `<a>` HTML tag */\n",
       "\n",
       "#sk-container-id-2 a.estimator_doc_link {\n",
       "  float: right;\n",
       "  font-size: 1rem;\n",
       "  line-height: 1em;\n",
       "  font-family: monospace;\n",
       "  background-color: var(--sklearn-color-background);\n",
       "  border-radius: 1rem;\n",
       "  height: 1rem;\n",
       "  width: 1rem;\n",
       "  text-decoration: none;\n",
       "  /* unfitted */\n",
       "  color: var(--sklearn-color-unfitted-level-1);\n",
       "  border: var(--sklearn-color-unfitted-level-1) 1pt solid;\n",
       "}\n",
       "\n",
       "#sk-container-id-2 a.estimator_doc_link.fitted {\n",
       "  /* fitted */\n",
       "  border: var(--sklearn-color-fitted-level-1) 1pt solid;\n",
       "  color: var(--sklearn-color-fitted-level-1);\n",
       "}\n",
       "\n",
       "/* On hover */\n",
       "#sk-container-id-2 a.estimator_doc_link:hover {\n",
       "  /* unfitted */\n",
       "  background-color: var(--sklearn-color-unfitted-level-3);\n",
       "  color: var(--sklearn-color-background);\n",
       "  text-decoration: none;\n",
       "}\n",
       "\n",
       "#sk-container-id-2 a.estimator_doc_link.fitted:hover {\n",
       "  /* fitted */\n",
       "  background-color: var(--sklearn-color-fitted-level-3);\n",
       "}\n",
       "</style><div id=\"sk-container-id-2\" class=\"sk-top-container\"><div class=\"sk-text-repr-fallback\"><pre>LogisticRegression(multi_class=&#x27;auto&#x27;, random_state=42, solver=&#x27;liblinear&#x27;)</pre><b>In a Jupyter environment, please rerun this cell to show the HTML representation or trust the notebook. <br />On GitHub, the HTML representation is unable to render, please try loading this page with nbviewer.org.</b></div><div class=\"sk-container\" hidden><div class=\"sk-item\"><div class=\"sk-estimator fitted sk-toggleable\"><input class=\"sk-toggleable__control sk-hidden--visually\" id=\"sk-estimator-id-5\" type=\"checkbox\" checked><label for=\"sk-estimator-id-5\" class=\"sk-toggleable__label fitted sk-toggleable__label-arrow fitted\">&nbsp;&nbsp;LogisticRegression<a class=\"sk-estimator-doc-link fitted\" rel=\"noreferrer\" target=\"_blank\" href=\"https://scikit-learn.org/1.5/modules/generated/sklearn.linear_model.LogisticRegression.html\">?<span>Documentation for LogisticRegression</span></a><span class=\"sk-estimator-doc-link fitted\">i<span>Fitted</span></span></label><div class=\"sk-toggleable__content fitted\"><pre>LogisticRegression(multi_class=&#x27;auto&#x27;, random_state=42, solver=&#x27;liblinear&#x27;)</pre></div> </div></div></div></div>"
      ],
      "text/plain": [
       "LogisticRegression(multi_class='auto', random_state=42, solver='liblinear')"
      ]
     },
     "execution_count": 61,
     "metadata": {},
     "output_type": "execute_result"
    }
   ],
   "source": [
    "# Instanciation du modèle\n",
    "lr_model = LogisticRegression(random_state = 42, solver = 'liblinear', multi_class = 'auto')\n",
    "\n",
    "# Appliquer le modèle (entrainement)\n",
    "lr_model.fit(X_train, y_train)"
   ]
  },
  {
   "cell_type": "code",
   "execution_count": 62,
   "id": "2d208964-d053-4c03-aae1-0bf85de2d913",
   "metadata": {},
   "outputs": [],
   "source": [
    "# Prédiction\n",
    "y_pred = lr_model.predict(X_test)"
   ]
  },
  {
   "cell_type": "code",
   "execution_count": 63,
   "id": "96537f88-6606-4246-ba4b-e85683dc2cd2",
   "metadata": {},
   "outputs": [
    {
     "name": "stdout",
     "output_type": "stream",
     "text": [
      "Le score sur les données d'entraînement est : 0.992\n",
      "Le score sur les données d'évaluation est : 0.992\n"
     ]
    }
   ],
   "source": [
    "# Précision globale du modèle\n",
    "print(\"Le score sur les données d'entraînement est :\", lr_model.score(X_train, y_train))\n",
    "print(\"Le score sur les données d'évaluation est :\", lr_model.score(X_test, y_test))"
   ]
  },
  {
   "cell_type": "code",
   "execution_count": 64,
   "id": "7c5004e8-8322-41c6-9b43-43d2e27ce934",
   "metadata": {},
   "outputs": [
    {
     "name": "stdout",
     "output_type": "stream",
     "text": [
      "              precision    recall  f1-score   support\n",
      "\n",
      "           0       0.99      0.99      0.99       135\n",
      "           1       0.99      1.00      0.99       240\n",
      "\n",
      "    accuracy                           0.99       375\n",
      "   macro avg       0.99      0.99      0.99       375\n",
      "weighted avg       0.99      0.99      0.99       375\n",
      "\n"
     ]
    }
   ],
   "source": [
    "print(metrics.classification_report(y_test, y_pred))"
   ]
  },
  {
   "cell_type": "code",
   "execution_count": 65,
   "id": "6c188673-9569-4e51-bee7-24b0a5421a5e",
   "metadata": {},
   "outputs": [
    {
     "data": {
      "text/html": [
       "<div>\n",
       "<style scoped>\n",
       "    .dataframe tbody tr th:only-of-type {\n",
       "        vertical-align: middle;\n",
       "    }\n",
       "\n",
       "    .dataframe tbody tr th {\n",
       "        vertical-align: top;\n",
       "    }\n",
       "\n",
       "    .dataframe thead th {\n",
       "        text-align: right;\n",
       "    }\n",
       "</style>\n",
       "<table border=\"1\" class=\"dataframe\">\n",
       "  <thead>\n",
       "    <tr style=\"text-align: right;\">\n",
       "      <th>col_0</th>\n",
       "      <th>0</th>\n",
       "      <th>1</th>\n",
       "    </tr>\n",
       "    <tr>\n",
       "      <th>is_genuine</th>\n",
       "      <th></th>\n",
       "      <th></th>\n",
       "    </tr>\n",
       "  </thead>\n",
       "  <tbody>\n",
       "    <tr>\n",
       "      <th>0</th>\n",
       "      <td>133</td>\n",
       "      <td>2</td>\n",
       "    </tr>\n",
       "    <tr>\n",
       "      <th>1</th>\n",
       "      <td>1</td>\n",
       "      <td>239</td>\n",
       "    </tr>\n",
       "  </tbody>\n",
       "</table>\n",
       "</div>"
      ],
      "text/plain": [
       "col_0         0    1\n",
       "is_genuine          \n",
       "0           133    2\n",
       "1             1  239"
      ]
     },
     "execution_count": 65,
     "metadata": {},
     "output_type": "execute_result"
    }
   ],
   "source": [
    "# Visualisation des données de la matrice \n",
    "cont_table_rl = pd.crosstab(y_test, y_pred)\n",
    "cont_table_rl"
   ]
  },
  {
   "cell_type": "code",
   "execution_count": 66,
   "id": "bd4b5027-1a1f-4756-84a1-eddbae9aa9cb",
   "metadata": {},
   "outputs": [
    {
     "data": {
      "image/png": "[encoded data removed]",
      "text/plain": [
       "<Figure size 600x400 with 2 Axes>"
      ]
     },
     "metadata": {},
     "output_type": "display_data"
    }
   ],
   "source": [
    "# Visualisation du tableau de contigence\n",
    "plt.figure(figsize = (6, 4))\n",
    "sns.heatmap(cont_table_rl, annot = cont_table_rl, fmt=\".3g\", linewidths=0.3, cmap=\"YlGnBu\")\n",
    "plt.xlabel(\"Prédictions\")\n",
    "plt.title(\"Matrice de confusion avec la régression logistique\", fontsize = 15, fontweight = \"bold\")\n",
    "plt.plot()\n",
    "plt.show()"
   ]
  },
  {
   "cell_type": "code",
   "execution_count": 67,
   "id": "008b03a7-a4b9-402f-9d5c-234fd546d606",
   "metadata": {},
   "outputs": [],
   "source": [
    "# Sauvegarde du modèle \n",
    "import pickle\n",
    "pickle.dump(lr_model, open(\"classification_model.pkl\", \"wb\"))"
   ]
  },
  {
   "cell_type": "code",
   "execution_count": null,
   "id": "6db94ce6-811b-4f0a-89e1-804d931c2c1b",
   "metadata": {},
   "outputs": [],
   "source": []
  },
  {
   "cell_type": "markdown",
   "id": "dcd8cae1-264d-45b0-85f5-487b4b3ea8be",
   "metadata": {},
   "source": [
    "# prédiction sur de nouvelles données"
   ]
  },
  {
   "cell_type": "code",
   "execution_count": 68,
   "id": "b9f18745-09f4-4b28-9a96-ae75bf17ebdc",
   "metadata": {},
   "outputs": [],
   "source": [
    "# Chargement du modèle pour faire de nouvelles prédictions\n",
    "pickle_model_lr = pickle.load(open(\"classification_model.pkl\", \"rb\"))"
   ]
  },
  {
   "cell_type": "code",
   "execution_count": 69,
   "id": "538e1eaf-c546-42fe-ae1c-57a8ee32c60f",
   "metadata": {},
   "outputs": [],
   "source": [
    "# Création de la fonction pour automatiser la production du modèle\n",
    "def detect_billet(data):\n",
    "    data_test = data[['diagonal', 'height_left', 'height_right', 'margin_low', 'margin_up','length']]\n",
    "\n",
    "    # Standardisation\n",
    "    scaler = StandardScaler()\n",
    "    scaler.fit(data_test)\n",
    "    data_prod = pd.DataFrame(scaler.transform(data_test), columns = data_test.columns)\n",
    "    # Prédictions\n",
    "    data_test[\"prediction\"] = pickle_model_lr.predict(data_prod)\n",
    "    data_test[[\"proba_faux\",\"proba_vrai\"]] = pickle_model_lr.predict_proba(data_prod)\n",
    "    data_test[\"authentification\"] = pickle_model_lr.predict(data_prod[[\"diagonal\",\"height_left\",\"height_right\",\"margin_low\",\"margin_up\",\"length\"]])\n",
    "    data_test[\"authentification\"].replace([0,1],[\"Faux billet\", \"Vrai billet\"], inplace=True)\n",
    "    \n",
    "    # Afficher les résultats\n",
    "    display(data_test)\n",
    "    print(\"\\n\")\n",
    "    print(\"Nombre total de billets : \", len(data_test))\n",
    "    print(\"Nombre de vrais billets : \", len(data_test[data_test[\"prediction\"] == 1]))\n",
    "    print(\"Nombre de faux billets : \", len(data_test[data_test[\"prediction\"] == 0]), \"\\n\")\n",
    "    \n",
    "    \n",
    "    # Visualisation\n",
    "    labels=[\"Faux billet\", \"Vrai billet\"]\n",
    "    sns.countplot(x = \"authentification\", data = data_test, palette = palette)\n",
    "    plt.ylabel(\"Nombre de billets\")\n",
    "    plt.title(\"Détection du nombre des faux/vrais billets\", fontsize = 15, fontweight = \"bold\")\n",
    "    plt.show()\n",
    "    print(\"\\n\")"
   ]
  },
  {
   "cell_type": "code",
   "execution_count": 70,
   "id": "76e42763-cb25-425e-917f-3a5a87ec42f7",
   "metadata": {},
   "outputs": [
    {
     "data": {
      "text/html": [
       "<div>\n",
       "<style scoped>\n",
       "    .dataframe tbody tr th:only-of-type {\n",
       "        vertical-align: middle;\n",
       "    }\n",
       "\n",
       "    .dataframe tbody tr th {\n",
       "        vertical-align: top;\n",
       "    }\n",
       "\n",
       "    .dataframe thead th {\n",
       "        text-align: right;\n",
       "    }\n",
       "</style>\n",
       "<table border=\"1\" class=\"dataframe\">\n",
       "  <thead>\n",
       "    <tr style=\"text-align: right;\">\n",
       "      <th></th>\n",
       "      <th>diagonal</th>\n",
       "      <th>height_left</th>\n",
       "      <th>height_right</th>\n",
       "      <th>margin_low</th>\n",
       "      <th>margin_up</th>\n",
       "      <th>length</th>\n",
       "      <th>prediction</th>\n",
       "      <th>proba_faux</th>\n",
       "      <th>proba_vrai</th>\n",
       "      <th>authentification</th>\n",
       "    </tr>\n",
       "  </thead>\n",
       "  <tbody>\n",
       "    <tr>\n",
       "      <th>0</th>\n",
       "      <td>172.09</td>\n",
       "      <td>103.95</td>\n",
       "      <td>103.73</td>\n",
       "      <td>4.39</td>\n",
       "      <td>3.09</td>\n",
       "      <td>113.19</td>\n",
       "      <td>1</td>\n",
       "      <td>0.000064</td>\n",
       "      <td>0.999936</td>\n",
       "      <td>Vrai billet</td>\n",
       "    </tr>\n",
       "    <tr>\n",
       "      <th>1</th>\n",
       "      <td>171.52</td>\n",
       "      <td>104.17</td>\n",
       "      <td>104.03</td>\n",
       "      <td>5.27</td>\n",
       "      <td>3.16</td>\n",
       "      <td>111.82</td>\n",
       "      <td>0</td>\n",
       "      <td>0.897416</td>\n",
       "      <td>0.102584</td>\n",
       "      <td>Faux billet</td>\n",
       "    </tr>\n",
       "    <tr>\n",
       "      <th>2</th>\n",
       "      <td>171.78</td>\n",
       "      <td>103.80</td>\n",
       "      <td>103.75</td>\n",
       "      <td>3.81</td>\n",
       "      <td>3.24</td>\n",
       "      <td>113.39</td>\n",
       "      <td>1</td>\n",
       "      <td>0.000031</td>\n",
       "      <td>0.999969</td>\n",
       "      <td>Vrai billet</td>\n",
       "    </tr>\n",
       "    <tr>\n",
       "      <th>3</th>\n",
       "      <td>172.02</td>\n",
       "      <td>104.08</td>\n",
       "      <td>103.99</td>\n",
       "      <td>5.57</td>\n",
       "      <td>3.30</td>\n",
       "      <td>111.10</td>\n",
       "      <td>0</td>\n",
       "      <td>0.999674</td>\n",
       "      <td>0.000326</td>\n",
       "      <td>Faux billet</td>\n",
       "    </tr>\n",
       "    <tr>\n",
       "      <th>4</th>\n",
       "      <td>171.79</td>\n",
       "      <td>104.34</td>\n",
       "      <td>104.37</td>\n",
       "      <td>5.00</td>\n",
       "      <td>3.07</td>\n",
       "      <td>111.87</td>\n",
       "      <td>0</td>\n",
       "      <td>0.657787</td>\n",
       "      <td>0.342213</td>\n",
       "      <td>Faux billet</td>\n",
       "    </tr>\n",
       "  </tbody>\n",
       "</table>\n",
       "</div>"
      ],
      "text/plain": [
       "   diagonal  height_left  height_right  margin_low  margin_up  length  \\\n",
       "0    172.09       103.95        103.73        4.39       3.09  113.19   \n",
       "1    171.52       104.17        104.03        5.27       3.16  111.82   \n",
       "2    171.78       103.80        103.75        3.81       3.24  113.39   \n",
       "3    172.02       104.08        103.99        5.57       3.30  111.10   \n",
       "4    171.79       104.34        104.37        5.00       3.07  111.87   \n",
       "\n",
       "   prediction  proba_faux  proba_vrai authentification  \n",
       "0           1    0.000064    0.999936      Vrai billet  \n",
       "1           0    0.897416    0.102584      Faux billet  \n",
       "2           1    0.000031    0.999969      Vrai billet  \n",
       "3           0    0.999674    0.000326      Faux billet  \n",
       "4           0    0.657787    0.342213      Faux billet  "
      ]
     },
     "metadata": {},
     "output_type": "display_data"
    },
    {
     "name": "stdout",
     "output_type": "stream",
     "text": [
      "\n",
      "\n",
      "Nombre total de billets :  5\n",
      "Nombre de vrais billets :  2\n",
      "Nombre de faux billets :  3 \n",
      "\n"
     ]
    },
    {
     "data": {
      "image/png": "[encoded data removed]",
      "text/plain": [
       "<Figure size 800x550 with 1 Axes>"
      ]
     },
     "metadata": {},
     "output_type": "display_data"
    },
    {
     "name": "stdout",
     "output_type": "stream",
     "text": [
      "\n",
      "\n"
     ]
    }
   ],
   "source": [
    "data_production = pd.read_csv('billets_test.csv', sep =\",\")\n",
    "\n",
    "data_production = data_production[[\"diagonal\",\"height_left\",\"height_right\",\"margin_low\",\"margin_up\",\"length\"]]\n",
    "\n",
    "# Appel de la fonction\n",
    "detect_billet(data_production)"
   ]
  },
  {
   "cell_type": "code",
   "execution_count": 71,
   "id": "e0a25eb0-becc-47ca-bcb8-67dc7bc4e1e5",
   "metadata": {},
   "outputs": [
    {
     "data": {
      "text/html": [
       "<div>\n",
       "<style scoped>\n",
       "    .dataframe tbody tr th:only-of-type {\n",
       "        vertical-align: middle;\n",
       "    }\n",
       "\n",
       "    .dataframe tbody tr th {\n",
       "        vertical-align: top;\n",
       "    }\n",
       "\n",
       "    .dataframe thead th {\n",
       "        text-align: right;\n",
       "    }\n",
       "</style>\n",
       "<table border=\"1\" class=\"dataframe\">\n",
       "  <thead>\n",
       "    <tr style=\"text-align: right;\">\n",
       "      <th></th>\n",
       "      <th>diagonal</th>\n",
       "      <th>height_left</th>\n",
       "      <th>height_right</th>\n",
       "      <th>margin_low</th>\n",
       "      <th>margin_up</th>\n",
       "      <th>length</th>\n",
       "      <th>prediction</th>\n",
       "      <th>proba_faux</th>\n",
       "      <th>proba_vrai</th>\n",
       "      <th>authentification</th>\n",
       "    </tr>\n",
       "  </thead>\n",
       "  <tbody>\n",
       "    <tr>\n",
       "      <th>0</th>\n",
       "      <td>172.09</td>\n",
       "      <td>103.95</td>\n",
       "      <td>103.73</td>\n",
       "      <td>4.39</td>\n",
       "      <td>3.09</td>\n",
       "      <td>113.19</td>\n",
       "      <td>1</td>\n",
       "      <td>0.000064</td>\n",
       "      <td>0.999936</td>\n",
       "      <td>Vrai billet</td>\n",
       "    </tr>\n",
       "    <tr>\n",
       "      <th>1</th>\n",
       "      <td>171.52</td>\n",
       "      <td>104.17</td>\n",
       "      <td>104.03</td>\n",
       "      <td>5.27</td>\n",
       "      <td>3.16</td>\n",
       "      <td>111.82</td>\n",
       "      <td>0</td>\n",
       "      <td>0.897416</td>\n",
       "      <td>0.102584</td>\n",
       "      <td>Faux billet</td>\n",
       "    </tr>\n",
       "    <tr>\n",
       "      <th>2</th>\n",
       "      <td>171.78</td>\n",
       "      <td>103.80</td>\n",
       "      <td>103.75</td>\n",
       "      <td>3.81</td>\n",
       "      <td>3.24</td>\n",
       "      <td>113.39</td>\n",
       "      <td>1</td>\n",
       "      <td>0.000031</td>\n",
       "      <td>0.999969</td>\n",
       "      <td>Vrai billet</td>\n",
       "    </tr>\n",
       "    <tr>\n",
       "      <th>3</th>\n",
       "      <td>172.02</td>\n",
       "      <td>104.08</td>\n",
       "      <td>103.99</td>\n",
       "      <td>5.57</td>\n",
       "      <td>3.30</td>\n",
       "      <td>111.10</td>\n",
       "      <td>0</td>\n",
       "      <td>0.999674</td>\n",
       "      <td>0.000326</td>\n",
       "      <td>Faux billet</td>\n",
       "    </tr>\n",
       "    <tr>\n",
       "      <th>4</th>\n",
       "      <td>171.79</td>\n",
       "      <td>104.34</td>\n",
       "      <td>104.37</td>\n",
       "      <td>5.00</td>\n",
       "      <td>3.07</td>\n",
       "      <td>111.87</td>\n",
       "      <td>0</td>\n",
       "      <td>0.657787</td>\n",
       "      <td>0.342213</td>\n",
       "      <td>Faux billet</td>\n",
       "    </tr>\n",
       "  </tbody>\n",
       "</table>\n",
       "</div>"
      ],
      "text/plain": [
       "   diagonal  height_left  height_right  margin_low  margin_up  length  \\\n",
       "0    172.09       103.95        103.73        4.39       3.09  113.19   \n",
       "1    171.52       104.17        104.03        5.27       3.16  111.82   \n",
       "2    171.78       103.80        103.75        3.81       3.24  113.39   \n",
       "3    172.02       104.08        103.99        5.57       3.30  111.10   \n",
       "4    171.79       104.34        104.37        5.00       3.07  111.87   \n",
       "\n",
       "   prediction  proba_faux  proba_vrai authentification  \n",
       "0           1    0.000064    0.999936      Vrai billet  \n",
       "1           0    0.897416    0.102584      Faux billet  \n",
       "2           1    0.000031    0.999969      Vrai billet  \n",
       "3           0    0.999674    0.000326      Faux billet  \n",
       "4           0    0.657787    0.342213      Faux billet  "
      ]
     },
     "metadata": {},
     "output_type": "display_data"
    },
    {
     "name": "stdout",
     "output_type": "stream",
     "text": [
      "\n",
      "\n",
      "Nombre total de billets :  5\n",
      "Nombre de vrais billets :  2\n",
      "Nombre de faux billets :  3 \n",
      "\n"
     ]
    },
    {
     "data": {
      "image/png": "[encoded data removed]",
      "text/plain": [
       "<Figure size 800x550 with 1 Axes>"
      ]
     },
     "metadata": {},
     "output_type": "display_data"
    },
    {
     "name": "stdout",
     "output_type": "stream",
     "text": [
      "\n",
      "\n"
     ]
    }
   ],
   "source": [
    "data_final = pd.read_csv('billets_test.csv', sep =\",\")\n",
    "\n",
    "data_final = data_final[[\"diagonal\",\"height_left\",\"height_right\",\"margin_low\",\"margin_up\",\"length\"]]\n",
    "\n",
    "# Appel de la fonction\n",
    "detect_billet(data_final)"
   ]
  },
  {
   "cell_type": "code",
   "execution_count": 72,
   "id": "ce04ce0e-50d0-4893-bc10-0ae3591f7777",
   "metadata": {},
   "outputs": [
    {
     "name": "stdout",
     "output_type": "stream",
     "text": [
      "Scaler sauvegardé dans scaler.pkl\n"
     ]
    }
   ],
   "source": [
    "# Sauvegarder le scaler dans un fichier\n",
    "with open(\"scaler.pkl\", \"wb\") as file:\n",
    "    pickle.dump(scaler, file)\n",
    "\n",
    "print(\"Scaler sauvegardé dans scaler.pkl\")\n"
   ]
  },
  {
   "cell_type": "code",
   "execution_count": null,
   "id": "0f7fdb67-a3a9-429e-ace6-2a3623f88749",
   "metadata": {},
   "outputs": [],
   "source": []
  },
  {
   "cell_type": "code",
   "execution_count": null,
   "id": "9f153108-927b-40b9-8b09-d07d3797a18f",
   "metadata": {},
   "outputs": [],
   "source": []
  }
 ],
 "metadata": {
  "kernelspec": {
   "display_name": "Python 3 (ipykernel)",
   "language": "python",
   "name": "python3"
  },
  "language_info": {
   "codemirror_mode": {
    "name": "ipython",
    "version": 3
   },
   "file_extension": ".py",
   "mimetype": "text/x-python",
   "name": "python",
   "nbconvert_exporter": "python",
   "pygments_lexer": "ipython3",
   "version": "3.12.6"
  },
  "toc-autonumbering": true,
  "toc-showmarkdowntxt": true
 },
 "nbformat": 4,
 "nbformat_minor": 5
}
