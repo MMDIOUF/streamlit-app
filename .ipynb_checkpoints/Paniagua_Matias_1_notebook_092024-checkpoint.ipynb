{
 "cells": [
  {
   "cell_type": "markdown",
   "id": "519900f5-0d02-4931-84d5-36d4128962c2",
   "metadata": {},
   "source": [
    "## Préparation du notebook"
   ]
  },
  {
   "cell_type": "markdown",
   "id": "ec8440b0-59df-4178-81ae-4c2f0e2af4fb",
   "metadata": {},
   "source": [
    "## chargement librairies"
   ]
  },
  {
   "cell_type": "code",
   "execution_count": 7,
   "id": "1a1d5d5d",
   "metadata": {},
   "outputs": [
    {
     "ename": "ModuleNotFoundError",
     "evalue": "No module named 'pandas'",
     "output_type": "error",
     "traceback": [
      "\u001b[1;31m---------------------------------------------------------------------------\u001b[0m",
      "\u001b[1;31mModuleNotFoundError\u001b[0m                       Traceback (most recent call last)",
      "Cell \u001b[1;32mIn[7], line 1\u001b[0m\n\u001b[1;32m----> 1\u001b[0m \u001b[38;5;28;01mimport\u001b[39;00m \u001b[38;5;21;01mpandas\u001b[39;00m \u001b[38;5;28;01mas\u001b[39;00m \u001b[38;5;21;01mpd\u001b[39;00m\n",
      "\u001b[1;31mModuleNotFoundError\u001b[0m: No module named 'pandas'"
     ]
    }
   ],
   "source": [
    "import pandas as pd\n"
   ]
  },
  {
   "cell_type": "code",
   "execution_count": null,
   "id": "ea5502d0-59ca-4fc1-8999-e8131b6f4984",
   "metadata": {},
   "outputs": [
    {
     "ename": "ModuleNotFoundError",
     "evalue": "No module named 'pandas'",
     "output_type": "error",
     "traceback": [
      "\u001b[1;31m---------------------------------------------------------------------------\u001b[0m",
      "\u001b[1;31mModuleNotFoundError\u001b[0m                       Traceback (most recent call last)",
      "Cell \u001b[1;32mIn[2], line 3\u001b[0m\n\u001b[0;32m      1\u001b[0m \u001b[38;5;66;03m# import librairies\u001b[39;00m\n\u001b[0;32m      2\u001b[0m \u001b[38;5;28;01mimport\u001b[39;00m \u001b[38;5;21;01mnumpy\u001b[39;00m \u001b[38;5;28;01mas\u001b[39;00m \u001b[38;5;21;01mnp\u001b[39;00m\n\u001b[1;32m----> 3\u001b[0m \u001b[38;5;28;01mimport\u001b[39;00m \u001b[38;5;21;01mpandas\u001b[39;00m \u001b[38;5;28;01mas\u001b[39;00m \u001b[38;5;21;01mpd\u001b[39;00m\n\u001b[0;32m      4\u001b[0m \u001b[38;5;28;01mimport\u001b[39;00m \u001b[38;5;21;01mseaborn\u001b[39;00m \u001b[38;5;28;01mas\u001b[39;00m \u001b[38;5;21;01msns\u001b[39;00m\n\u001b[0;32m      5\u001b[0m \u001b[38;5;28;01mimport\u001b[39;00m \u001b[38;5;21;01mmatplotlib\u001b[39;00m\u001b[38;5;21;01m.\u001b[39;00m\u001b[38;5;21;01mpyplot\u001b[39;00m \u001b[38;5;28;01mas\u001b[39;00m \u001b[38;5;21;01mplt\u001b[39;00m\n",
      "\u001b[1;31mModuleNotFoundError\u001b[0m: No module named 'pandas'"
     ]
    }
   ],
   "source": [
    "# import librairies\n",
    "import numpy as np\n",
    "import pandas as pd\n",
    "import seaborn as sns\n",
    "import matplotlib.pyplot as plt\n",
    "from sklearn.linear_model import LinearRegression\n",
    "from sklearn.model_selection import train_test_split\n",
    "from sklearn.preprocessing import StandardScaler\n",
    "from sklearn.cluster import KMeans\n",
    "from sklearn.metrics import silhouette_score, silhouette_samples, davies_bouldin_score\n",
    "\n",
    "from scipy import stats\n",
    "from yellowbrick.cluster import KElbowVisualizer, SilhouetteVisualizer\n",
    "\n",
    "import warnings"
   ]
  },
  {
   "cell_type": "code",
   "execution_count": null,
   "id": "ee230e02-2bda-4863-ab18-f26f03ac53bd",
   "metadata": {},
   "outputs": [
    {
     "ename": "",
     "evalue": "",
     "output_type": "error",
     "traceback": [
      "\u001b[1;31mRunning cells with 'Python 3.10.0' requires the ipykernel package.\n",
      "\u001b[1;31mRun the following command to install 'ipykernel' into the Python environment. \n",
      "\u001b[1;31mCommand: 'c:/Users/diouf/AppData/Local/Programs/Python/Python310/python.exe -m pip install ipykernel -U --user --force-reinstall'"
     ]
    }
   ],
   "source": [
    "warnings.filterwarnings(\"ignore\")"
   ]
  },
  {
   "cell_type": "markdown",
   "id": "40b64228-b3db-437d-a5d5-ea4e28e975eb",
   "metadata": {},
   "source": [
    "## chargement jeu de données"
   ]
  },
  {
   "cell_type": "code",
   "execution_count": null,
   "id": "a26f3e75-7e39-4208-b8ba-f364cdfb0dcd",
   "metadata": {},
   "outputs": [
    {
     "ename": "",
     "evalue": "",
     "output_type": "error",
     "traceback": [
      "\u001b[1;31mRunning cells with 'Python 3.10.0' requires the ipykernel package.\n",
      "\u001b[1;31mRun the following command to install 'ipykernel' into the Python environment. \n",
      "\u001b[1;31mCommand: 'c:/Users/diouf/AppData/Local/Programs/Python/Python310/python.exe -m pip install ipykernel -U --user --force-reinstall'"
     ]
    }
   ],
   "source": [
    "# Chargement des données avec pandas\n",
    "data = pd.read_csv('billets.csv', sep=';')"
   ]
  },
  {
   "cell_type": "code",
   "execution_count": null,
   "id": "c0f64d8b-3807-4ac4-920f-dfeeafb4f30b",
   "metadata": {},
   "outputs": [
    {
     "ename": "",
     "evalue": "",
     "output_type": "error",
     "traceback": [
      "\u001b[1;31mRunning cells with 'Python 3.10.0' requires the ipykernel package.\n",
      "\u001b[1;31mRun the following command to install 'ipykernel' into the Python environment. \n",
      "\u001b[1;31mCommand: 'c:/Users/diouf/AppData/Local/Programs/Python/Python310/python.exe -m pip install ipykernel -U --user --force-reinstall'"
     ]
    }
   ],
   "source": [
    "print(data.shape)"
   ]
  },
  {
   "cell_type": "code",
   "execution_count": null,
   "id": "b032dac4-cb25-4a26-bcc3-258aa6b4c388",
   "metadata": {},
   "outputs": [
    {
     "ename": "",
     "evalue": "",
     "output_type": "error",
     "traceback": [
      "\u001b[1;31mRunning cells with 'Python 3.10.0' requires the ipykernel package.\n",
      "\u001b[1;31mRun the following command to install 'ipykernel' into the Python environment. \n",
      "\u001b[1;31mCommand: 'c:/Users/diouf/AppData/Local/Programs/Python/Python310/python.exe -m pip install ipykernel -U --user --force-reinstall'"
     ]
    }
   ],
   "source": [
    "data.info()"
   ]
  },
  {
   "cell_type": "code",
   "execution_count": null,
   "id": "3b1ec213-d938-466d-b14e-fadf907ca9b0",
   "metadata": {},
   "outputs": [
    {
     "ename": "",
     "evalue": "",
     "output_type": "error",
     "traceback": [
      "\u001b[1;31mRunning cells with 'Python 3.10.0' requires the ipykernel package.\n",
      "\u001b[1;31mRun the following command to install 'ipykernel' into the Python environment. \n",
      "\u001b[1;31mCommand: 'c:/Users/diouf/AppData/Local/Programs/Python/Python310/python.exe -m pip install ipykernel -U --user --force-reinstall'"
     ]
    }
   ],
   "source": [
    "data.head(2)"
   ]
  },
  {
   "cell_type": "code",
   "execution_count": null,
   "id": "807fbf91-7d8d-405a-99fd-267ecc7bef74",
   "metadata": {},
   "outputs": [
    {
     "ename": "",
     "evalue": "",
     "output_type": "error",
     "traceback": [
      "\u001b[1;31mRunning cells with 'Python 3.10.0' requires the ipykernel package.\n",
      "\u001b[1;31mRun the following command to install 'ipykernel' into the Python environment. \n",
      "\u001b[1;31mCommand: 'c:/Users/diouf/AppData/Local/Programs/Python/Python310/python.exe -m pip install ipykernel -U --user --force-reinstall'"
     ]
    }
   ],
   "source": [
    "# On affiche le taux de vrais et faux billets du df avec la variable \"is_genuine\"\n",
    "data[['is_genuine']].value_counts().plot.pie(autopct='%.2f')\n",
    "plt.title('Taux de vrais et faux billets')\n",
    "plt.show()"
   ]
  },
  {
   "cell_type": "markdown",
   "id": "dff048fd-516e-4112-9483-18de2f912918",
   "metadata": {},
   "source": [
    "# Préparation des données"
   ]
  },
  {
   "cell_type": "markdown",
   "id": "23d89c65-7494-4ac3-81a1-5522ae39cf1e",
   "metadata": {},
   "source": [
    "## Data cleaning (manquantes, aberrantes, extrêmes)"
   ]
  },
  {
   "cell_type": "code",
   "execution_count": null,
   "id": "784a0321-e242-46d8-a174-dedf858662bf",
   "metadata": {},
   "outputs": [
    {
     "ename": "",
     "evalue": "",
     "output_type": "error",
     "traceback": [
      "\u001b[1;31mRunning cells with 'Python 3.10.0' requires the ipykernel package.\n",
      "\u001b[1;31mRun the following command to install 'ipykernel' into the Python environment. \n",
      "\u001b[1;31mCommand: 'c:/Users/diouf/AppData/Local/Programs/Python/Python310/python.exe -m pip install ipykernel -U --user --force-reinstall'"
     ]
    }
   ],
   "source": [
    "data.describe().transpose()"
   ]
  },
  {
   "cell_type": "markdown",
   "id": "b77410ef-7672-416f-a3e7-c67859e0fd0f",
   "metadata": {},
   "source": [
    "### Manquantes"
   ]
  },
  {
   "cell_type": "code",
   "execution_count": null,
   "id": "4670ebf3-859e-44c9-9855-342fdba84b12",
   "metadata": {},
   "outputs": [
    {
     "ename": "",
     "evalue": "",
     "output_type": "error",
     "traceback": [
      "\u001b[1;31mRunning cells with 'Python 3.10.0' requires the ipykernel package.\n",
      "\u001b[1;31mRun the following command to install 'ipykernel' into the Python environment. \n",
      "\u001b[1;31mCommand: 'c:/Users/diouf/AppData/Local/Programs/Python/Python310/python.exe -m pip install ipykernel -U --user --force-reinstall'"
     ]
    }
   ],
   "source": [
    "pd.isnull(data).sum()"
   ]
  },
  {
   "cell_type": "code",
   "execution_count": null,
   "id": "071c7814-b4be-4cb7-a6f5-a6ecf15fb831",
   "metadata": {},
   "outputs": [
    {
     "ename": "",
     "evalue": "",
     "output_type": "error",
     "traceback": [
      "\u001b[1;31mRunning cells with 'Python 3.10.0' requires the ipykernel package.\n",
      "\u001b[1;31mRun the following command to install 'ipykernel' into the Python environment. \n",
      "\u001b[1;31mCommand: 'c:/Users/diouf/AppData/Local/Programs/Python/Python310/python.exe -m pip install ipykernel -U --user --force-reinstall'"
     ]
    }
   ],
   "source": [
    "import seaborn as sns\n",
    "\n",
    "import matplotlib.pyplot as plt\n",
    "\n",
    "# nous definissons la couleur \n",
    "color = 'viridis' \n",
    "\n",
    "# visualisons à travers un heatmap\n",
    "sns.heatmap(data.isnull(), cmap = color, cbar = False)\n",
    "\n",
    "plt.show()"
   ]
  },
  {
   "cell_type": "code",
   "execution_count": null,
   "id": "f298c5f3-8cbd-4cda-b0a8-a50d4dd43cac",
   "metadata": {},
   "outputs": [
    {
     "ename": "",
     "evalue": "",
     "output_type": "error",
     "traceback": [
      "\u001b[1;31mRunning cells with 'Python 3.10.0' requires the ipykernel package.\n",
      "\u001b[1;31mRun the following command to install 'ipykernel' into the Python environment. \n",
      "\u001b[1;31mCommand: 'c:/Users/diouf/AppData/Local/Programs/Python/Python310/python.exe -m pip install ipykernel -U --user --force-reinstall'"
     ]
    }
   ],
   "source": [
    "data.corr()"
   ]
  },
  {
   "cell_type": "code",
   "execution_count": null,
   "id": "ef8db13a-d63d-47fa-8fe9-95587b5b97ac",
   "metadata": {},
   "outputs": [
    {
     "ename": "",
     "evalue": "",
     "output_type": "error",
     "traceback": [
      "\u001b[1;31mRunning cells with 'Python 3.10.0' requires the ipykernel package.\n",
      "\u001b[1;31mRun the following command to install 'ipykernel' into the Python environment. \n",
      "\u001b[1;31mCommand: 'c:/Users/diouf/AppData/Local/Programs/Python/Python310/python.exe -m pip install ipykernel -U --user --force-reinstall'"
     ]
    }
   ],
   "source": [
    "# Matrice de corrélation\n",
    "correlation_matrix = data[[\"diagonal\",\"height_left\",\"height_right\",\"margin_low\",\"margin_up\",\"length\"]].corr().round(2)\n",
    "\n",
    "sns.heatmap(correlation_matrix,annot=True, cmap='Spectral', vmin=-1, vmax=1)"
   ]
  },
  {
   "cell_type": "markdown",
   "id": "66d56365-1640-46e0-b59c-805fce5db79b",
   "metadata": {},
   "source": [
    "**Remarques :**\n",
    "> \n",
    "> Les plus fortes corrélations sont :\n",
    "> * positive entre la longueur et l'authenticité du billet\n",
    "> * négative entre la marge du bas et l'authenticité du billet"
   ]
  },
  {
   "cell_type": "markdown",
   "id": "05eabd12-791a-4c82-9742-4a0819e6e2cb",
   "metadata": {},
   "source": [
    "## Régression linéaire pour valeurs manquantes"
   ]
  },
  {
   "cell_type": "markdown",
   "id": "7dee3f08-b39b-493e-9b6f-4a5cd4fb19ef",
   "metadata": {},
   "source": [
    "Les valeurs manquantes appartiennent toutes à une variable dépendante continue : on peut calculer les valeurs avec une régression linéaire."
   ]
  },
  {
   "cell_type": "code",
   "execution_count": null,
   "id": "914c4811-d9ad-4213-a5b9-02cec849739f",
   "metadata": {},
   "outputs": [
    {
     "ename": "",
     "evalue": "",
     "output_type": "error",
     "traceback": [
      "\u001b[1;31mRunning cells with 'Python 3.10.0' requires the ipykernel package.\n",
      "\u001b[1;31mRun the following command to install 'ipykernel' into the Python environment. \n",
      "\u001b[1;31mCommand: 'c:/Users/diouf/AppData/Local/Programs/Python/Python310/python.exe -m pip install ipykernel -U --user --force-reinstall'"
     ]
    }
   ],
   "source": [
    "data.sample(5)"
   ]
  },
  {
   "cell_type": "code",
   "execution_count": null,
   "id": "5e741562-3043-498e-9538-84979b22a90b",
   "metadata": {},
   "outputs": [
    {
     "ename": "",
     "evalue": "",
     "output_type": "error",
     "traceback": [
      "\u001b[1;31mRunning cells with 'Python 3.10.0' requires the ipykernel package.\n",
      "\u001b[1;31mRun the following command to install 'ipykernel' into the Python environment. \n",
      "\u001b[1;31mCommand: 'c:/Users/diouf/AppData/Local/Programs/Python/Python310/python.exe -m pip install ipykernel -U --user --force-reinstall'"
     ]
    }
   ],
   "source": [
    "# On prépare les données\n",
    "df = data.copy()\n",
    "\n",
    "# On convertit les bool en int\n",
    "df[\"is_genuine\"] = df[\"is_genuine\"].astype(int)"
   ]
  },
  {
   "cell_type": "code",
   "execution_count": null,
   "id": "ef5784fe-26b0-42bb-8f60-f659a30075be",
   "metadata": {},
   "outputs": [
    {
     "ename": "",
     "evalue": "",
     "output_type": "error",
     "traceback": [
      "\u001b[1;31mRunning cells with 'Python 3.10.0' requires the ipykernel package.\n",
      "\u001b[1;31mRun the following command to install 'ipykernel' into the Python environment. \n",
      "\u001b[1;31mCommand: 'c:/Users/diouf/AppData/Local/Programs/Python/Python310/python.exe -m pip install ipykernel -U --user --force-reinstall'"
     ]
    }
   ],
   "source": [
    "# on recupere lignes nan sur 'df_na'\n",
    "df_na = df[df[\"margin_low\"].isnull()]\n",
    "\n",
    "# suppression des nan de 'df'\n",
    "df.dropna(inplace=True)"
   ]
  },
  {
   "cell_type": "code",
   "execution_count": null,
   "id": "98966db3-65df-4945-90a1-7edb768ff743",
   "metadata": {},
   "outputs": [
    {
     "ename": "",
     "evalue": "",
     "output_type": "error",
     "traceback": [
      "\u001b[1;31mRunning cells with 'Python 3.10.0' requires the ipykernel package.\n",
      "\u001b[1;31mRun the following command to install 'ipykernel' into the Python environment. \n",
      "\u001b[1;31mCommand: 'c:/Users/diouf/AppData/Local/Programs/Python/Python310/python.exe -m pip install ipykernel -U --user --force-reinstall'"
     ]
    }
   ],
   "source": [
    "pd.isnull(df).sum()"
   ]
  },
  {
   "cell_type": "code",
   "execution_count": null,
   "id": "ed5a6c2d-19b1-454d-95dd-be6d9e402989",
   "metadata": {},
   "outputs": [
    {
     "ename": "",
     "evalue": "",
     "output_type": "error",
     "traceback": [
      "\u001b[1;31mRunning cells with 'Python 3.10.0' requires the ipykernel package.\n",
      "\u001b[1;31mRun the following command to install 'ipykernel' into the Python environment. \n",
      "\u001b[1;31mCommand: 'c:/Users/diouf/AppData/Local/Programs/Python/Python310/python.exe -m pip install ipykernel -U --user --force-reinstall'"
     ]
    }
   ],
   "source": [
    "df.info()"
   ]
  },
  {
   "cell_type": "markdown",
   "id": "681a3021-e44c-45f0-8075-853dd0df033b",
   "metadata": {},
   "source": [
    "### Recherche modèle avec le meilleur r2"
   ]
  },
  {
   "cell_type": "code",
   "execution_count": null,
   "id": "b53f1d89-232b-4421-8f72-de45718f46f0",
   "metadata": {},
   "outputs": [
    {
     "ename": "",
     "evalue": "",
     "output_type": "error",
     "traceback": [
      "\u001b[1;31mRunning cells with 'Python 3.10.0' requires the ipykernel package.\n",
      "\u001b[1;31mRun the following command to install 'ipykernel' into the Python environment. \n",
      "\u001b[1;31mCommand: 'c:/Users/diouf/AppData/Local/Programs/Python/Python310/python.exe -m pip install ipykernel -U --user --force-reinstall'"
     ]
    }
   ],
   "source": [
    "# Choix du model de régression\n",
    "y = df[\"margin_low\"]\n",
    "\n",
    "X = df[[\"margin_up\", \"is_genuine\"]]\n",
    "\n",
    "# Splitting the data into train and test split\n",
    "X_train, X_test, y_train, y_test = train_test_split(X, y, test_size=0.2, random_state=42)"
   ]
  },
  {
   "cell_type": "code",
   "execution_count": null,
   "id": "7405cd24-9a0f-46fd-8f21-db2be442d0b2",
   "metadata": {},
   "outputs": [
    {
     "ename": "",
     "evalue": "",
     "output_type": "error",
     "traceback": [
      "\u001b[1;31mRunning cells with 'Python 3.10.0' requires the ipykernel package.\n",
      "\u001b[1;31mRun the following command to install 'ipykernel' into the Python environment. \n",
      "\u001b[1;31mCommand: 'c:/Users/diouf/AppData/Local/Programs/Python/Python310/python.exe -m pip install ipykernel -U --user --force-reinstall'"
     ]
    }
   ],
   "source": [
    "from sklearn.linear_model import LogisticRegression, LinearRegression, Ridge, Lasso, SGDRegressor\n",
    "from time import time\n",
    "from sklearn import metrics\n",
    "regressors = [LinearRegression(), Lasso()]"
   ]
  },
  {
   "cell_type": "code",
   "execution_count": null,
   "id": "55b67161-14af-4bc6-968d-426a4ea75f59",
   "metadata": {},
   "outputs": [
    {
     "ename": "",
     "evalue": "",
     "output_type": "error",
     "traceback": [
      "\u001b[1;31mRunning cells with 'Python 3.10.0' requires the ipykernel package.\n",
      "\u001b[1;31mRun the following command to install 'ipykernel' into the Python environment. \n",
      "\u001b[1;31mCommand: 'c:/Users/diouf/AppData/Local/Programs/Python/Python310/python.exe -m pip install ipykernel -U --user --force-reinstall'"
     ]
    }
   ],
   "source": [
    "head = 10\n",
    "for model in regressors[:head]:\n",
    "    start = time()\n",
    "    model.fit(X_train, y_train)\n",
    "    train_time = time() - start\n",
    "    start = time()\n",
    "    y_pred = model.predict(X_test)\n",
    "    predict_time = time()-start    \n",
    "    print(model)\n",
    "    print(\"\\tTraining time: %0.3fs\" % train_time)\n",
    "    print(\"\\tPrediction time: %0.3fs\" % predict_time)\n",
    "    print(\"\\tExplained variance:\", metrics.explained_variance_score(y_test, y_pred))\n",
    "    print(\"\\tMean absolute error:\", metrics.mean_absolute_error(y_test, y_pred))\n",
    "    print(\"\\tR2 score:\", metrics.r2_score(y_test, y_pred))\n",
    "    print()"
   ]
  },
  {
   "cell_type": "markdown",
   "id": "5acb0560-cf4e-49a9-99ff-22fa9f36a4e1",
   "metadata": {},
   "source": [
    "### Optimisation linear regression"
   ]
  },
  {
   "cell_type": "code",
   "execution_count": null,
   "id": "4bf740b9-349a-4bb7-9d7e-e45b9c9adf3d",
   "metadata": {},
   "outputs": [
    {
     "ename": "",
     "evalue": "",
     "output_type": "error",
     "traceback": [
      "\u001b[1;31mRunning cells with 'Python 3.10.0' requires the ipykernel package.\n",
      "\u001b[1;31mRun the following command to install 'ipykernel' into the Python environment. \n",
      "\u001b[1;31mCommand: 'c:/Users/diouf/AppData/Local/Programs/Python/Python310/python.exe -m pip install ipykernel -U --user --force-reinstall'"
     ]
    }
   ],
   "source": [
    "from sklearn.pipeline import Pipeline\n",
    "from sklearn.preprocessing import StandardScaler\n",
    "from sklearn.linear_model import LinearRegression\n",
    "from sklearn.model_selection import GridSearchCV\n",
    "\n",
    "# Define the pipeline\n",
    "pipeline = Pipeline([('scaler', StandardScaler()), (\"estimator\", LinearRegression())])\n",
    "\n",
    "# Define the parameters to search\n",
    "params = {}  # No regularization parameters for Linear Regression\n",
    "\n",
    "# Define the grid search\n",
    "model_linear = GridSearchCV(pipeline, param_grid=params, cv=5)\n",
    "model_linear.fit(X_train, y_train)"
   ]
  },
  {
   "cell_type": "code",
   "execution_count": null,
   "id": "9db0258c-76c6-4e75-9dee-6b65fb2b3165",
   "metadata": {},
   "outputs": [
    {
     "ename": "",
     "evalue": "",
     "output_type": "error",
     "traceback": [
      "\u001b[1;31mRunning cells with 'Python 3.10.0' requires the ipykernel package.\n",
      "\u001b[1;31mRun the following command to install 'ipykernel' into the Python environment. \n",
      "\u001b[1;31mCommand: 'c:/Users/diouf/AppData/Local/Programs/Python/Python310/python.exe -m pip install ipykernel -U --user --force-reinstall'"
     ]
    }
   ],
   "source": [
    "model_linear_opti = model_linear.best_estimator_\n",
    "\n",
    "model_linear_opti.score(X_test, y_test)"
   ]
  },
  {
   "cell_type": "code",
   "execution_count": null,
   "id": "d69da4f7-81d9-4199-9f08-aaa755ef54f5",
   "metadata": {},
   "outputs": [
    {
     "ename": "",
     "evalue": "",
     "output_type": "error",
     "traceback": [
      "\u001b[1;31mRunning cells with 'Python 3.10.0' requires the ipykernel package.\n",
      "\u001b[1;31mRun the following command to install 'ipykernel' into the Python environment. \n",
      "\u001b[1;31mCommand: 'c:/Users/diouf/AppData/Local/Programs/Python/Python310/python.exe -m pip install ipykernel -U --user --force-reinstall'"
     ]
    }
   ],
   "source": [
    "# prediction des nan avec la linear regression\n",
    "predict_na = model_linear_opti.predict(df_na[[\"margin_up\", \"is_genuine\"]])"
   ]
  },
  {
   "cell_type": "markdown",
   "id": "2f147313-283f-4615-94cc-a1d0c33100af",
   "metadata": {},
   "source": [
    "### Validation de la régression linéaire"
   ]
  },
  {
   "cell_type": "markdown",
   "id": "fa7fbc83-d166-4628-a95b-9f7b3f626d0b",
   "metadata": {},
   "source": [
    "* Test de Variance Inflation Factor (VIF) pour détecter la collinéarité"
   ]
  },
  {
   "cell_type": "code",
   "execution_count": null,
   "id": "282de65f-8b9b-45c4-8f37-b1b3e54d28dd",
   "metadata": {},
   "outputs": [
    {
     "ename": "",
     "evalue": "",
     "output_type": "error",
     "traceback": [
      "\u001b[1;31mRunning cells with 'Python 3.10.0' requires the ipykernel package.\n",
      "\u001b[1;31mRun the following command to install 'ipykernel' into the Python environment. \n",
      "\u001b[1;31mCommand: 'c:/Users/diouf/AppData/Local/Programs/Python/Python310/python.exe -m pip install ipykernel -U --user --force-reinstall'"
     ]
    }
   ],
   "source": [
    "import statsmodels.api as sm\n",
    "from statsmodels.stats.outliers_influence import variance_inflation_factor\n",
    "\n",
    "# Ajouter une constante de statsmodels\n",
    "X_train_const = sm.add_constant(X_train)\n",
    "\n",
    "# Calcul du VIF pour chaque variable\n",
    "vif_data = pd.DataFrame()\n",
    "vif_data[\"Feature\"] = [\"const\"] + [f\"X{i}\" for i in range(X_train.shape[1])]\n",
    "vif_data[\"VIF\"] = [variance_inflation_factor(X_train_const, i) for i in range(X_train_const.shape[1])]\n",
    "\n",
    "print(vif_data)\n"
   ]
  },
  {
   "cell_type": "markdown",
   "id": "75cfb186-ccb3-45a1-ad45-dc8cb0016b8c",
   "metadata": {},
   "source": [
    ">**Remarque :**\n",
    ">\n",
    ">Le VIF de 1.64 pour X0 et X1 est faible (inférieurs à 5) c'est-à-dire que les variables explicatives ne sont pas fortement corrélées entre elles et donc il n'y a pas de problème de multicollinéarité dans le modèle. "
   ]
  },
  {
   "cell_type": "markdown",
   "id": "f3ae7791-b290-487a-bb22-ef0bee5483d9",
   "metadata": {},
   "source": [
    "* Test de normalité des résidus"
   ]
  },
  {
   "cell_type": "code",
   "execution_count": null,
   "id": "2e512a38-ae4b-4afe-90f3-91c9fd18844f",
   "metadata": {},
   "outputs": [
    {
     "ename": "",
     "evalue": "",
     "output_type": "error",
     "traceback": [
      "\u001b[1;31mRunning cells with 'Python 3.10.0' requires the ipykernel package.\n",
      "\u001b[1;31mRun the following command to install 'ipykernel' into the Python environment. \n",
      "\u001b[1;31mCommand: 'c:/Users/diouf/AppData/Local/Programs/Python/Python310/python.exe -m pip install ipykernel -U --user --force-reinstall'"
     ]
    }
   ],
   "source": [
    "# Calcul des résidus\n",
    "residuals = y_test - y_pred\n",
    "\n",
    "# Test de normalité de Shapiro-Wilk\n",
    "shapiro_test = stats.shapiro(residuals)\n",
    "print(f\"Statistique de Shapiro-Wilk: {shapiro_test[0]}, p-value: {shapiro_test[1]}\")\n",
    "\n",
    "# Q-Q plot des résidus\n",
    "sm.qqplot(residuals, line ='45')\n",
    "plt.title(\"Q-Q plot des résidus\")\n",
    "plt.show()"
   ]
  },
  {
   "cell_type": "markdown",
   "id": "aca3dee5-134e-49ee-a047-cb1a157262c1",
   "metadata": {},
   "source": [
    "La p-value est bien inférieure à 0.05, ce qui signifie qu'on peut rejeter l'hypothèse nulle selon laquelle les résidus suivent une distribution normale.\n",
    "\n",
    "Cela indique donc que les résidus ne sont pas normalement distribués"
   ]
  },
  {
   "cell_type": "markdown",
   "id": "9ad5a2e2-42be-4cb4-8e92-5968b5106e51",
   "metadata": {},
   "source": [
    "* Test de l'homoscédasticité"
   ]
  },
  {
   "cell_type": "code",
   "execution_count": null,
   "id": "83b9dba6-c453-4669-b3b9-db0b88dc2f3c",
   "metadata": {},
   "outputs": [
    {
     "ename": "",
     "evalue": "",
     "output_type": "error",
     "traceback": [
      "\u001b[1;31mRunning cells with 'Python 3.10.0' requires the ipykernel package.\n",
      "\u001b[1;31mRun the following command to install 'ipykernel' into the Python environment. \n",
      "\u001b[1;31mCommand: 'c:/Users/diouf/AppData/Local/Programs/Python/Python310/python.exe -m pip install ipykernel -U --user --force-reinstall'"
     ]
    }
   ],
   "source": [
    "# Graphique des résidus vs valeurs prédites\n",
    "plt.scatter(y_pred, residuals)\n",
    "plt.axhline(y=0, color='r', linestyle='--')\n",
    "plt.title(\"Résidus vs Valeurs prédites\")\n",
    "plt.xlabel(\"Valeurs prédites\")\n",
    "plt.ylabel(\"Résidus\")\n",
    "plt.show()"
   ]
  },
  {
   "cell_type": "markdown",
   "id": "0d3c0312-c49c-40ec-bf45-6b83b4679d24",
   "metadata": {},
   "source": [
    "Le graphique montre que les valeurs prédites sont presque toutes concentrées autour de 4.5, ce qui indique un manque de variabilité dans les prédictions du modèle.\n",
    "\n",
    "Cela suggère que le modèle sous-apprend et ne capture pas bien les relations entre les variables.\n",
    "\n",
    "Il pourrait être nécessaire d'utiliser un modèle plus complexe ou d'ajouter des variables explicatives pour améliorer la performance du modèle.\n"
   ]
  },
  {
   "cell_type": "markdown",
   "id": "43c36fb6-87a3-4094-b1a8-8c8bc1e82d04",
   "metadata": {},
   "source": [
    "### Imputation des NaN avec la linear regression"
   ]
  },
  {
   "cell_type": "code",
   "execution_count": null,
   "id": "e69d8363-63a3-45dc-a028-e6e28146ef77",
   "metadata": {},
   "outputs": [
    {
     "ename": "",
     "evalue": "",
     "output_type": "error",
     "traceback": [
      "\u001b[1;31mRunning cells with 'Python 3.10.0' requires the ipykernel package.\n",
      "\u001b[1;31mRun the following command to install 'ipykernel' into the Python environment. \n",
      "\u001b[1;31mCommand: 'c:/Users/diouf/AppData/Local/Programs/Python/Python310/python.exe -m pip install ipykernel -U --user --force-reinstall'"
     ]
    }
   ],
   "source": [
    "data.info()"
   ]
  },
  {
   "cell_type": "code",
   "execution_count": null,
   "id": "6acdc36f-7d52-441f-a970-e65a3b422be1",
   "metadata": {},
   "outputs": [
    {
     "ename": "",
     "evalue": "",
     "output_type": "error",
     "traceback": [
      "\u001b[1;31mRunning cells with 'Python 3.10.0' requires the ipykernel package.\n",
      "\u001b[1;31mRun the following command to install 'ipykernel' into the Python environment. \n",
      "\u001b[1;31mCommand: 'c:/Users/diouf/AppData/Local/Programs/Python/Python310/python.exe -m pip install ipykernel -U --user --force-reinstall'"
     ]
    }
   ],
   "source": [
    "data[\"margin_low\"][data[\"margin_low\"].isnull()] = predict_na"
   ]
  },
  {
   "cell_type": "code",
   "execution_count": null,
   "id": "d2be7520-3d3b-45b3-9b07-64fa9a7e6f5f",
   "metadata": {},
   "outputs": [
    {
     "ename": "",
     "evalue": "",
     "output_type": "error",
     "traceback": [
      "\u001b[1;31mRunning cells with 'Python 3.10.0' requires the ipykernel package.\n",
      "\u001b[1;31mRun the following command to install 'ipykernel' into the Python environment. \n",
      "\u001b[1;31mCommand: 'c:/Users/diouf/AppData/Local/Programs/Python/Python310/python.exe -m pip install ipykernel -U --user --force-reinstall'"
     ]
    }
   ],
   "source": [
    "data.info()"
   ]
  },
  {
   "cell_type": "markdown",
   "id": "b644212c-c636-4d4c-bcf3-f5baeb562d69",
   "metadata": {},
   "source": [
    "# Analyse Univariée du jeu de données"
   ]
  },
  {
   "cell_type": "code",
   "execution_count": null,
   "id": "9dc4d4e9-22d6-434a-bb7d-268bff8dddc6",
   "metadata": {},
   "outputs": [
    {
     "ename": "",
     "evalue": "",
     "output_type": "error",
     "traceback": [
      "\u001b[1;31mRunning cells with 'Python 3.10.0' requires the ipykernel package.\n",
      "\u001b[1;31mRun the following command to install 'ipykernel' into the Python environment. \n",
      "\u001b[1;31mCommand: 'c:/Users/diouf/AppData/Local/Programs/Python/Python310/python.exe -m pip install ipykernel -U --user --force-reinstall'"
     ]
    }
   ],
   "source": [
    "features = data[['diagonal', 'height_left', 'height_right', 'margin_low','margin_up', 'length']]\n",
    "\n",
    "target = data[['is_genuine']]"
   ]
  },
  {
   "cell_type": "markdown",
   "id": "7f9a45d9-af7f-40f2-910b-d0313f18b415",
   "metadata": {},
   "source": [
    "## analyse des features"
   ]
  },
  {
   "cell_type": "code",
   "execution_count": null,
   "id": "6fe31938-f4fc-4e2b-b95c-5b85eae0a502",
   "metadata": {},
   "outputs": [
    {
     "ename": "",
     "evalue": "",
     "output_type": "error",
     "traceback": [
      "\u001b[1;31mRunning cells with 'Python 3.10.0' requires the ipykernel package.\n",
      "\u001b[1;31mRun the following command to install 'ipykernel' into the Python environment. \n",
      "\u001b[1;31mCommand: 'c:/Users/diouf/AppData/Local/Programs/Python/Python310/python.exe -m pip install ipykernel -U --user --force-reinstall'"
     ]
    }
   ],
   "source": [
    "import seaborn as sns\n",
    "import matplotlib.pyplot as plt\n",
    "\n",
    "# Define feature and target names\n",
    "features_names = ['diagonal', 'height_left', 'height_right', 'margin_low', 'margin_up', 'length']\n",
    "target_name = 'is_genuine'\n",
    "\n",
    "# Iterate over each feature\n",
    "for var in features_names:\n",
    "    print(\"Variable\", '\\033[1m', var, '\\033[0m', \"\\n\")\n",
    "    \n",
    "    plt.figure(figsize=(15, 5))\n",
    "    \n",
    "    # Plot histogram with KDE\n",
    "    plt.subplot(121)\n",
    "    sns.histplot(data=data, x=var, hue=target_name, legend=False)\n",
    "    plt.axvline(data[var].mean(), color='g', linewidth=2, label='Mean')\n",
    "    plt.axvline(data[var].median(), color='r', linewidth=2, label='Median')\n",
    "    plt.legend()\n",
    "    \n",
    "    # Plot boxplot\n",
    "    plt.subplot(122)\n",
    "    sns.boxplot(data=data, x=var, y=target_name, hue=target_name, orient='h', showmeans=True, showfliers=True)\n",
    "    \n",
    "    plt.show()\n",
    "    \n",
    "    # Print statistics\n",
    "    print('\\033[1m', \"Moyenne :\", '\\033[0m', round(data[var].mean(), 2))\n",
    "    print('\\033[1m', \"Médiane :\", '\\033[0m', round(data[var].median(), 2))\n",
    "    print('\\033[1m', \"Kurtosis :\", '\\033[0m', round(data[var].kurtosis(), 2))\n",
    "    print('\\033[1m', \"Écart-type :\", '\\033[0m', round(data[var].std(), 2))\n",
    "    print(\"\\n\", \"*\"*50, \"\\n\")"
   ]
  },
  {
   "cell_type": "code",
   "execution_count": null,
   "id": "7f9761d3-59bd-45ae-8889-a10b1d5a4735",
   "metadata": {},
   "outputs": [
    {
     "ename": "",
     "evalue": "",
     "output_type": "error",
     "traceback": [
      "\u001b[1;31mRunning cells with 'Python 3.10.0' requires the ipykernel package.\n",
      "\u001b[1;31mRun the following command to install 'ipykernel' into the Python environment. \n",
      "\u001b[1;31mCommand: 'c:/Users/diouf/AppData/Local/Programs/Python/Python310/python.exe -m pip install ipykernel -U --user --force-reinstall'"
     ]
    }
   ],
   "source": []
  },
  {
   "cell_type": "markdown",
   "id": "e7957202-d967-4ade-a17f-70c6fa8168df",
   "metadata": {},
   "source": [
    "## analyse de la target"
   ]
  },
  {
   "cell_type": "code",
   "execution_count": null,
   "id": "fc0b4c5c-0577-478c-9e9c-785a38f0184b",
   "metadata": {},
   "outputs": [
    {
     "ename": "",
     "evalue": "",
     "output_type": "error",
     "traceback": [
      "\u001b[1;31mRunning cells with 'Python 3.10.0' requires the ipykernel package.\n",
      "\u001b[1;31mRun the following command to install 'ipykernel' into the Python environment. \n",
      "\u001b[1;31mCommand: 'c:/Users/diouf/AppData/Local/Programs/Python/Python310/python.exe -m pip install ipykernel -U --user --force-reinstall'"
     ]
    }
   ],
   "source": [
    "import seaborn as sns\n",
    "import matplotlib.pyplot as plt\n",
    "\n",
    "palette = [\"steelblue\", \"lightblue\"]\n",
    "\n",
    "plt.figure(figsize=(15, 5))\n",
    "plt.subplot(121)\n",
    "sns.countplot(x=\"is_genuine\", data=data, palette=palette, hue=\"is_genuine\", legend=False)\n",
    "\n",
    "plt.show()"
   ]
  },
  {
   "cell_type": "markdown",
   "id": "5ba86a36-956b-432a-b69a-a648a3c6cdde",
   "metadata": {},
   "source": [
    "# Machine Learning non supervisé : Clusterisation"
   ]
  },
  {
   "cell_type": "markdown",
   "id": "85d11c9c-1765-4dfd-a9f4-166c7ef9a3a5",
   "metadata": {},
   "source": [
    "### standardisation"
   ]
  },
  {
   "cell_type": "code",
   "execution_count": null,
   "id": "f285e86c-28cb-4ce1-85f4-01e021e5c4e3",
   "metadata": {},
   "outputs": [
    {
     "ename": "",
     "evalue": "",
     "output_type": "error",
     "traceback": [
      "\u001b[1;31mRunning cells with 'Python 3.10.0' requires the ipykernel package.\n",
      "\u001b[1;31mRun the following command to install 'ipykernel' into the Python environment. \n",
      "\u001b[1;31mCommand: 'c:/Users/diouf/AppData/Local/Programs/Python/Python310/python.exe -m pip install ipykernel -U --user --force-reinstall'"
     ]
    }
   ],
   "source": [
    "data.columns"
   ]
  },
  {
   "cell_type": "code",
   "execution_count": null,
   "id": "0965c005-eae4-4e59-ad9d-375896128f69",
   "metadata": {},
   "outputs": [
    {
     "ename": "",
     "evalue": "",
     "output_type": "error",
     "traceback": [
      "\u001b[1;31mRunning cells with 'Python 3.10.0' requires the ipykernel package.\n",
      "\u001b[1;31mRun the following command to install 'ipykernel' into the Python environment. \n",
      "\u001b[1;31mCommand: 'c:/Users/diouf/AppData/Local/Programs/Python/Python310/python.exe -m pip install ipykernel -U --user --force-reinstall'"
     ]
    }
   ],
   "source": [
    "data_features = data[['diagonal', 'height_left', 'height_right', 'margin_low',\n",
    "       'margin_up', 'length']]"
   ]
  },
  {
   "cell_type": "code",
   "execution_count": null,
   "id": "952b7792-465f-4784-a906-019f91bf6251",
   "metadata": {},
   "outputs": [
    {
     "ename": "",
     "evalue": "",
     "output_type": "error",
     "traceback": [
      "\u001b[1;31mRunning cells with 'Python 3.10.0' requires the ipykernel package.\n",
      "\u001b[1;31mRun the following command to install 'ipykernel' into the Python environment. \n",
      "\u001b[1;31mCommand: 'c:/Users/diouf/AppData/Local/Programs/Python/Python310/python.exe -m pip install ipykernel -U --user --force-reinstall'"
     ]
    }
   ],
   "source": [
    "X = data_features\n",
    "\n",
    "# Réduction et centrage de données\n",
    "scaler = StandardScaler()\n",
    "X_scaled = scaler.fit_transform(X)\n",
    "pd.DataFrame(X_scaled, columns=X.columns).describe().round(2)"
   ]
  },
  {
   "cell_type": "markdown",
   "id": "4cf7cf74-7109-4016-b102-f290c53243a8",
   "metadata": {},
   "source": [
    "> **Remarques :** \n",
    "> * La moyenne est ramennée à 0\n",
    "> * La déviation standard est 1"
   ]
  },
  {
   "cell_type": "markdown",
   "id": "c8749760-1cd0-4f55-a906-73b97b41b3df",
   "metadata": {},
   "source": [
    "### Réduction de dimensionnalités par ACP"
   ]
  },
  {
   "cell_type": "code",
   "execution_count": null,
   "id": "8bc93648-c236-4974-87aa-4873889955a7",
   "metadata": {},
   "outputs": [
    {
     "ename": "",
     "evalue": "",
     "output_type": "error",
     "traceback": [
      "\u001b[1;31mRunning cells with 'Python 3.10.0' requires the ipykernel package.\n",
      "\u001b[1;31mRun the following command to install 'ipykernel' into the Python environment. \n",
      "\u001b[1;31mCommand: 'c:/Users/diouf/AppData/Local/Programs/Python/Python310/python.exe -m pip install ipykernel -U --user --force-reinstall'"
     ]
    }
   ],
   "source": [
    "# Import de la fonction PCA depuis Scikit Learn\n",
    "from sklearn.decomposition import PCA\n",
    "\n",
    "# Create the PCA model\n",
    "model_pca = PCA(n_components = 6)\n",
    "\n",
    "# Fit the model with the standardised data\n",
    "X_reduced = model_pca.fit_transform(X_scaled)"
   ]
  },
  {
   "cell_type": "code",
   "execution_count": null,
   "id": "9930b76e-b2bf-4126-9548-628a7bcbfef5",
   "metadata": {},
   "outputs": [
    {
     "ename": "",
     "evalue": "",
     "output_type": "error",
     "traceback": [
      "\u001b[1;31mRunning cells with 'Python 3.10.0' requires the ipykernel package.\n",
      "\u001b[1;31mRun the following command to install 'ipykernel' into the Python environment. \n",
      "\u001b[1;31mCommand: 'c:/Users/diouf/AppData/Local/Programs/Python/Python310/python.exe -m pip install ipykernel -U --user --force-reinstall'"
     ]
    }
   ],
   "source": [
    "def display_scree_plot(pca):\n",
    "    '''Visualisons du scree plot pour PCA'''\n",
    "\n",
    "    scree = pca.explained_variance_ratio_*100\n",
    "    plt.bar(np.arange(len(scree))+1, scree)\n",
    "    plt.plot(np.arange(len(scree))+1, scree.cumsum(),c=\"red\",marker='o')\n",
    "    plt.xlabel(\"Nombre de composantes principales\")\n",
    "    plt.ylabel(\"Variance expliquée en pourcentage\")\n",
    "    plt.title(\"Scree plot : Eboulis des valeurs propres\")\n",
    "    plt.show(block=False)"
   ]
  },
  {
   "cell_type": "code",
   "execution_count": null,
   "id": "f19a922b-3487-463c-a614-be23dc6e8c89",
   "metadata": {},
   "outputs": [
    {
     "ename": "",
     "evalue": "",
     "output_type": "error",
     "traceback": [
      "\u001b[1;31mRunning cells with 'Python 3.10.0' requires the ipykernel package.\n",
      "\u001b[1;31mRun the following command to install 'ipykernel' into the Python environment. \n",
      "\u001b[1;31mCommand: 'c:/Users/diouf/AppData/Local/Programs/Python/Python310/python.exe -m pip install ipykernel -U --user --force-reinstall'"
     ]
    }
   ],
   "source": [
    "# Scree plot\n",
    "display_scree_plot(model_pca)\n",
    "\n",
    "# Explained variance ratio cumsum\n",
    "print('\\033[1m' +\"Variance expliquée cumulée :\"+'\\033[0m', model_pca.explained_variance_ratio_.cumsum().round(2))\n",
    "\n",
    "# Nombre de composantes à étudier\n",
    "num_components = 6\n",
    "pcs = model_pca.components_ \n",
    "pc1 = model_pca.components_[0]\n",
    "pc2 = model_pca.components_[1]\n",
    "pc3 = model_pca.components_[2]\n",
    "pc4 = model_pca.components_[3]\n",
    "pc5 = model_pca.components_[4]\n",
    "pc6 = model_pca.components_[5]\n",
    "\n",
    "\n",
    "classed_data = data.copy()\n",
    "rank_band = [classed_data.loc[note_id, \"is_genuine\"] for note_id in classed_data.index]\n",
    "X_projected = model_pca.transform(X_scaled)"
   ]
  },
  {
   "cell_type": "markdown",
   "id": "d7af8ae5-2d7f-46f9-abcb-17f55089cf0c",
   "metadata": {},
   "source": [
    "## K-Means"
   ]
  },
  {
   "cell_type": "markdown",
   "id": "112e7e1d-ebb4-4950-959a-a849a6b4f742",
   "metadata": {},
   "source": [
    "### Méthode du coude"
   ]
  },
  {
   "cell_type": "code",
   "execution_count": null,
   "id": "64026c03-5c2c-45c5-9143-268fbde0c5d3",
   "metadata": {},
   "outputs": [
    {
     "ename": "",
     "evalue": "",
     "output_type": "error",
     "traceback": [
      "\u001b[1;31mRunning cells with 'Python 3.10.0' requires the ipykernel package.\n",
      "\u001b[1;31mRun the following command to install 'ipykernel' into the Python environment. \n",
      "\u001b[1;31mCommand: 'c:/Users/diouf/AppData/Local/Programs/Python/Python310/python.exe -m pip install ipykernel -U --user --force-reinstall'"
     ]
    }
   ],
   "source": [
    "from yellowbrick.cluster import KElbowVisualizer\n",
    "from sklearn.cluster import KMeans\n",
    "\n",
    "# Instantiate the clustering model and visualizer\n",
    "model = KMeans(n_init=10)\n",
    "visualizer = KElbowVisualizer(model, k=(1, 6), timings=False)\n",
    "\n",
    "# Fit the data to the visualizer\n",
    "visualizer.fit(X_scaled)\n",
    "\n",
    "# Display the visualizer\n",
    "visualizer.show()"
   ]
  },
  {
   "cell_type": "markdown",
   "id": "e65b579f-bbe4-4d9d-8705-f70caa1e3f7a",
   "metadata": {},
   "source": [
    "### Score Silhouette"
   ]
  },
  {
   "cell_type": "code",
   "execution_count": null,
   "id": "2bc4dbe8-8259-44b8-bbd8-b9bcbbcb7f33",
   "metadata": {},
   "outputs": [
    {
     "ename": "",
     "evalue": "",
     "output_type": "error",
     "traceback": [
      "\u001b[1;31mRunning cells with 'Python 3.10.0' requires the ipykernel package.\n",
      "\u001b[1;31mRun the following command to install 'ipykernel' into the Python environment. \n",
      "\u001b[1;31mCommand: 'c:/Users/diouf/AppData/Local/Programs/Python/Python310/python.exe -m pip install ipykernel -U --user --force-reinstall'"
     ]
    }
   ],
   "source": [
    "from sklearn.cluster import KMeans\n",
    "from sklearn.metrics import silhouette_score\n",
    "\n",
    "range_n_clusters = list(range(2, 10))\n",
    "for n_clusters in range_n_clusters:\n",
    "    clusterer = KMeans(n_clusters=n_clusters, n_init=10) \n",
    "    preds = clusterer.fit_predict(X_scaled)\n",
    "    score = silhouette_score(X_scaled, preds)\n",
    "    print(\"For n_clusters = {}, silhouette score is {})\".format(n_clusters, score))"
   ]
  },
  {
   "cell_type": "markdown",
   "id": "f8ba1c96-92f0-42b8-b7b3-3426e167896d",
   "metadata": {},
   "source": [
    "### Algorythme K-means"
   ]
  },
  {
   "cell_type": "code",
   "execution_count": null,
   "id": "b9447f94-0d40-42e4-8b6f-f31e167080ad",
   "metadata": {},
   "outputs": [
    {
     "ename": "",
     "evalue": "",
     "output_type": "error",
     "traceback": [
      "\u001b[1;31mRunning cells with 'Python 3.10.0' requires the ipykernel package.\n",
      "\u001b[1;31mRun the following command to install 'ipykernel' into the Python environment. \n",
      "\u001b[1;31mCommand: 'c:/Users/diouf/AppData/Local/Programs/Python/Python310/python.exe -m pip install ipykernel -U --user --force-reinstall'"
     ]
    }
   ],
   "source": [
    "model_kmeans = KMeans(n_clusters=2,random_state = 0, n_init=10)\n",
    "\n",
    "model_kmeans.fit_predict(X_scaled)"
   ]
  },
  {
   "cell_type": "code",
   "execution_count": null,
   "id": "cbc569e8-5fc9-447b-a1fc-96cac6605d5e",
   "metadata": {},
   "outputs": [
    {
     "ename": "",
     "evalue": "",
     "output_type": "error",
     "traceback": [
      "\u001b[1;31mRunning cells with 'Python 3.10.0' requires the ipykernel package.\n",
      "\u001b[1;31mRun the following command to install 'ipykernel' into the Python environment. \n",
      "\u001b[1;31mCommand: 'c:/Users/diouf/AppData/Local/Programs/Python/Python310/python.exe -m pip install ipykernel -U --user --force-reinstall'"
     ]
    }
   ],
   "source": [
    "clusters =  model_kmeans.labels_\n",
    "\n",
    "# Add the cluster number to the original scaled data\n",
    "X_clustered = pd.DataFrame(X_scaled, index=X.index, columns=X.columns)\n",
    "\n",
    "X_clustered[\"cluster\"] = clusters"
   ]
  },
  {
   "cell_type": "code",
   "execution_count": null,
   "id": "36738538-8af8-46f7-82d8-4f1942db5d55",
   "metadata": {},
   "outputs": [
    {
     "ename": "",
     "evalue": "",
     "output_type": "error",
     "traceback": [
      "\u001b[1;31mRunning cells with 'Python 3.10.0' requires the ipykernel package.\n",
      "\u001b[1;31mRun the following command to install 'ipykernel' into the Python environment. \n",
      "\u001b[1;31mCommand: 'c:/Users/diouf/AppData/Local/Programs/Python/Python310/python.exe -m pip install ipykernel -U --user --force-reinstall'"
     ]
    }
   ],
   "source": [
    "X_clustered.head()"
   ]
  },
  {
   "cell_type": "code",
   "execution_count": null,
   "id": "38a127fd-3b4d-44b1-be33-242c259a4c4e",
   "metadata": {},
   "outputs": [
    {
     "ename": "",
     "evalue": "",
     "output_type": "error",
     "traceback": [
      "\u001b[1;31mRunning cells with 'Python 3.10.0' requires the ipykernel package.\n",
      "\u001b[1;31mRun the following command to install 'ipykernel' into the Python environment. \n",
      "\u001b[1;31mCommand: 'c:/Users/diouf/AppData/Local/Programs/Python/Python310/python.exe -m pip install ipykernel -U --user --force-reinstall'"
     ]
    }
   ],
   "source": [
    "import joblib\n",
    "\n",
    "# Enregistrer le modèle KMeans\n",
    "joblib.dump(model_kmeans, 'model_kmeans.joblib')"
   ]
  },
  {
   "cell_type": "code",
   "execution_count": null,
   "id": "71055527-3634-457d-b975-d4f5824cc46c",
   "metadata": {},
   "outputs": [
    {
     "ename": "",
     "evalue": "",
     "output_type": "error",
     "traceback": [
      "\u001b[1;31mRunning cells with 'Python 3.10.0' requires the ipykernel package.\n",
      "\u001b[1;31mRun the following command to install 'ipykernel' into the Python environment. \n",
      "\u001b[1;31mCommand: 'c:/Users/diouf/AppData/Local/Programs/Python/Python310/python.exe -m pip install ipykernel -U --user --force-reinstall'"
     ]
    }
   ],
   "source": [
    "from sklearn.preprocessing import StandardScaler, LabelEncoder"
   ]
  },
  {
   "cell_type": "code",
   "execution_count": null,
   "id": "303bc8b5-1e3b-4c21-b215-4b444ac47140",
   "metadata": {},
   "outputs": [
    {
     "ename": "",
     "evalue": "",
     "output_type": "error",
     "traceback": [
      "\u001b[1;31mRunning cells with 'Python 3.10.0' requires the ipykernel package.\n",
      "\u001b[1;31mRun the following command to install 'ipykernel' into the Python environment. \n",
      "\u001b[1;31mCommand: 'c:/Users/diouf/AppData/Local/Programs/Python/Python310/python.exe -m pip install ipykernel -U --user --force-reinstall'"
     ]
    }
   ],
   "source": [
    "encoder = LabelEncoder()\n",
    "\n",
    "def converter(cluster):\n",
    "    if cluster==True:\n",
    "        return 1\n",
    "    else:\n",
    "        return 0\n",
    "    \n",
    "data_kmeans = data.copy()   \n",
    "data_kmeans['cluster_origin'] = encoder.fit_transform(np.invert(data_kmeans[\"is_genuine\"]))\n",
    "data_kmeans['cluster_kmeans'] = model_kmeans.labels_\n"
   ]
  },
  {
   "cell_type": "code",
   "execution_count": null,
   "id": "f276853c-c2e6-484a-b04a-c40d53a00721",
   "metadata": {},
   "outputs": [
    {
     "ename": "",
     "evalue": "",
     "output_type": "error",
     "traceback": [
      "\u001b[1;31mRunning cells with 'Python 3.10.0' requires the ipykernel package.\n",
      "\u001b[1;31mRun the following command to install 'ipykernel' into the Python environment. \n",
      "\u001b[1;31mCommand: 'c:/Users/diouf/AppData/Local/Programs/Python/Python310/python.exe -m pip install ipykernel -U --user --force-reinstall'"
     ]
    }
   ],
   "source": [
    "data_kmeans.sample(5)"
   ]
  },
  {
   "cell_type": "code",
   "execution_count": null,
   "id": "4f187e3c-5f8a-4a42-ad36-02d694a19044",
   "metadata": {},
   "outputs": [
    {
     "ename": "",
     "evalue": "",
     "output_type": "error",
     "traceback": [
      "\u001b[1;31mRunning cells with 'Python 3.10.0' requires the ipykernel package.\n",
      "\u001b[1;31mRun the following command to install 'ipykernel' into the Python environment. \n",
      "\u001b[1;31mCommand: 'c:/Users/diouf/AppData/Local/Programs/Python/Python310/python.exe -m pip install ipykernel -U --user --force-reinstall'"
     ]
    }
   ],
   "source": [
    "import pandas as pd\n",
    "import seaborn as sns\n",
    "import matplotlib.pyplot as plt\n",
    "\n",
    "# Create confusion matrix\n",
    "conf_matrix = pd.crosstab(data_kmeans['cluster_origin'], model_kmeans.labels_)\n",
    "\n",
    "# Plot heatmap with customized colors\n",
    "plt.figure(figsize=(7, 5))\n",
    "sns.heatmap(conf_matrix, annot=True, fmt=\".3g\", linewidths=0.3, cmap=\"YlGnBu\")  \n",
    "plt.xlabel(\"Cluster\")\n",
    "plt.title(\"Matrice de confusion Kmeans\\n\")\n",
    "plt.show()"
   ]
  },
  {
   "cell_type": "code",
   "execution_count": null,
   "id": "e1a10747-264b-446f-9809-eec3a2d94f02",
   "metadata": {},
   "outputs": [
    {
     "ename": "",
     "evalue": "",
     "output_type": "error",
     "traceback": [
      "\u001b[1;31mRunning cells with 'Python 3.10.0' requires the ipykernel package.\n",
      "\u001b[1;31mRun the following command to install 'ipykernel' into the Python environment. \n",
      "\u001b[1;31mCommand: 'c:/Users/diouf/AppData/Local/Programs/Python/Python310/python.exe -m pip install ipykernel -U --user --force-reinstall'"
     ]
    }
   ],
   "source": [
    "print(metrics.classification_report(data_kmeans['cluster_origin'],data_kmeans['cluster_kmeans']))"
   ]
  },
  {
   "cell_type": "markdown",
   "id": "b009f0df-2237-4371-941d-b46739175aa0",
   "metadata": {},
   "source": [
    "### Caractéristiques des centroïdes "
   ]
  },
  {
   "cell_type": "code",
   "execution_count": null,
   "id": "2425fbbb-27d5-425b-9097-4735abaa38c1",
   "metadata": {},
   "outputs": [
    {
     "ename": "",
     "evalue": "",
     "output_type": "error",
     "traceback": [
      "\u001b[1;31mRunning cells with 'Python 3.10.0' requires the ipykernel package.\n",
      "\u001b[1;31mRun the following command to install 'ipykernel' into the Python environment. \n",
      "\u001b[1;31mCommand: 'c:/Users/diouf/AppData/Local/Programs/Python/Python310/python.exe -m pip install ipykernel -U --user --force-reinstall'"
     ]
    }
   ],
   "source": [
    "# grouper par cluster avec la moyenne\n",
    "df_kmeans_clusters = X_clustered.groupby(\"cluster\").mean().round(2).reset_index()\n",
    "df_kmeans_clusters"
   ]
  },
  {
   "cell_type": "code",
   "execution_count": null,
   "id": "0e757141-5a29-47a1-94cd-6fe3678e42f8",
   "metadata": {},
   "outputs": [
    {
     "ename": "",
     "evalue": "",
     "output_type": "error",
     "traceback": [
      "\u001b[1;31mRunning cells with 'Python 3.10.0' requires the ipykernel package.\n",
      "\u001b[1;31mRun the following command to install 'ipykernel' into the Python environment. \n",
      "\u001b[1;31mCommand: 'c:/Users/diouf/AppData/Local/Programs/Python/Python310/python.exe -m pip install ipykernel -U --user --force-reinstall'"
     ]
    }
   ],
   "source": [
    "# Fonction de traçage de coordonnées parallèles\n",
    "def display_parallel_coordinates_centroids(df, num_clusters):\n",
    "    '''Affiche un graphique de coordonnées parallèles pour les centroïdes dans df'''\n",
    "\n",
    "    # Créer le graphique\n",
    "    fig = plt.figure(figsize=(12, 5))\n",
    "    title = fig.suptitle(\"Graphique de coordonnées parallèles pour les Centroïdes\", fontsize=18)\n",
    "    fig.subplots_adjust(top=0.9, wspace=0)\n",
    "\n",
    "    # Dessiner le graphique\n",
    "    parallel_coordinates(df, 'cluster', color=palette)\n",
    "\n",
    "    # Espacer les axes\n",
    "    ax = plt.gca()\n",
    "    for tick in ax.xaxis.get_major_ticks()[1::2]:\n",
    "        tick.set_pad(20)"
   ]
  },
  {
   "cell_type": "code",
   "execution_count": null,
   "id": "c6838814-f844-44ea-aa07-28a85d307dfd",
   "metadata": {},
   "outputs": [
    {
     "ename": "",
     "evalue": "",
     "output_type": "error",
     "traceback": [
      "\u001b[1;31mRunning cells with 'Python 3.10.0' requires the ipykernel package.\n",
      "\u001b[1;31mRun the following command to install 'ipykernel' into the Python environment. \n",
      "\u001b[1;31mCommand: 'c:/Users/diouf/AppData/Local/Programs/Python/Python310/python.exe -m pip install ipykernel -U --user --force-reinstall'"
     ]
    }
   ],
   "source": [
    "from pandas.plotting import parallel_coordinates\n",
    "kmeans_ =  X_clustered.groupby(by=\"cluster\").mean()\n",
    "display_parallel_coordinates_centroids(kmeans_.reset_index(), 5)"
   ]
  },
  {
   "cell_type": "markdown",
   "id": "512dbe00-fdef-4f52-ae5f-570bb798b557",
   "metadata": {},
   "source": [
    "# Machine learning supervisé "
   ]
  },
  {
   "cell_type": "markdown",
   "id": "ea458a4e-570b-48aa-96ff-b52fd2556757",
   "metadata": {},
   "source": [
    "## Régression logistique "
   ]
  },
  {
   "cell_type": "code",
   "execution_count": null,
   "id": "0136a3e4-e656-454f-a9e7-47047dae5e3f",
   "metadata": {},
   "outputs": [
    {
     "ename": "",
     "evalue": "",
     "output_type": "error",
     "traceback": [
      "\u001b[1;31mRunning cells with 'Python 3.10.0' requires the ipykernel package.\n",
      "\u001b[1;31mRun the following command to install 'ipykernel' into the Python environment. \n",
      "\u001b[1;31mCommand: 'c:/Users/diouf/AppData/Local/Programs/Python/Python310/python.exe -m pip install ipykernel -U --user --force-reinstall'"
     ]
    }
   ],
   "source": [
    "# Faire une copie\n",
    "df = data.copy()\n",
    "# Afficher les données\n",
    "df.head(3)"
   ]
  },
  {
   "cell_type": "code",
   "execution_count": null,
   "id": "10c200c4-5667-4f2e-afa6-debe24996b1b",
   "metadata": {},
   "outputs": [
    {
     "ename": "",
     "evalue": "",
     "output_type": "error",
     "traceback": [
      "\u001b[1;31mRunning cells with 'Python 3.10.0' requires the ipykernel package.\n",
      "\u001b[1;31mRun the following command to install 'ipykernel' into the Python environment. \n",
      "\u001b[1;31mCommand: 'c:/Users/diouf/AppData/Local/Programs/Python/Python310/python.exe -m pip install ipykernel -U --user --force-reinstall'"
     ]
    }
   ],
   "source": [
    "# Remplacer les données de la colonne \"is_genuine\"\n",
    "df[\"is_genuine\"] = df[\"is_genuine\"].astype(int)\n",
    "# Affichage après remplacement des données\n",
    "df.sample(5)"
   ]
  },
  {
   "cell_type": "code",
   "execution_count": null,
   "id": "fdab7bff-b16c-468e-92c2-683e4b7d987b",
   "metadata": {},
   "outputs": [
    {
     "ename": "",
     "evalue": "",
     "output_type": "error",
     "traceback": [
      "\u001b[1;31mRunning cells with 'Python 3.10.0' requires the ipykernel package.\n",
      "\u001b[1;31mRun the following command to install 'ipykernel' into the Python environment. \n",
      "\u001b[1;31mCommand: 'c:/Users/diouf/AppData/Local/Programs/Python/Python310/python.exe -m pip install ipykernel -U --user --force-reinstall'"
     ]
    }
   ],
   "source": [
    "# features\n",
    "X = df.drop(columns = [\"is_genuine\"], axis = 1)\n",
    "\n",
    "# variable cible            \n",
    "y = df[\"is_genuine\"]   \n",
    "\n",
    "print(X.shape)\n",
    "print(y.shape)"
   ]
  },
  {
   "cell_type": "code",
   "execution_count": null,
   "id": "1320a86b-5ffe-4a10-8571-74428514cd3f",
   "metadata": {},
   "outputs": [
    {
     "ename": "",
     "evalue": "",
     "output_type": "error",
     "traceback": [
      "\u001b[1;31mRunning cells with 'Python 3.10.0' requires the ipykernel package.\n",
      "\u001b[1;31mRun the following command to install 'ipykernel' into the Python environment. \n",
      "\u001b[1;31mCommand: 'c:/Users/diouf/AppData/Local/Programs/Python/Python310/python.exe -m pip install ipykernel -U --user --force-reinstall'"
     ]
    }
   ],
   "source": [
    "# Données d'entrainement et de test\n",
    "seed = 42\n",
    "X_train, X_test, y_train, y_test = train_test_split(X, y, test_size = 0.25, random_state = seed)\n",
    "print(\"X_train shape:\", X_train.shape)\n",
    "print(\"X_test shape:\", X_test.shape)\n",
    "print(\"y_train shape:\", y_train.shape)\n",
    "print(\"y_test shape:\", y_test.shape)"
   ]
  },
  {
   "cell_type": "code",
   "execution_count": null,
   "id": "77c8dd1e-ee14-4636-bc18-cf45f5aa7ae9",
   "metadata": {},
   "outputs": [
    {
     "ename": "",
     "evalue": "",
     "output_type": "error",
     "traceback": [
      "\u001b[1;31mRunning cells with 'Python 3.10.0' requires the ipykernel package.\n",
      "\u001b[1;31mRun the following command to install 'ipykernel' into the Python environment. \n",
      "\u001b[1;31mCommand: 'c:/Users/diouf/AppData/Local/Programs/Python/Python310/python.exe -m pip install ipykernel -U --user --force-reinstall'"
     ]
    }
   ],
   "source": [
    "# Standardisation\n",
    "scaler = StandardScaler()\n",
    "scaler.fit(X_train)\n",
    "X_train = pd.DataFrame(scaler.transform(X_train), columns = X.columns)\n",
    "X_test = pd.DataFrame(scaler.transform(X_test), columns = X.columns)"
   ]
  },
  {
   "cell_type": "code",
   "execution_count": null,
   "id": "b6c9cbf0-8c19-4c79-92b8-50f9c4c15a08",
   "metadata": {},
   "outputs": [
    {
     "ename": "",
     "evalue": "",
     "output_type": "error",
     "traceback": [
      "\u001b[1;31mRunning cells with 'Python 3.10.0' requires the ipykernel package.\n",
      "\u001b[1;31mRun the following command to install 'ipykernel' into the Python environment. \n",
      "\u001b[1;31mCommand: 'c:/Users/diouf/AppData/Local/Programs/Python/Python310/python.exe -m pip install ipykernel -U --user --force-reinstall'"
     ]
    }
   ],
   "source": [
    "# Instanciation du modèle\n",
    "lr_model = LogisticRegression(random_state = 42, solver = 'liblinear', multi_class = 'auto')\n",
    "\n",
    "# Appliquer le modèle (entrainement)\n",
    "lr_model.fit(X_train, y_train)"
   ]
  },
  {
   "cell_type": "code",
   "execution_count": null,
   "id": "2d208964-d053-4c03-aae1-0bf85de2d913",
   "metadata": {},
   "outputs": [
    {
     "ename": "",
     "evalue": "",
     "output_type": "error",
     "traceback": [
      "\u001b[1;31mRunning cells with 'Python 3.10.0' requires the ipykernel package.\n",
      "\u001b[1;31mRun the following command to install 'ipykernel' into the Python environment. \n",
      "\u001b[1;31mCommand: 'c:/Users/diouf/AppData/Local/Programs/Python/Python310/python.exe -m pip install ipykernel -U --user --force-reinstall'"
     ]
    }
   ],
   "source": [
    "# Prédiction\n",
    "y_pred = lr_model.predict(X_test)"
   ]
  },
  {
   "cell_type": "code",
   "execution_count": null,
   "id": "96537f88-6606-4246-ba4b-e85683dc2cd2",
   "metadata": {},
   "outputs": [
    {
     "ename": "",
     "evalue": "",
     "output_type": "error",
     "traceback": [
      "\u001b[1;31mRunning cells with 'Python 3.10.0' requires the ipykernel package.\n",
      "\u001b[1;31mRun the following command to install 'ipykernel' into the Python environment. \n",
      "\u001b[1;31mCommand: 'c:/Users/diouf/AppData/Local/Programs/Python/Python310/python.exe -m pip install ipykernel -U --user --force-reinstall'"
     ]
    }
   ],
   "source": [
    "# Précision globale du modèle\n",
    "print(\"Le score sur les données d'entraînement est :\", lr_model.score(X_train, y_train))\n",
    "print(\"Le score sur les données d'évaluation est :\", lr_model.score(X_test, y_test))"
   ]
  },
  {
   "cell_type": "code",
   "execution_count": null,
   "id": "7c5004e8-8322-41c6-9b43-43d2e27ce934",
   "metadata": {},
   "outputs": [
    {
     "ename": "",
     "evalue": "",
     "output_type": "error",
     "traceback": [
      "\u001b[1;31mRunning cells with 'Python 3.10.0' requires the ipykernel package.\n",
      "\u001b[1;31mRun the following command to install 'ipykernel' into the Python environment. \n",
      "\u001b[1;31mCommand: 'c:/Users/diouf/AppData/Local/Programs/Python/Python310/python.exe -m pip install ipykernel -U --user --force-reinstall'"
     ]
    }
   ],
   "source": [
    "print(metrics.classification_report(y_test, y_pred))"
   ]
  },
  {
   "cell_type": "code",
   "execution_count": null,
   "id": "6c188673-9569-4e51-bee7-24b0a5421a5e",
   "metadata": {},
   "outputs": [
    {
     "ename": "",
     "evalue": "",
     "output_type": "error",
     "traceback": [
      "\u001b[1;31mRunning cells with 'Python 3.10.0' requires the ipykernel package.\n",
      "\u001b[1;31mRun the following command to install 'ipykernel' into the Python environment. \n",
      "\u001b[1;31mCommand: 'c:/Users/diouf/AppData/Local/Programs/Python/Python310/python.exe -m pip install ipykernel -U --user --force-reinstall'"
     ]
    }
   ],
   "source": [
    "# Visualisation des données de la matrice \n",
    "cont_table_rl = pd.crosstab(y_test, y_pred)\n",
    "cont_table_rl"
   ]
  },
  {
   "cell_type": "code",
   "execution_count": null,
   "id": "bd4b5027-1a1f-4756-84a1-eddbae9aa9cb",
   "metadata": {},
   "outputs": [
    {
     "ename": "",
     "evalue": "",
     "output_type": "error",
     "traceback": [
      "\u001b[1;31mRunning cells with 'Python 3.10.0' requires the ipykernel package.\n",
      "\u001b[1;31mRun the following command to install 'ipykernel' into the Python environment. \n",
      "\u001b[1;31mCommand: 'c:/Users/diouf/AppData/Local/Programs/Python/Python310/python.exe -m pip install ipykernel -U --user --force-reinstall'"
     ]
    }
   ],
   "source": [
    "# Visualisation du tableau de contigence\n",
    "plt.figure(figsize = (6, 4))\n",
    "sns.heatmap(cont_table_rl, annot = cont_table_rl, fmt=\".3g\", linewidths=0.3, cmap=\"YlGnBu\")\n",
    "plt.xlabel(\"Prédictions\")\n",
    "plt.title(\"Matrice de confusion avec la régression logistique\", fontsize = 15, fontweight = \"bold\")\n",
    "plt.plot()\n",
    "plt.show()"
   ]
  },
  {
   "cell_type": "code",
   "execution_count": null,
   "id": "008b03a7-a4b9-402f-9d5c-234fd546d606",
   "metadata": {},
   "outputs": [
    {
     "ename": "",
     "evalue": "",
     "output_type": "error",
     "traceback": [
      "\u001b[1;31mRunning cells with 'Python 3.10.0' requires the ipykernel package.\n",
      "\u001b[1;31mRun the following command to install 'ipykernel' into the Python environment. \n",
      "\u001b[1;31mCommand: 'c:/Users/diouf/AppData/Local/Programs/Python/Python310/python.exe -m pip install ipykernel -U --user --force-reinstall'"
     ]
    }
   ],
   "source": [
    "# Sauvegarde du modèle \n",
    "import pickle\n",
    "pickle.dump(lr_model, open(\"classification_model.pkl\", \"wb\"))"
   ]
  },
  {
   "cell_type": "code",
   "execution_count": null,
   "id": "6db94ce6-811b-4f0a-89e1-804d931c2c1b",
   "metadata": {},
   "outputs": [
    {
     "ename": "",
     "evalue": "",
     "output_type": "error",
     "traceback": [
      "\u001b[1;31mRunning cells with 'Python 3.10.0' requires the ipykernel package.\n",
      "\u001b[1;31mRun the following command to install 'ipykernel' into the Python environment. \n",
      "\u001b[1;31mCommand: 'c:/Users/diouf/AppData/Local/Programs/Python/Python310/python.exe -m pip install ipykernel -U --user --force-reinstall'"
     ]
    }
   ],
   "source": []
  },
  {
   "cell_type": "markdown",
   "id": "dcd8cae1-264d-45b0-85f5-487b4b3ea8be",
   "metadata": {},
   "source": [
    "# prédiction sur de nouvelles données"
   ]
  },
  {
   "cell_type": "code",
   "execution_count": null,
   "id": "b9f18745-09f4-4b28-9a96-ae75bf17ebdc",
   "metadata": {},
   "outputs": [
    {
     "ename": "",
     "evalue": "",
     "output_type": "error",
     "traceback": [
      "\u001b[1;31mRunning cells with 'Python 3.10.0' requires the ipykernel package.\n",
      "\u001b[1;31mRun the following command to install 'ipykernel' into the Python environment. \n",
      "\u001b[1;31mCommand: 'c:/Users/diouf/AppData/Local/Programs/Python/Python310/python.exe -m pip install ipykernel -U --user --force-reinstall'"
     ]
    }
   ],
   "source": [
    "# Chargement du modèle pour faire de nouvelles prédictions\n",
    "pickle_model_lr = pickle.load(open(\"classification_model.pkl\", \"rb\"))"
   ]
  },
  {
   "cell_type": "code",
   "execution_count": null,
   "id": "538e1eaf-c546-42fe-ae1c-57a8ee32c60f",
   "metadata": {},
   "outputs": [
    {
     "ename": "",
     "evalue": "",
     "output_type": "error",
     "traceback": [
      "\u001b[1;31mRunning cells with 'Python 3.10.0' requires the ipykernel package.\n",
      "\u001b[1;31mRun the following command to install 'ipykernel' into the Python environment. \n",
      "\u001b[1;31mCommand: 'c:/Users/diouf/AppData/Local/Programs/Python/Python310/python.exe -m pip install ipykernel -U --user --force-reinstall'"
     ]
    }
   ],
   "source": [
    "# Création de la fonction pour automatiser la production du modèle\n",
    "def detect_billet(data):\n",
    "    data_test = data[['diagonal', 'height_left', 'height_right', 'margin_low', 'margin_up','length']]\n",
    "\n",
    "    # Standardisation\n",
    "    scaler = StandardScaler()\n",
    "    scaler.fit(data_test)\n",
    "    data_prod = pd.DataFrame(scaler.transform(data_test), columns = data_test.columns)\n",
    "    # Prédictions\n",
    "    data_test[\"prediction\"] = pickle_model_lr.predict(data_prod)\n",
    "    data_test[[\"proba_faux\",\"proba_vrai\"]] = pickle_model_lr.predict_proba(data_prod)\n",
    "    data_test[\"authentification\"] = pickle_model_lr.predict(data_prod[[\"diagonal\",\"height_left\",\"height_right\",\"margin_low\",\"margin_up\",\"length\"]])\n",
    "    data_test[\"authentification\"].replace([0,1],[\"Faux billet\", \"Vrai billet\"], inplace=True)\n",
    "    \n",
    "    # Afficher les résultats\n",
    "    display(data_test)\n",
    "    print(\"\\n\")\n",
    "    print(\"Nombre total de billets : \", len(data_test))\n",
    "    print(\"Nombre de vrais billets : \", len(data_test[data_test[\"prediction\"] == 1]))\n",
    "    print(\"Nombre de faux billets : \", len(data_test[data_test[\"prediction\"] == 0]), \"\\n\")\n",
    "    \n",
    "    \n",
    "    # Visualisation\n",
    "    labels=[\"Faux billet\", \"Vrai billet\"]\n",
    "    sns.countplot(x = \"authentification\", data = data_test, palette = palette)\n",
    "    plt.ylabel(\"Nombre de billets\")\n",
    "    plt.title(\"Détection du nombre des faux/vrais billets\", fontsize = 15, fontweight = \"bold\")\n",
    "    plt.show()\n",
    "    print(\"\\n\")"
   ]
  },
  {
   "cell_type": "code",
   "execution_count": null,
   "id": "76e42763-cb25-425e-917f-3a5a87ec42f7",
   "metadata": {},
   "outputs": [
    {
     "ename": "",
     "evalue": "",
     "output_type": "error",
     "traceback": [
      "\u001b[1;31mRunning cells with 'Python 3.10.0' requires the ipykernel package.\n",
      "\u001b[1;31mRun the following command to install 'ipykernel' into the Python environment. \n",
      "\u001b[1;31mCommand: 'c:/Users/diouf/AppData/Local/Programs/Python/Python310/python.exe -m pip install ipykernel -U --user --force-reinstall'"
     ]
    }
   ],
   "source": [
    "data_production = pd.read_csv('billets_test.csv', sep =\",\")\n",
    "\n",
    "data_production = data_production[[\"diagonal\",\"height_left\",\"height_right\",\"margin_low\",\"margin_up\",\"length\"]]\n",
    "\n",
    "# Appel de la fonction\n",
    "detect_billet(data_production)"
   ]
  },
  {
   "cell_type": "code",
   "execution_count": null,
   "id": "e0a25eb0-becc-47ca-bcb8-67dc7bc4e1e5",
   "metadata": {},
   "outputs": [
    {
     "ename": "",
     "evalue": "",
     "output_type": "error",
     "traceback": [
      "\u001b[1;31mRunning cells with 'Python 3.10.0' requires the ipykernel package.\n",
      "\u001b[1;31mRun the following command to install 'ipykernel' into the Python environment. \n",
      "\u001b[1;31mCommand: 'c:/Users/diouf/AppData/Local/Programs/Python/Python310/python.exe -m pip install ipykernel -U --user --force-reinstall'"
     ]
    }
   ],
   "source": [
    "data_final = pd.read_csv('billets_test.csv', sep =\",\")\n",
    "\n",
    "data_final = data_final[[\"diagonal\",\"height_left\",\"height_right\",\"margin_low\",\"margin_up\",\"length\"]]\n",
    "\n",
    "# Appel de la fonction\n",
    "detect_billet(data_final)"
   ]
  },
  {
   "cell_type": "code",
   "execution_count": null,
   "id": "ce04ce0e-50d0-4893-bc10-0ae3591f7777",
   "metadata": {},
   "outputs": [
    {
     "ename": "",
     "evalue": "",
     "output_type": "error",
     "traceback": [
      "\u001b[1;31mRunning cells with 'Python 3.10.0' requires the ipykernel package.\n",
      "\u001b[1;31mRun the following command to install 'ipykernel' into the Python environment. \n",
      "\u001b[1;31mCommand: 'c:/Users/diouf/AppData/Local/Programs/Python/Python310/python.exe -m pip install ipykernel -U --user --force-reinstall'"
     ]
    }
   ],
   "source": [
    "# Sauvegarder le scaler dans un fichier\n",
    "with open(\"scaler.pkl\", \"wb\") as file:\n",
    "    pickle.dump(scaler, file)\n",
    "\n",
    "print(\"Scaler sauvegardé dans scaler.pkl\")\n"
   ]
  },
  {
   "cell_type": "code",
   "execution_count": null,
   "id": "0f7fdb67-a3a9-429e-ace6-2a3623f88749",
   "metadata": {},
   "outputs": [
    {
     "ename": "",
     "evalue": "",
     "output_type": "error",
     "traceback": [
      "\u001b[1;31mRunning cells with 'Python 3.10.0' requires the ipykernel package.\n",
      "\u001b[1;31mRun the following command to install 'ipykernel' into the Python environment. \n",
      "\u001b[1;31mCommand: 'c:/Users/diouf/AppData/Local/Programs/Python/Python310/python.exe -m pip install ipykernel -U --user --force-reinstall'"
     ]
    }
   ],
   "source": []
  },
  {
   "cell_type": "code",
   "execution_count": null,
   "id": "9f153108-927b-40b9-8b09-d07d3797a18f",
   "metadata": {},
   "outputs": [
    {
     "ename": "",
     "evalue": "",
     "output_type": "error",
     "traceback": [
      "\u001b[1;31mRunning cells with 'Python 3.10.0' requires the ipykernel package.\n",
      "\u001b[1;31mRun the following command to install 'ipykernel' into the Python environment. \n",
      "\u001b[1;31mCommand: 'c:/Users/diouf/AppData/Local/Programs/Python/Python310/python.exe -m pip install ipykernel -U --user --force-reinstall'"
     ]
    }
   ],
   "source": []
  }
 ],
 "metadata": {
  "kernelspec": {
   "display_name": "Python 3 (ipykernel)",
   "language": "python",
   "name": "python3"
  },
  "language_info": {
   "codemirror_mode": {
    "name": "ipython",
    "version": 3
   },
   "file_extension": ".py",
   "mimetype": "text/x-python",
   "name": "python",
   "nbconvert_exporter": "python",
   "pygments_lexer": "ipython3",
   "version": "3.10.0"
  },
  "toc-autonumbering": true,
  "toc-showmarkdowntxt": true
 },
 "nbformat": 4,
 "nbformat_minor": 5
}
